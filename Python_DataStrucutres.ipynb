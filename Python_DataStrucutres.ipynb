{
 "cells": [
  {
   "cell_type": "markdown",
   "id": "1dc624f0",
   "metadata": {},
   "source": [
    "# String"
   ]
  },
  {
   "cell_type": "code",
   "execution_count": 37,
   "id": "cd6db4dd",
   "metadata": {},
   "outputs": [
    {
     "name": "stdout",
     "output_type": "stream",
     "text": [
      "Sachin\n",
      "Sachin\n"
     ]
    }
   ],
   "source": [
    "#Strings can be created using either single ('...') or double (\"...\") quotes. Both behave the same.\n",
    "\n",
    "s1 = 'Sachin'  # single quote\n",
    "s2 = \"Sachin\"  # double quote\n",
    "print(s1)\n",
    "print(s2)"
   ]
  },
  {
   "cell_type": "code",
   "execution_count": 38,
   "id": "7dbe3c3c",
   "metadata": {},
   "outputs": [
    {
     "name": "stdout",
     "output_type": "stream",
     "text": [
      "I am Learning\n",
      "Python String.\n"
     ]
    }
   ],
   "source": [
    "#Multiline String\n",
    "\n",
    "s = \"\"\"I am Learning\n",
    "Python String.\"\"\"\n",
    "print(s)"
   ]
  },
  {
   "cell_type": "code",
   "execution_count": 39,
   "id": "387f8362",
   "metadata": {},
   "outputs": [
    {
     "name": "stdout",
     "output_type": "stream",
     "text": [
      "c\n",
      "i\n",
      "ach\n",
      " nihcaS\n"
     ]
    }
   ],
   "source": [
    "strg = 'Sachin '\n",
    "print(strg[2])\n",
    "print(strg[-3]) #extra space also count\n",
    "print(strg[1:4])    #slicing characters from index 1 to 3\n",
    "print(strg[::-1])   # reverse string\n"
   ]
  },
  {
   "cell_type": "code",
   "execution_count": 40,
   "id": "9e6956eb",
   "metadata": {},
   "outputs": [
    {
     "name": "stdout",
     "output_type": "stream",
     "text": [
      "A\n",
      "b\n",
      "s\n",
      "e\n",
      "n\n",
      "t\n",
      "e\n",
      "e\n",
      "i\n",
      "s\n",
      "m\n"
     ]
    }
   ],
   "source": [
    "#String Iteration\n",
    "s = 'Absenteeism'\n",
    "\n",
    "for ch in s:\n",
    "    print(ch)"
   ]
  },
  {
   "cell_type": "code",
   "execution_count": 41,
   "id": "52e73cff",
   "metadata": {},
   "outputs": [
    {
     "name": "stdout",
     "output_type": "stream",
     "text": [
      "Gent\n",
      "4\n",
      "GENT\n",
      "gent\n",
      "GentGentGent\n",
      "Gent Sachin \n",
      "First string: Gent, Second string: Sachin \n"
     ]
    }
   ],
   "source": [
    "# String immutability\n",
    "\n",
    "s = \"Absenteeism\"\n",
    "s = \"G\" + s[3:6]   # create new string\n",
    "print(s)\n",
    "print(len(s))\n",
    "\n",
    "print(s.upper())\n",
    "print(s.lower())\n",
    "\n",
    "print(s * 3)\n",
    "print(s + \" \" + strg)\n",
    "\n",
    "print(f\"First string: {s}, Second string: {strg}\")"
   ]
  },
  {
   "cell_type": "markdown",
   "id": "bd700f3d",
   "metadata": {},
   "source": [
    "# List"
   ]
  },
  {
   "cell_type": "code",
   "execution_count": 42,
   "metadata": {},
   "outputs": [
    {
     "data": {
      "text/plain": [
       "[1, 2, 3, 4, 'List', 'items', True]"
      ]
     },
     "execution_count": 42,
     "metadata": {},
     "output_type": "execute_result"
    }
   ],
   "source": [
    "#ordered collection of items, list are flexible, mutable, ordered, index based and store mixed data type\n",
    "\n",
    "lists = [1,2,3,4, 'List',\"items\", True]\n",
    "lists"
   ]
  },
  {
   "cell_type": "code",
   "execution_count": 43,
   "metadata": {},
   "outputs": [
    {
     "name": "stdout",
     "output_type": "stream",
     "text": [
      "6\n",
      "[2, 3, 4]\n"
     ]
    }
   ],
   "source": [
    "b = [2] * 5\n",
    "a = [1,2,3,4,5,6]\n",
    "print(a[-1])\n",
    "print(a[1:4])"
   ]
  },
  {
   "cell_type": "code",
   "execution_count": 44,
   "metadata": {},
   "outputs": [
    {
     "name": "stdout",
     "output_type": "stream",
     "text": [
      "After append(10): [10]\n",
      "After insert(2, 5): [10, 5]\n",
      "After extend([15, 20, 25]): [10, 5, 15, 20, 25]\n",
      "After clear(): []\n"
     ]
    }
   ],
   "source": [
    "a = []\n",
    "\n",
    "a.append(10)  \n",
    "print(\"After append(10):\", a)  \n",
    "\n",
    "a.insert(2, 5)\n",
    "print(\"After insert(2, 5):\", a) \n",
    "\n",
    "a.extend([15, 20, 25])  \n",
    "print(\"After extend([15, 20, 25]):\", a) \n",
    "\n",
    "a.clear()\n",
    "print(\"After clear():\", a)"
   ]
  },
  {
   "cell_type": "code",
   "execution_count": 45,
   "metadata": {},
   "outputs": [
    {
     "name": "stdout",
     "output_type": "stream",
     "text": [
      "apple\n",
      "banana\n",
      "cherry\n"
     ]
    }
   ],
   "source": [
    "a = ['apple', 'banana', 'cherry']\n",
    "for item in a:\n",
    "    print(item)"
   ]
  },
  {
   "cell_type": "code",
   "execution_count": 47,
   "metadata": {},
   "outputs": [
    {
     "name": "stdout",
     "output_type": "stream",
     "text": [
      "[1, 8, 27, 64, 125]\n"
     ]
    }
   ],
   "source": [
    "squares = [x**3 for x in range(1, 6)]\n",
    "print(squares)"
   ]
  },
  {
   "cell_type": "markdown",
   "id": "93cf2177",
   "metadata": {},
   "source": [
    "# Tuple"
   ]
  },
  {
   "cell_type": "markdown",
   "id": "3c728d0c",
   "metadata": {},
   "source": [
    "A tuple in Python is an immutable ordered collection of elements.\n",
    "\n",
    "Tuples are similar to lists, but unlike lists, they cannot be changed after their creation (i.e., they are immutable).\n",
    "Tuples can hold elements of different data types.\n",
    "The main characteristics of tuples are being ordered, heterogeneous and immutable."
   ]
  },
  {
   "cell_type": "code",
   "execution_count": 53,
   "metadata": {},
   "outputs": [
    {
     "name": "stdout",
     "output_type": "stream",
     "text": [
      "('Sachin', 1, 2, 3)\n",
      "(1, 2, 3, 4, 5, 6, 7)\n",
      "('S', 'a', 'c', 'h', 'i', 'n')\n"
     ]
    }
   ],
   "source": [
    "tup = ('Sachin', 1, 2, 3)\n",
    "print(tup)\n",
    "\n",
    "lists = [1,2,3,4,5,6,7]\n",
    "print(tuple(lists))\n",
    "\n",
    "strg = tuple('Sachin')\n",
    "print(strg)"
   ]
  },
  {
   "cell_type": "code",
   "execution_count": 57,
   "metadata": {},
   "outputs": [
    {
     "name": "stdout",
     "output_type": "stream",
     "text": [
      "((1, 2, 3), ('Sachin', 'Gunjal'))\n",
      "(1, 2, 3, 'Sachin', 'Gunjal')\n"
     ]
    }
   ],
   "source": [
    "tup1 = (1,2,3)\n",
    "tup2 = ('Sachin', 'Gunjal')\n",
    "tup3 = (tup1, tup2)\n",
    "print(tup3)\n",
    "print(tup1+tup2)"
   ]
  },
  {
   "cell_type": "code",
   "execution_count": 56,
   "metadata": {},
   "outputs": [
    {
     "name": "stdout",
     "output_type": "stream",
     "text": [
      "1\n",
      "2\n",
      "3\n"
     ]
    }
   ],
   "source": [
    "for i in range(len(tup1)):\n",
    "    print(tup1[i])"
   ]
  },
  {
   "cell_type": "markdown",
   "id": "8c275faa",
   "metadata": {},
   "source": [
    "# Dictionary"
   ]
  },
  {
   "cell_type": "markdown",
   "id": "2cd8a148",
   "metadata": {},
   "source": [
    "Stores the value in key: value pairs. Values in a dictionary can be of any data type and can be duplicated, whereas keys can't be repeated and must be immutable."
   ]
  },
  {
   "cell_type": "code",
   "execution_count": 59,
   "metadata": {},
   "outputs": [
    {
     "name": "stdout",
     "output_type": "stream",
     "text": [
      "{1: 'Sac', 2: 'asd', 3: 'Maybe'}\n",
      "{'a': 'Create', 'b': 'for', 'c': 'construct'}\n"
     ]
    }
   ],
   "source": [
    "d1 = {1: 'Sac', 2: 'asd', 3: 'Maybe'}\n",
    "print(d1)\n",
    "\n",
    "# create dictionary using dict() constructor\n",
    "d2 = dict(a = \"Create\", b = \"for\", c = \"construct\")\n",
    "print(d2)"
   ]
  },
  {
   "cell_type": "code",
   "execution_count": 60,
   "metadata": {},
   "outputs": [
    {
     "name": "stdout",
     "output_type": "stream",
     "text": [
      "Sachin\n",
      "Python\n",
      "Sachin\n"
     ]
    }
   ],
   "source": [
    "d = { \"name\": \"Sachin\", 1: \"Python\", (1, 2): [1,2,4] }\n",
    "\n",
    "# Access using key\n",
    "print(d[\"name\"])\n",
    "print(d[1])\n",
    "# Access using get()\n",
    "print(d.get(\"name\"))"
   ]
  },
  {
   "cell_type": "code",
   "execution_count": 63,
   "metadata": {},
   "outputs": [
    {
     "name": "stdout",
     "output_type": "stream",
     "text": [
      "name\n",
      "1\n",
      "(1, 2)\n",
      "Sachin\n",
      "Python\n",
      "[1, 2, 4]\n",
      "name: Sachin\n",
      "1: Python\n",
      "(1, 2): [1, 2, 4]\n"
     ]
    }
   ],
   "source": [
    "# Iterate over keys\n",
    "for key in d:\n",
    "    print(key)\n",
    "\n",
    "# Iterate over values\n",
    "for value in d.values():\n",
    "    print(value)\n",
    "\n",
    "# Iterate over key-value pairs\n",
    "for key, value in d.items():\n",
    "    print(f\"{key}: {value}\")"
   ]
  },
  {
   "cell_type": "markdown",
   "id": "b9efc75f",
   "metadata": {},
   "source": [
    "# Set"
   ]
  },
  {
   "cell_type": "markdown",
   "id": "1820a80b",
   "metadata": {},
   "source": [
    "unordered collection of multiple items having different datatypes. In Python, sets are mutable, unindexed and do not contain duplicates."
   ]
  },
  {
   "cell_type": "code",
   "execution_count": 64,
   "id": "0d1607b5",
   "metadata": {},
   "outputs": [
    {
     "name": "stdout",
     "output_type": "stream",
     "text": [
      "{1, 2, 3, 4}\n"
     ]
    }
   ],
   "source": [
    "set1 = {1, 2, 3, 4}\n",
    "print(set1)"
   ]
  },
  {
   "cell_type": "code",
   "execution_count": 65,
   "id": "99f5e354",
   "metadata": {},
   "outputs": [
    {
     "name": "stdout",
     "output_type": "stream",
     "text": [
      "set()\n",
      "{'h', 'i', 'n', 'S', 'c', 'a'}\n",
      "{'create', 'For', 'set'}\n",
      "{'create', 'For', 'set'}\n",
      "{'create', 'for', 'set'}\n"
     ]
    }
   ],
   "source": [
    "set1 = set()\n",
    "print(set1)\n",
    "\n",
    "set1 = set(\"Sachin\")\n",
    "print(set1)\n",
    "\n",
    "# Creating a Set with the use of a List\n",
    "set1 = set([\"create\", \"For\", \"set\"])\n",
    "print(set1)\n",
    "\n",
    "# Creating a Set with the use of a tuple\n",
    "tup = (\"create\", \"For\", \"set\")\n",
    "print(set(tup))\n",
    "\n",
    "# Creating a Set with the use of a dictionary\n",
    "d = {\"create\": 1, \"for\": 2, \"set\": 3}\n",
    "print(set(d))"
   ]
  },
  {
   "cell_type": "code",
   "execution_count": 66,
   "id": "eaddbab0",
   "metadata": {},
   "outputs": [
    {
     "name": "stdout",
     "output_type": "stream",
     "text": [
      "{1, 2, 3, 4, 5, 6}\n"
     ]
    }
   ],
   "source": [
    "# Creating a set\n",
    "set1 = {1, 2, 3}\n",
    "\n",
    "# Add one item\n",
    "set1.add(4)\n",
    "\n",
    "# Add multiple items\n",
    "set1.update([5, 6])\n",
    "\n",
    "print(set1)"
   ]
  },
  {
   "cell_type": "code",
   "execution_count": 70,
   "id": "32f09551",
   "metadata": {},
   "outputs": [
    {
     "name": "stdout",
     "output_type": "stream",
     "text": [
      "1 2 3 4 5 6 \n",
      " False\n"
     ]
    }
   ],
   "source": [
    "\n",
    "# Accessing element using For loop\n",
    "for i in set1:\n",
    "    print(i, end=\" \")\n",
    "\n",
    "print(\"\\n\", \"Geeks\" in set1)    "
   ]
  },
  {
   "cell_type": "code",
   "execution_count": 71,
   "id": "5d470b7b",
   "metadata": {},
   "outputs": [
    {
     "name": "stdout",
     "output_type": "stream",
     "text": [
      "1\n",
      "{2, 3, 4, 5}\n"
     ]
    }
   ],
   "source": [
    "set1 = {1, 2, 3, 4, 5}\n",
    "val = set1.pop()\n",
    "print(val)\n",
    "print(set1)\n",
    "\n",
    "# Using pop on an empty set\n",
    "set1.clear()  # Clear the set to make it empty\n"
   ]
  },
  {
   "cell_type": "code",
   "execution_count": null,
   "id": "72280fcf",
   "metadata": {},
   "outputs": [],
   "source": []
  }
 ],
 "metadata": {
  "kernelspec": {
   "display_name": "Python 3",
   "language": "python",
   "name": "python3"
  },
  "language_info": {
   "codemirror_mode": {
    "name": "ipython",
    "version": 3
   },
   "file_extension": ".py",
   "mimetype": "text/x-python",
   "name": "python",
   "nbconvert_exporter": "python",
   "pygments_lexer": "ipython3",
   "version": "3.13.7"
  }
 },
 "nbformat": 4,
 "nbformat_minor": 5
}
