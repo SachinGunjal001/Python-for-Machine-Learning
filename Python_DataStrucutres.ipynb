{
 "cells": [
  {
   "cell_type": "markdown",
   "id": "1dc624f0",
   "metadata": {},
   "source": [
    "# String"
   ]
  },
  {
   "cell_type": "code",
   "execution_count": 1,
   "id": "cd6db4dd",
   "metadata": {},
   "outputs": [
    {
     "name": "stdout",
     "output_type": "stream",
     "text": [
      "Sachin\n",
      "Sachin\n"
     ]
    }
   ],
   "source": [
    "#Strings can be created using either single ('...') or double (\"...\") quotes. Both behave the same.\n",
    "\n",
    "s1 = 'Sachin'  # single quote\n",
    "s2 = \"Sachin\"  # double quote\n",
    "print(s1)\n",
    "print(s2)"
   ]
  },
  {
   "cell_type": "code",
   "execution_count": 3,
   "id": "7dbe3c3c",
   "metadata": {},
   "outputs": [
    {
     "name": "stdout",
     "output_type": "stream",
     "text": [
      "I am Learning\n",
      "Python String.\n"
     ]
    }
   ],
   "source": [
    "#Multiline String\n",
    "\n",
    "s = \"\"\"I am Learning\n",
    "Python String.\"\"\"\n",
    "print(s)"
   ]
  },
  {
   "cell_type": "code",
   "execution_count": 7,
   "id": "387f8362",
   "metadata": {},
   "outputs": [
    {
     "name": "stdout",
     "output_type": "stream",
     "text": [
      "c\n",
      "i\n",
      "ach\n",
      " nihcaS\n"
     ]
    }
   ],
   "source": [
    "strg = 'Sachin '\n",
    "print(strg[2])\n",
    "print(strg[-3]) #extra space also count\n",
    "print(strg[1:4])    #slicing characters from index 1 to 3\n",
    "print(strg[::-1])   # reverse string\n"
   ]
  },
  {
   "cell_type": "code",
   "execution_count": 15,
   "id": "9e6956eb",
   "metadata": {},
   "outputs": [
    {
     "name": "stdout",
     "output_type": "stream",
     "text": [
      "A\n",
      "b\n",
      "s\n",
      "e\n",
      "n\n",
      "t\n",
      "e\n",
      "e\n",
      "i\n",
      "s\n",
      "m\n"
     ]
    }
   ],
   "source": [
    "#String Iteration\n",
    "s = 'Absenteeism'\n",
    "\n",
    "for ch in s:\n",
    "    print(ch)"
   ]
  },
  {
   "cell_type": "code",
   "execution_count": 27,
   "id": "52e73cff",
   "metadata": {},
   "outputs": [
    {
     "name": "stdout",
     "output_type": "stream",
     "text": [
      "Gent\n",
      "4\n",
      "GENT\n",
      "gent\n",
      "GentGentGent\n",
      "Gent Sachin \n",
      "First string: Gent, Second string: Sachin \n"
     ]
    }
   ],
   "source": [
    "# String immutability\n",
    "\n",
    "s = \"Absenteeism\"\n",
    "s = \"G\" + s[3:6]   # create new string\n",
    "print(s)\n",
    "print(len(s))\n",
    "\n",
    "print(s.upper())\n",
    "print(s.lower())\n",
    "\n",
    "print(s * 3)\n",
    "print(s + \" \" + strg)\n",
    "\n",
    "print(f\"First string: {s}, Second string: {strg}\")"
   ]
  },
  {
   "cell_type": "markdown",
   "id": "bd700f3d",
   "metadata": {},
   "source": [
    "# List"
   ]
  },
  {
   "cell_type": "code",
   "execution_count": null,
   "metadata": {},
   "outputs": [],
   "source": []
  },
  {
   "cell_type": "code",
   "execution_count": null,
   "metadata": {},
   "outputs": [],
   "source": []
  },
  {
   "cell_type": "code",
   "execution_count": null,
   "metadata": {},
   "outputs": [],
   "source": []
  },
  {
   "cell_type": "code",
   "execution_count": null,
   "metadata": {},
   "outputs": [],
   "source": []
  },
  {
   "cell_type": "code",
   "execution_count": null,
   "metadata": {},
   "outputs": [],
   "source": []
  },
  {
   "cell_type": "code",
   "execution_count": null,
   "metadata": {},
   "outputs": [],
   "source": []
  },
  {
   "cell_type": "code",
   "execution_count": null,
   "metadata": {},
   "outputs": [],
   "source": []
  },
  {
   "cell_type": "code",
   "execution_count": null,
   "metadata": {},
   "outputs": [],
   "source": []
  },
  {
   "cell_type": "code",
   "execution_count": null,
   "metadata": {},
   "outputs": [],
   "source": []
  },
  {
   "cell_type": "code",
   "execution_count": null,
   "metadata": {},
   "outputs": [],
   "source": []
  },
  {
   "cell_type": "code",
   "execution_count": null,
   "metadata": {},
   "outputs": [],
   "source": []
  },
  {
   "cell_type": "code",
   "execution_count": null,
   "metadata": {},
   "outputs": [],
   "source": []
  },
  {
   "cell_type": "code",
   "execution_count": null,
   "metadata": {},
   "outputs": [],
   "source": []
  },
  {
   "cell_type": "code",
   "execution_count": null,
   "metadata": {},
   "outputs": [],
   "source": []
  },
  {
   "cell_type": "code",
   "execution_count": null,
   "metadata": {},
   "outputs": [],
   "source": []
  },
  {
   "cell_type": "code",
   "execution_count": null,
   "metadata": {},
   "outputs": [],
   "source": []
  },
  {
   "cell_type": "code",
   "execution_count": null,
   "id": "1820a80b",
   "metadata": {},
   "outputs": [],
   "source": []
  },
  {
   "cell_type": "code",
   "execution_count": null,
   "id": "0d1607b5",
   "metadata": {},
   "outputs": [],
   "source": []
  }
 ],
 "metadata": {
  "kernelspec": {
   "display_name": "Python 3",
   "language": "python",
   "name": "python3"
  },
  "language_info": {
   "codemirror_mode": {
    "name": "ipython",
    "version": 3
   },
   "file_extension": ".py",
   "mimetype": "text/x-python",
   "name": "python",
   "nbconvert_exporter": "python",
   "pygments_lexer": "ipython3",
   "version": "3.13.7"
  }
 },
 "nbformat": 4,
 "nbformat_minor": 5
}
