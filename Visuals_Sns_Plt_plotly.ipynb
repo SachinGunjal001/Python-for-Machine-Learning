{
  "cells": [
    {
      "cell_type": "code",
      "execution_count": 134,
      "metadata": {
        "id": "9c04fbc5"
      },
      "outputs": [],
      "source": [
        "# import libraries\n",
        "import pandas as pd"
      ]
    },
    {
      "cell_type": "code",
      "execution_count": 135,
      "metadata": {
        "id": "5a3e980e"
      },
      "outputs": [
        {
          "data": {
            "text/html": [
              "<div>\n",
              "<style scoped>\n",
              "    .dataframe tbody tr th:only-of-type {\n",
              "        vertical-align: middle;\n",
              "    }\n",
              "\n",
              "    .dataframe tbody tr th {\n",
              "        vertical-align: top;\n",
              "    }\n",
              "\n",
              "    .dataframe thead th {\n",
              "        text-align: right;\n",
              "    }\n",
              "</style>\n",
              "<table border=\"1\" class=\"dataframe\">\n",
              "  <thead>\n",
              "    <tr style=\"text-align: right;\">\n",
              "      <th></th>\n",
              "      <th>id</th>\n",
              "      <th>Manufacturer</th>\n",
              "      <th>Model</th>\n",
              "      <th>Type</th>\n",
              "      <th>Min.Price</th>\n",
              "      <th>Price</th>\n",
              "      <th>Max.Price</th>\n",
              "      <th>MPG.city</th>\n",
              "      <th>MPG.highway</th>\n",
              "      <th>AirBags</th>\n",
              "      <th>...</th>\n",
              "      <th>Passengers</th>\n",
              "      <th>Length</th>\n",
              "      <th>Wheelbase</th>\n",
              "      <th>Width</th>\n",
              "      <th>Turn.circle</th>\n",
              "      <th>Rear.seat.room</th>\n",
              "      <th>Luggage.room</th>\n",
              "      <th>Weight</th>\n",
              "      <th>Origin</th>\n",
              "      <th>Make</th>\n",
              "    </tr>\n",
              "  </thead>\n",
              "  <tbody>\n",
              "    <tr>\n",
              "      <th>0</th>\n",
              "      <td>1</td>\n",
              "      <td>Acura</td>\n",
              "      <td>Integra</td>\n",
              "      <td>Small</td>\n",
              "      <td>12.9</td>\n",
              "      <td>15.9</td>\n",
              "      <td>18.8</td>\n",
              "      <td>25</td>\n",
              "      <td>31</td>\n",
              "      <td>NaN</td>\n",
              "      <td>...</td>\n",
              "      <td>5</td>\n",
              "      <td>177</td>\n",
              "      <td>102</td>\n",
              "      <td>68</td>\n",
              "      <td>37</td>\n",
              "      <td>26.5</td>\n",
              "      <td>11.0</td>\n",
              "      <td>2705</td>\n",
              "      <td>non-USA</td>\n",
              "      <td>Acura Integra</td>\n",
              "    </tr>\n",
              "    <tr>\n",
              "      <th>1</th>\n",
              "      <td>2</td>\n",
              "      <td>Acura</td>\n",
              "      <td>Legend</td>\n",
              "      <td>Midsize</td>\n",
              "      <td>29.2</td>\n",
              "      <td>33.9</td>\n",
              "      <td>38.7</td>\n",
              "      <td>18</td>\n",
              "      <td>25</td>\n",
              "      <td>Driver &amp; Passenger</td>\n",
              "      <td>...</td>\n",
              "      <td>5</td>\n",
              "      <td>195</td>\n",
              "      <td>115</td>\n",
              "      <td>71</td>\n",
              "      <td>38</td>\n",
              "      <td>30.0</td>\n",
              "      <td>15.0</td>\n",
              "      <td>3560</td>\n",
              "      <td>non-USA</td>\n",
              "      <td>Acura Legend</td>\n",
              "    </tr>\n",
              "    <tr>\n",
              "      <th>2</th>\n",
              "      <td>3</td>\n",
              "      <td>Audi</td>\n",
              "      <td>90</td>\n",
              "      <td>Compact</td>\n",
              "      <td>25.9</td>\n",
              "      <td>29.1</td>\n",
              "      <td>32.3</td>\n",
              "      <td>20</td>\n",
              "      <td>26</td>\n",
              "      <td>Driver only</td>\n",
              "      <td>...</td>\n",
              "      <td>5</td>\n",
              "      <td>180</td>\n",
              "      <td>102</td>\n",
              "      <td>67</td>\n",
              "      <td>37</td>\n",
              "      <td>28.0</td>\n",
              "      <td>14.0</td>\n",
              "      <td>3375</td>\n",
              "      <td>non-USA</td>\n",
              "      <td>Audi 90</td>\n",
              "    </tr>\n",
              "    <tr>\n",
              "      <th>3</th>\n",
              "      <td>4</td>\n",
              "      <td>Audi</td>\n",
              "      <td>100</td>\n",
              "      <td>Midsize</td>\n",
              "      <td>30.8</td>\n",
              "      <td>37.7</td>\n",
              "      <td>44.6</td>\n",
              "      <td>19</td>\n",
              "      <td>26</td>\n",
              "      <td>NaN</td>\n",
              "      <td>...</td>\n",
              "      <td>6</td>\n",
              "      <td>193</td>\n",
              "      <td>106</td>\n",
              "      <td>70</td>\n",
              "      <td>37</td>\n",
              "      <td>31.0</td>\n",
              "      <td>17.0</td>\n",
              "      <td>3405</td>\n",
              "      <td>non-USA</td>\n",
              "      <td>Audi 100</td>\n",
              "    </tr>\n",
              "    <tr>\n",
              "      <th>4</th>\n",
              "      <td>5</td>\n",
              "      <td>BMW</td>\n",
              "      <td>535i</td>\n",
              "      <td>Midsize</td>\n",
              "      <td>23.7</td>\n",
              "      <td>30.0</td>\n",
              "      <td>36.2</td>\n",
              "      <td>22</td>\n",
              "      <td>30</td>\n",
              "      <td>Driver only</td>\n",
              "      <td>...</td>\n",
              "      <td>4</td>\n",
              "      <td>186</td>\n",
              "      <td>109</td>\n",
              "      <td>69</td>\n",
              "      <td>39</td>\n",
              "      <td>27.0</td>\n",
              "      <td>13.0</td>\n",
              "      <td>3640</td>\n",
              "      <td>non-USA</td>\n",
              "      <td>BMW 535i</td>\n",
              "    </tr>\n",
              "    <tr>\n",
              "      <th>...</th>\n",
              "      <td>...</td>\n",
              "      <td>...</td>\n",
              "      <td>...</td>\n",
              "      <td>...</td>\n",
              "      <td>...</td>\n",
              "      <td>...</td>\n",
              "      <td>...</td>\n",
              "      <td>...</td>\n",
              "      <td>...</td>\n",
              "      <td>...</td>\n",
              "      <td>...</td>\n",
              "      <td>...</td>\n",
              "      <td>...</td>\n",
              "      <td>...</td>\n",
              "      <td>...</td>\n",
              "      <td>...</td>\n",
              "      <td>...</td>\n",
              "      <td>...</td>\n",
              "      <td>...</td>\n",
              "      <td>...</td>\n",
              "      <td>...</td>\n",
              "    </tr>\n",
              "    <tr>\n",
              "      <th>88</th>\n",
              "      <td>89</td>\n",
              "      <td>Volkswagen</td>\n",
              "      <td>Eurovan</td>\n",
              "      <td>Van</td>\n",
              "      <td>16.6</td>\n",
              "      <td>19.7</td>\n",
              "      <td>22.7</td>\n",
              "      <td>17</td>\n",
              "      <td>21</td>\n",
              "      <td>NaN</td>\n",
              "      <td>...</td>\n",
              "      <td>7</td>\n",
              "      <td>187</td>\n",
              "      <td>115</td>\n",
              "      <td>72</td>\n",
              "      <td>38</td>\n",
              "      <td>34.0</td>\n",
              "      <td>NaN</td>\n",
              "      <td>3960</td>\n",
              "      <td>non-USA</td>\n",
              "      <td>Volkswagen Eurovan</td>\n",
              "    </tr>\n",
              "    <tr>\n",
              "      <th>89</th>\n",
              "      <td>90</td>\n",
              "      <td>Volkswagen</td>\n",
              "      <td>Passat</td>\n",
              "      <td>Compact</td>\n",
              "      <td>17.6</td>\n",
              "      <td>20.0</td>\n",
              "      <td>22.4</td>\n",
              "      <td>21</td>\n",
              "      <td>30</td>\n",
              "      <td>NaN</td>\n",
              "      <td>...</td>\n",
              "      <td>5</td>\n",
              "      <td>180</td>\n",
              "      <td>103</td>\n",
              "      <td>67</td>\n",
              "      <td>35</td>\n",
              "      <td>31.5</td>\n",
              "      <td>14.0</td>\n",
              "      <td>2985</td>\n",
              "      <td>non-USA</td>\n",
              "      <td>Volkswagen Passat</td>\n",
              "    </tr>\n",
              "    <tr>\n",
              "      <th>90</th>\n",
              "      <td>91</td>\n",
              "      <td>Volkswagen</td>\n",
              "      <td>Corrado</td>\n",
              "      <td>Sporty</td>\n",
              "      <td>22.9</td>\n",
              "      <td>23.3</td>\n",
              "      <td>23.7</td>\n",
              "      <td>18</td>\n",
              "      <td>25</td>\n",
              "      <td>NaN</td>\n",
              "      <td>...</td>\n",
              "      <td>4</td>\n",
              "      <td>159</td>\n",
              "      <td>97</td>\n",
              "      <td>66</td>\n",
              "      <td>36</td>\n",
              "      <td>26.0</td>\n",
              "      <td>15.0</td>\n",
              "      <td>2810</td>\n",
              "      <td>non-USA</td>\n",
              "      <td>Volkswagen Corrado</td>\n",
              "    </tr>\n",
              "    <tr>\n",
              "      <th>91</th>\n",
              "      <td>92</td>\n",
              "      <td>Volvo</td>\n",
              "      <td>240</td>\n",
              "      <td>Compact</td>\n",
              "      <td>21.8</td>\n",
              "      <td>22.7</td>\n",
              "      <td>23.5</td>\n",
              "      <td>21</td>\n",
              "      <td>28</td>\n",
              "      <td>Driver only</td>\n",
              "      <td>...</td>\n",
              "      <td>5</td>\n",
              "      <td>190</td>\n",
              "      <td>104</td>\n",
              "      <td>67</td>\n",
              "      <td>37</td>\n",
              "      <td>29.5</td>\n",
              "      <td>14.0</td>\n",
              "      <td>2985</td>\n",
              "      <td>non-USA</td>\n",
              "      <td>Volvo 240</td>\n",
              "    </tr>\n",
              "    <tr>\n",
              "      <th>92</th>\n",
              "      <td>93</td>\n",
              "      <td>Volvo</td>\n",
              "      <td>850</td>\n",
              "      <td>Midsize</td>\n",
              "      <td>24.8</td>\n",
              "      <td>26.7</td>\n",
              "      <td>28.5</td>\n",
              "      <td>20</td>\n",
              "      <td>28</td>\n",
              "      <td>Driver &amp; Passenger</td>\n",
              "      <td>...</td>\n",
              "      <td>5</td>\n",
              "      <td>184</td>\n",
              "      <td>105</td>\n",
              "      <td>69</td>\n",
              "      <td>38</td>\n",
              "      <td>30.0</td>\n",
              "      <td>15.0</td>\n",
              "      <td>3245</td>\n",
              "      <td>non-USA</td>\n",
              "      <td>Volvo 850</td>\n",
              "    </tr>\n",
              "  </tbody>\n",
              "</table>\n",
              "<p>93 rows × 28 columns</p>\n",
              "</div>"
            ],
            "text/plain": [
              "    id Manufacturer    Model     Type  Min.Price  Price  Max.Price  MPG.city  \\\n",
              "0    1        Acura  Integra    Small       12.9   15.9       18.8        25   \n",
              "1    2        Acura   Legend  Midsize       29.2   33.9       38.7        18   \n",
              "2    3         Audi       90  Compact       25.9   29.1       32.3        20   \n",
              "3    4         Audi      100  Midsize       30.8   37.7       44.6        19   \n",
              "4    5          BMW     535i  Midsize       23.7   30.0       36.2        22   \n",
              "..  ..          ...      ...      ...        ...    ...        ...       ...   \n",
              "88  89   Volkswagen  Eurovan      Van       16.6   19.7       22.7        17   \n",
              "89  90   Volkswagen   Passat  Compact       17.6   20.0       22.4        21   \n",
              "90  91   Volkswagen  Corrado   Sporty       22.9   23.3       23.7        18   \n",
              "91  92        Volvo      240  Compact       21.8   22.7       23.5        21   \n",
              "92  93        Volvo      850  Midsize       24.8   26.7       28.5        20   \n",
              "\n",
              "    MPG.highway             AirBags  ... Passengers Length  Wheelbase  Width  \\\n",
              "0            31                 NaN  ...          5    177        102     68   \n",
              "1            25  Driver & Passenger  ...          5    195        115     71   \n",
              "2            26         Driver only  ...          5    180        102     67   \n",
              "3            26                 NaN  ...          6    193        106     70   \n",
              "4            30         Driver only  ...          4    186        109     69   \n",
              "..          ...                 ...  ...        ...    ...        ...    ...   \n",
              "88           21                 NaN  ...          7    187        115     72   \n",
              "89           30                 NaN  ...          5    180        103     67   \n",
              "90           25                 NaN  ...          4    159         97     66   \n",
              "91           28         Driver only  ...          5    190        104     67   \n",
              "92           28  Driver & Passenger  ...          5    184        105     69   \n",
              "\n",
              "    Turn.circle  Rear.seat.room Luggage.room  Weight   Origin  \\\n",
              "0            37            26.5         11.0    2705  non-USA   \n",
              "1            38            30.0         15.0    3560  non-USA   \n",
              "2            37            28.0         14.0    3375  non-USA   \n",
              "3            37            31.0         17.0    3405  non-USA   \n",
              "4            39            27.0         13.0    3640  non-USA   \n",
              "..          ...             ...          ...     ...      ...   \n",
              "88           38            34.0          NaN    3960  non-USA   \n",
              "89           35            31.5         14.0    2985  non-USA   \n",
              "90           36            26.0         15.0    2810  non-USA   \n",
              "91           37            29.5         14.0    2985  non-USA   \n",
              "92           38            30.0         15.0    3245  non-USA   \n",
              "\n",
              "                  Make  \n",
              "0        Acura Integra  \n",
              "1         Acura Legend  \n",
              "2              Audi 90  \n",
              "3             Audi 100  \n",
              "4             BMW 535i  \n",
              "..                 ...  \n",
              "88  Volkswagen Eurovan  \n",
              "89   Volkswagen Passat  \n",
              "90  Volkswagen Corrado  \n",
              "91           Volvo 240  \n",
              "92           Volvo 850  \n",
              "\n",
              "[93 rows x 28 columns]"
            ]
          },
          "execution_count": 135,
          "metadata": {},
          "output_type": "execute_result"
        }
      ],
      "source": [
        "# Read external file\n",
        "\n",
        "cars = pd.read_csv('Cars93.CSV')\n",
        "cars"
      ]
    },
    {
      "cell_type": "markdown",
      "metadata": {},
      "source": [
        "1. Read the cars dataset file\n",
        "2. EDA (Exploratory Data Analysis)\n",
        "    a. Describe()\n",
        "    b. Info()\n",
        "    c. Datatype\n",
        "    d. Check missing values\n",
        "    e. Treat missing values\n",
        "    f."
      ]
    },
    {
      "cell_type": "markdown",
      "metadata": {},
      "source": [
        "Dimensions \n",
        "Columns\n",
        "Statistical describe describe()\n",
        "Information"
      ]
    },
    {
      "cell_type": "code",
      "execution_count": 136,
      "metadata": {
        "id": "bb9b838c"
      },
      "outputs": [
        {
          "name": "stdout",
          "output_type": "stream",
          "text": [
            "<class 'pandas.core.frame.DataFrame'>\n",
            "RangeIndex: 93 entries, 0 to 92\n",
            "Data columns (total 28 columns):\n",
            " #   Column              Non-Null Count  Dtype  \n",
            "---  ------              --------------  -----  \n",
            " 0   id                  93 non-null     int64  \n",
            " 1   Manufacturer        93 non-null     object \n",
            " 2   Model               93 non-null     object \n",
            " 3   Type                93 non-null     object \n",
            " 4   Min.Price           93 non-null     float64\n",
            " 5   Price               93 non-null     float64\n",
            " 6   Max.Price           93 non-null     float64\n",
            " 7   MPG.city            93 non-null     int64  \n",
            " 8   MPG.highway         93 non-null     int64  \n",
            " 9   AirBags             56 non-null     object \n",
            " 10  DriveTrain          93 non-null     object \n",
            " 11  Cylinders           93 non-null     object \n",
            " 12  EngineSize          93 non-null     float64\n",
            " 13  Horsepower          93 non-null     int64  \n",
            " 14  RPM                 93 non-null     int64  \n",
            " 15  Rev.per.mile        93 non-null     int64  \n",
            " 16  Man.trans.avail     93 non-null     object \n",
            " 17  Fuel.tank.capacity  93 non-null     float64\n",
            " 18  Passengers          93 non-null     int64  \n",
            " 19  Length              93 non-null     int64  \n",
            " 20  Wheelbase           93 non-null     int64  \n",
            " 21  Width               93 non-null     int64  \n",
            " 22  Turn.circle         93 non-null     int64  \n",
            " 23  Rear.seat.room      91 non-null     float64\n",
            " 24  Luggage.room        82 non-null     float64\n",
            " 25  Weight              93 non-null     int64  \n",
            " 26  Origin              93 non-null     object \n",
            " 27  Make                93 non-null     object \n",
            "dtypes: float64(7), int64(12), object(9)\n",
            "memory usage: 20.5+ KB\n"
          ]
        }
      ],
      "source": [
        "# check the info of dataset\n",
        "\n",
        "cars.info()"
      ]
    },
    {
      "cell_type": "code",
      "execution_count": 137,
      "metadata": {},
      "outputs": [
        {
          "data": {
            "text/html": [
              "<div>\n",
              "<style scoped>\n",
              "    .dataframe tbody tr th:only-of-type {\n",
              "        vertical-align: middle;\n",
              "    }\n",
              "\n",
              "    .dataframe tbody tr th {\n",
              "        vertical-align: top;\n",
              "    }\n",
              "\n",
              "    .dataframe thead th {\n",
              "        text-align: right;\n",
              "    }\n",
              "</style>\n",
              "<table border=\"1\" class=\"dataframe\">\n",
              "  <thead>\n",
              "    <tr style=\"text-align: right;\">\n",
              "      <th></th>\n",
              "      <th>id</th>\n",
              "      <th>Min.Price</th>\n",
              "      <th>Price</th>\n",
              "      <th>Max.Price</th>\n",
              "      <th>MPG.city</th>\n",
              "      <th>MPG.highway</th>\n",
              "      <th>EngineSize</th>\n",
              "      <th>Horsepower</th>\n",
              "      <th>RPM</th>\n",
              "      <th>Rev.per.mile</th>\n",
              "      <th>Fuel.tank.capacity</th>\n",
              "      <th>Passengers</th>\n",
              "      <th>Length</th>\n",
              "      <th>Wheelbase</th>\n",
              "      <th>Width</th>\n",
              "      <th>Turn.circle</th>\n",
              "      <th>Rear.seat.room</th>\n",
              "      <th>Luggage.room</th>\n",
              "      <th>Weight</th>\n",
              "    </tr>\n",
              "  </thead>\n",
              "  <tbody>\n",
              "    <tr>\n",
              "      <th>count</th>\n",
              "      <td>93.000000</td>\n",
              "      <td>93.000000</td>\n",
              "      <td>93.000000</td>\n",
              "      <td>93.000000</td>\n",
              "      <td>93.000000</td>\n",
              "      <td>93.000000</td>\n",
              "      <td>93.000000</td>\n",
              "      <td>93.000000</td>\n",
              "      <td>93.000000</td>\n",
              "      <td>93.000000</td>\n",
              "      <td>93.000000</td>\n",
              "      <td>93.000000</td>\n",
              "      <td>93.000000</td>\n",
              "      <td>93.000000</td>\n",
              "      <td>93.000000</td>\n",
              "      <td>93.000000</td>\n",
              "      <td>91.000000</td>\n",
              "      <td>82.000000</td>\n",
              "      <td>93.000000</td>\n",
              "    </tr>\n",
              "    <tr>\n",
              "      <th>mean</th>\n",
              "      <td>47.000000</td>\n",
              "      <td>17.125806</td>\n",
              "      <td>19.509677</td>\n",
              "      <td>21.898925</td>\n",
              "      <td>22.365591</td>\n",
              "      <td>29.086022</td>\n",
              "      <td>2.667742</td>\n",
              "      <td>143.827957</td>\n",
              "      <td>5280.645161</td>\n",
              "      <td>2332.204301</td>\n",
              "      <td>16.664516</td>\n",
              "      <td>5.086022</td>\n",
              "      <td>183.204301</td>\n",
              "      <td>103.946237</td>\n",
              "      <td>69.376344</td>\n",
              "      <td>38.956989</td>\n",
              "      <td>27.829670</td>\n",
              "      <td>13.890244</td>\n",
              "      <td>3072.903226</td>\n",
              "    </tr>\n",
              "    <tr>\n",
              "      <th>std</th>\n",
              "      <td>26.990739</td>\n",
              "      <td>8.746029</td>\n",
              "      <td>9.659430</td>\n",
              "      <td>11.030457</td>\n",
              "      <td>5.619812</td>\n",
              "      <td>5.331726</td>\n",
              "      <td>1.037363</td>\n",
              "      <td>52.374410</td>\n",
              "      <td>596.731690</td>\n",
              "      <td>496.506525</td>\n",
              "      <td>3.279370</td>\n",
              "      <td>1.038979</td>\n",
              "      <td>14.602382</td>\n",
              "      <td>6.819674</td>\n",
              "      <td>3.778986</td>\n",
              "      <td>3.223265</td>\n",
              "      <td>2.989072</td>\n",
              "      <td>2.997967</td>\n",
              "      <td>589.896510</td>\n",
              "    </tr>\n",
              "    <tr>\n",
              "      <th>min</th>\n",
              "      <td>1.000000</td>\n",
              "      <td>6.700000</td>\n",
              "      <td>7.400000</td>\n",
              "      <td>7.900000</td>\n",
              "      <td>15.000000</td>\n",
              "      <td>20.000000</td>\n",
              "      <td>1.000000</td>\n",
              "      <td>55.000000</td>\n",
              "      <td>3800.000000</td>\n",
              "      <td>1320.000000</td>\n",
              "      <td>9.200000</td>\n",
              "      <td>2.000000</td>\n",
              "      <td>141.000000</td>\n",
              "      <td>90.000000</td>\n",
              "      <td>60.000000</td>\n",
              "      <td>32.000000</td>\n",
              "      <td>19.000000</td>\n",
              "      <td>6.000000</td>\n",
              "      <td>1695.000000</td>\n",
              "    </tr>\n",
              "    <tr>\n",
              "      <th>25%</th>\n",
              "      <td>24.000000</td>\n",
              "      <td>10.800000</td>\n",
              "      <td>12.200000</td>\n",
              "      <td>14.700000</td>\n",
              "      <td>18.000000</td>\n",
              "      <td>26.000000</td>\n",
              "      <td>1.800000</td>\n",
              "      <td>103.000000</td>\n",
              "      <td>4800.000000</td>\n",
              "      <td>1985.000000</td>\n",
              "      <td>14.500000</td>\n",
              "      <td>4.000000</td>\n",
              "      <td>174.000000</td>\n",
              "      <td>98.000000</td>\n",
              "      <td>67.000000</td>\n",
              "      <td>37.000000</td>\n",
              "      <td>26.000000</td>\n",
              "      <td>12.000000</td>\n",
              "      <td>2620.000000</td>\n",
              "    </tr>\n",
              "    <tr>\n",
              "      <th>50%</th>\n",
              "      <td>47.000000</td>\n",
              "      <td>14.700000</td>\n",
              "      <td>17.700000</td>\n",
              "      <td>19.600000</td>\n",
              "      <td>21.000000</td>\n",
              "      <td>28.000000</td>\n",
              "      <td>2.400000</td>\n",
              "      <td>140.000000</td>\n",
              "      <td>5200.000000</td>\n",
              "      <td>2340.000000</td>\n",
              "      <td>16.400000</td>\n",
              "      <td>5.000000</td>\n",
              "      <td>183.000000</td>\n",
              "      <td>103.000000</td>\n",
              "      <td>69.000000</td>\n",
              "      <td>39.000000</td>\n",
              "      <td>27.500000</td>\n",
              "      <td>14.000000</td>\n",
              "      <td>3040.000000</td>\n",
              "    </tr>\n",
              "    <tr>\n",
              "      <th>75%</th>\n",
              "      <td>70.000000</td>\n",
              "      <td>20.300000</td>\n",
              "      <td>23.300000</td>\n",
              "      <td>25.300000</td>\n",
              "      <td>25.000000</td>\n",
              "      <td>31.000000</td>\n",
              "      <td>3.300000</td>\n",
              "      <td>170.000000</td>\n",
              "      <td>5750.000000</td>\n",
              "      <td>2565.000000</td>\n",
              "      <td>18.800000</td>\n",
              "      <td>6.000000</td>\n",
              "      <td>192.000000</td>\n",
              "      <td>110.000000</td>\n",
              "      <td>72.000000</td>\n",
              "      <td>41.000000</td>\n",
              "      <td>30.000000</td>\n",
              "      <td>15.000000</td>\n",
              "      <td>3525.000000</td>\n",
              "    </tr>\n",
              "    <tr>\n",
              "      <th>max</th>\n",
              "      <td>93.000000</td>\n",
              "      <td>45.400000</td>\n",
              "      <td>61.900000</td>\n",
              "      <td>80.000000</td>\n",
              "      <td>46.000000</td>\n",
              "      <td>50.000000</td>\n",
              "      <td>5.700000</td>\n",
              "      <td>300.000000</td>\n",
              "      <td>6500.000000</td>\n",
              "      <td>3755.000000</td>\n",
              "      <td>27.000000</td>\n",
              "      <td>8.000000</td>\n",
              "      <td>219.000000</td>\n",
              "      <td>119.000000</td>\n",
              "      <td>78.000000</td>\n",
              "      <td>45.000000</td>\n",
              "      <td>36.000000</td>\n",
              "      <td>22.000000</td>\n",
              "      <td>4105.000000</td>\n",
              "    </tr>\n",
              "  </tbody>\n",
              "</table>\n",
              "</div>"
            ],
            "text/plain": [
              "              id  Min.Price      Price  Max.Price   MPG.city  MPG.highway  \\\n",
              "count  93.000000  93.000000  93.000000  93.000000  93.000000    93.000000   \n",
              "mean   47.000000  17.125806  19.509677  21.898925  22.365591    29.086022   \n",
              "std    26.990739   8.746029   9.659430  11.030457   5.619812     5.331726   \n",
              "min     1.000000   6.700000   7.400000   7.900000  15.000000    20.000000   \n",
              "25%    24.000000  10.800000  12.200000  14.700000  18.000000    26.000000   \n",
              "50%    47.000000  14.700000  17.700000  19.600000  21.000000    28.000000   \n",
              "75%    70.000000  20.300000  23.300000  25.300000  25.000000    31.000000   \n",
              "max    93.000000  45.400000  61.900000  80.000000  46.000000    50.000000   \n",
              "\n",
              "       EngineSize  Horsepower          RPM  Rev.per.mile  Fuel.tank.capacity  \\\n",
              "count   93.000000   93.000000    93.000000     93.000000           93.000000   \n",
              "mean     2.667742  143.827957  5280.645161   2332.204301           16.664516   \n",
              "std      1.037363   52.374410   596.731690    496.506525            3.279370   \n",
              "min      1.000000   55.000000  3800.000000   1320.000000            9.200000   \n",
              "25%      1.800000  103.000000  4800.000000   1985.000000           14.500000   \n",
              "50%      2.400000  140.000000  5200.000000   2340.000000           16.400000   \n",
              "75%      3.300000  170.000000  5750.000000   2565.000000           18.800000   \n",
              "max      5.700000  300.000000  6500.000000   3755.000000           27.000000   \n",
              "\n",
              "       Passengers      Length   Wheelbase      Width  Turn.circle  \\\n",
              "count   93.000000   93.000000   93.000000  93.000000    93.000000   \n",
              "mean     5.086022  183.204301  103.946237  69.376344    38.956989   \n",
              "std      1.038979   14.602382    6.819674   3.778986     3.223265   \n",
              "min      2.000000  141.000000   90.000000  60.000000    32.000000   \n",
              "25%      4.000000  174.000000   98.000000  67.000000    37.000000   \n",
              "50%      5.000000  183.000000  103.000000  69.000000    39.000000   \n",
              "75%      6.000000  192.000000  110.000000  72.000000    41.000000   \n",
              "max      8.000000  219.000000  119.000000  78.000000    45.000000   \n",
              "\n",
              "       Rear.seat.room  Luggage.room       Weight  \n",
              "count       91.000000     82.000000    93.000000  \n",
              "mean        27.829670     13.890244  3072.903226  \n",
              "std          2.989072      2.997967   589.896510  \n",
              "min         19.000000      6.000000  1695.000000  \n",
              "25%         26.000000     12.000000  2620.000000  \n",
              "50%         27.500000     14.000000  3040.000000  \n",
              "75%         30.000000     15.000000  3525.000000  \n",
              "max         36.000000     22.000000  4105.000000  "
            ]
          },
          "execution_count": 137,
          "metadata": {},
          "output_type": "execute_result"
        }
      ],
      "source": [
        "# check for statistical details\n",
        "cars.describe()"
      ]
    },
    {
      "cell_type": "code",
      "execution_count": 138,
      "metadata": {
        "id": "0047a3b5"
      },
      "outputs": [
        {
          "data": {
            "text/plain": [
              "id                     0\n",
              "Manufacturer           0\n",
              "Model                  0\n",
              "Type                   0\n",
              "Min.Price              0\n",
              "Price                  0\n",
              "Max.Price              0\n",
              "MPG.city               0\n",
              "MPG.highway            0\n",
              "AirBags               37\n",
              "DriveTrain             0\n",
              "Cylinders              0\n",
              "EngineSize             0\n",
              "Horsepower             0\n",
              "RPM                    0\n",
              "Rev.per.mile           0\n",
              "Man.trans.avail        0\n",
              "Fuel.tank.capacity     0\n",
              "Passengers             0\n",
              "Length                 0\n",
              "Wheelbase              0\n",
              "Width                  0\n",
              "Turn.circle            0\n",
              "Rear.seat.room         2\n",
              "Luggage.room          11\n",
              "Weight                 0\n",
              "Origin                 0\n",
              "Make                   0\n",
              "dtype: int64"
            ]
          },
          "execution_count": 138,
          "metadata": {},
          "output_type": "execute_result"
        }
      ],
      "source": [
        "# check for null values\n",
        "cars.isnull().sum()"
      ]
    },
    {
      "cell_type": "code",
      "execution_count": 139,
      "metadata": {
        "id": "0f7c0a3e"
      },
      "outputs": [
        {
          "data": {
            "text/plain": [
              "Index(['id', 'Manufacturer', 'Model', 'Type', 'Min.Price', 'Price',\n",
              "       'Max.Price', 'MPG.city', 'MPG.highway', 'AirBags', 'DriveTrain',\n",
              "       'Cylinders', 'EngineSize', 'Horsepower', 'RPM', 'Rev.per.mile',\n",
              "       'Man.trans.avail', 'Fuel.tank.capacity', 'Passengers', 'Length',\n",
              "       'Wheelbase', 'Width', 'Turn.circle', 'Rear.seat.room', 'Luggage.room',\n",
              "       'Weight', 'Origin', 'Make'],\n",
              "      dtype='object')"
            ]
          },
          "execution_count": 139,
          "metadata": {},
          "output_type": "execute_result"
        }
      ],
      "source": [
        "# display columns\n",
        "cars.columns"
      ]
    },
    {
      "cell_type": "code",
      "execution_count": 140,
      "metadata": {},
      "outputs": [
        {
          "name": "stdout",
          "output_type": "stream",
          "text": [
            "['Acura' 'Audi' 'BMW' 'Buick' 'Cadillac' 'Chevrolet' 'Chrylser' 'Chrysler'\n",
            " 'Dodge' 'Eagle' 'Ford' 'Geo' 'Honda' 'Hyundai' 'Infiniti' 'Lexus'\n",
            " 'Lincoln' 'Mazda' 'Mercedes-Benz' 'Mercury' 'Mitsubishi' 'Nissan'\n",
            " 'Oldsmobile' 'Plymouth' 'Pontiac' 'Saab' 'Saturn' 'Subaru' 'Suzuki'\n",
            " 'Toyota' 'Volkswagen' 'Volvo']\n"
          ]
        },
        {
          "data": {
            "text/plain": [
              "32"
            ]
          },
          "execution_count": 140,
          "metadata": {},
          "output_type": "execute_result"
        }
      ],
      "source": [
        "print(cars['Manufacturer'].unique())\n",
        "cars['Manufacturer'].nunique()"
      ]
    },
    {
      "cell_type": "code",
      "execution_count": 141,
      "metadata": {},
      "outputs": [
        {
          "data": {
            "text/plain": [
              "Origin\n",
              "USA        48\n",
              "non-USA    45\n",
              "Name: count, dtype: int64"
            ]
          },
          "execution_count": 141,
          "metadata": {},
          "output_type": "execute_result"
        }
      ],
      "source": [
        "#Value COunt\n",
        "cars['Origin'].value_counts()"
      ]
    },
    {
      "cell_type": "code",
      "execution_count": 142,
      "metadata": {},
      "outputs": [
        {
          "data": {
            "text/plain": [
              "np.int64(93)"
            ]
          },
          "execution_count": 142,
          "metadata": {},
          "output_type": "execute_result"
        }
      ],
      "source": [
        "cars['Price'].count()"
      ]
    },
    {
      "cell_type": "code",
      "execution_count": 143,
      "metadata": {},
      "outputs": [
        {
          "name": "stdout",
          "output_type": "stream",
          "text": [
            "Categorical:  ['Manufacturer', 'Model', 'Type', 'AirBags', 'DriveTrain', 'Cylinders', 'Man.trans.avail', 'Origin', 'Make'] \n",
            " Numerical:  ['id', 'Min.Price', 'Price', 'Max.Price', 'MPG.city', 'MPG.highway', 'EngineSize', 'Horsepower', 'RPM', 'Rev.per.mile', 'Fuel.tank.capacity', 'Passengers', 'Length', 'Wheelbase', 'Width', 'Turn.circle', 'Rear.seat.room', 'Luggage.room', 'Weight']\n"
          ]
        }
      ],
      "source": [
        "cat=[]\n",
        "con=[]\n",
        "for i in cars.columns:\n",
        "    if cars[i].dtype == 'object':\n",
        "        cat.append(i)\n",
        "    else:\n",
        "        con.append(i)\n",
        "\n",
        "print(\"Categorical: \",cat, \"\\n\", \"Numerical: \",con)"
      ]
    },
    {
      "cell_type": "code",
      "execution_count": 1,
      "metadata": {
        "id": "e1ad2540"
      },
      "outputs": [
        {
          "ename": "NameError",
          "evalue": "name 'cars' is not defined",
          "output_type": "error",
          "traceback": [
            "\u001b[31m---------------------------------------------------------------------------\u001b[39m",
            "\u001b[31mNameError\u001b[39m                                 Traceback (most recent call last)",
            "\u001b[36mCell\u001b[39m\u001b[36m \u001b[39m\u001b[32mIn[1]\u001b[39m\u001b[32m, line 4\u001b[39m\n\u001b[32m      2\u001b[39m cat=[]\n\u001b[32m      3\u001b[39m con=[]\n\u001b[32m----> \u001b[39m\u001b[32m4\u001b[39m \u001b[38;5;28;01mfor\u001b[39;00m i \u001b[38;5;129;01min\u001b[39;00m \u001b[43mcars\u001b[49m.columns:\n\u001b[32m      5\u001b[39m     \u001b[38;5;28;01mif\u001b[39;00m cars[i].dtype == \u001b[33m'\u001b[39m\u001b[33mobject\u001b[39m\u001b[33m'\u001b[39m:\n\u001b[32m      6\u001b[39m         cat.append(i)\n",
            "\u001b[31mNameError\u001b[39m: name 'cars' is not defined"
          ]
        }
      ],
      "source": [
        "# Seggregate data in categorical and continuous type\n",
        "cat=[]\n",
        "con=[]\n",
        "for i in cars.columns:\n",
        "    if cars[i].dtype == 'object':\n",
        "        cat.append(i)\n",
        "    else:\n",
        "        con.append(i)\n",
        "\n",
        "print(\"Categorical: \",cat, \"\\n\", \"Numerical: \",con)\n"
      ]
    },
    {
      "cell_type": "code",
      "execution_count": 145,
      "metadata": {},
      "outputs": [
        {
          "data": {
            "text/html": [
              "<div>\n",
              "<style scoped>\n",
              "    .dataframe tbody tr th:only-of-type {\n",
              "        vertical-align: middle;\n",
              "    }\n",
              "\n",
              "    .dataframe tbody tr th {\n",
              "        vertical-align: top;\n",
              "    }\n",
              "\n",
              "    .dataframe thead th {\n",
              "        text-align: right;\n",
              "    }\n",
              "</style>\n",
              "<table border=\"1\" class=\"dataframe\">\n",
              "  <thead>\n",
              "    <tr style=\"text-align: right;\">\n",
              "      <th></th>\n",
              "      <th>Manufacturer</th>\n",
              "      <th>Model</th>\n",
              "      <th>Type</th>\n",
              "      <th>AirBags</th>\n",
              "      <th>DriveTrain</th>\n",
              "      <th>Cylinders</th>\n",
              "      <th>Man.trans.avail</th>\n",
              "      <th>Origin</th>\n",
              "      <th>Make</th>\n",
              "    </tr>\n",
              "  </thead>\n",
              "  <tbody>\n",
              "    <tr>\n",
              "      <th>0</th>\n",
              "      <td>Acura</td>\n",
              "      <td>Integra</td>\n",
              "      <td>Small</td>\n",
              "      <td>NaN</td>\n",
              "      <td>Front</td>\n",
              "      <td>4</td>\n",
              "      <td>Yes</td>\n",
              "      <td>non-USA</td>\n",
              "      <td>Acura Integra</td>\n",
              "    </tr>\n",
              "    <tr>\n",
              "      <th>1</th>\n",
              "      <td>Acura</td>\n",
              "      <td>Legend</td>\n",
              "      <td>Midsize</td>\n",
              "      <td>Driver &amp; Passenger</td>\n",
              "      <td>Front</td>\n",
              "      <td>6</td>\n",
              "      <td>Yes</td>\n",
              "      <td>non-USA</td>\n",
              "      <td>Acura Legend</td>\n",
              "    </tr>\n",
              "    <tr>\n",
              "      <th>2</th>\n",
              "      <td>Audi</td>\n",
              "      <td>90</td>\n",
              "      <td>Compact</td>\n",
              "      <td>Driver only</td>\n",
              "      <td>Front</td>\n",
              "      <td>6</td>\n",
              "      <td>Yes</td>\n",
              "      <td>non-USA</td>\n",
              "      <td>Audi 90</td>\n",
              "    </tr>\n",
              "    <tr>\n",
              "      <th>3</th>\n",
              "      <td>Audi</td>\n",
              "      <td>100</td>\n",
              "      <td>Midsize</td>\n",
              "      <td>NaN</td>\n",
              "      <td>Front</td>\n",
              "      <td>6</td>\n",
              "      <td>Yes</td>\n",
              "      <td>non-USA</td>\n",
              "      <td>Audi 100</td>\n",
              "    </tr>\n",
              "    <tr>\n",
              "      <th>4</th>\n",
              "      <td>BMW</td>\n",
              "      <td>535i</td>\n",
              "      <td>Midsize</td>\n",
              "      <td>Driver only</td>\n",
              "      <td>Rear</td>\n",
              "      <td>4</td>\n",
              "      <td>Yes</td>\n",
              "      <td>non-USA</td>\n",
              "      <td>BMW 535i</td>\n",
              "    </tr>\n",
              "    <tr>\n",
              "      <th>...</th>\n",
              "      <td>...</td>\n",
              "      <td>...</td>\n",
              "      <td>...</td>\n",
              "      <td>...</td>\n",
              "      <td>...</td>\n",
              "      <td>...</td>\n",
              "      <td>...</td>\n",
              "      <td>...</td>\n",
              "      <td>...</td>\n",
              "    </tr>\n",
              "    <tr>\n",
              "      <th>88</th>\n",
              "      <td>Volkswagen</td>\n",
              "      <td>Eurovan</td>\n",
              "      <td>Van</td>\n",
              "      <td>NaN</td>\n",
              "      <td>Front</td>\n",
              "      <td>5</td>\n",
              "      <td>Yes</td>\n",
              "      <td>non-USA</td>\n",
              "      <td>Volkswagen Eurovan</td>\n",
              "    </tr>\n",
              "    <tr>\n",
              "      <th>89</th>\n",
              "      <td>Volkswagen</td>\n",
              "      <td>Passat</td>\n",
              "      <td>Compact</td>\n",
              "      <td>NaN</td>\n",
              "      <td>Front</td>\n",
              "      <td>4</td>\n",
              "      <td>Yes</td>\n",
              "      <td>non-USA</td>\n",
              "      <td>Volkswagen Passat</td>\n",
              "    </tr>\n",
              "    <tr>\n",
              "      <th>90</th>\n",
              "      <td>Volkswagen</td>\n",
              "      <td>Corrado</td>\n",
              "      <td>Sporty</td>\n",
              "      <td>NaN</td>\n",
              "      <td>Front</td>\n",
              "      <td>6</td>\n",
              "      <td>Yes</td>\n",
              "      <td>non-USA</td>\n",
              "      <td>Volkswagen Corrado</td>\n",
              "    </tr>\n",
              "    <tr>\n",
              "      <th>91</th>\n",
              "      <td>Volvo</td>\n",
              "      <td>240</td>\n",
              "      <td>Compact</td>\n",
              "      <td>Driver only</td>\n",
              "      <td>Rear</td>\n",
              "      <td>4</td>\n",
              "      <td>Yes</td>\n",
              "      <td>non-USA</td>\n",
              "      <td>Volvo 240</td>\n",
              "    </tr>\n",
              "    <tr>\n",
              "      <th>92</th>\n",
              "      <td>Volvo</td>\n",
              "      <td>850</td>\n",
              "      <td>Midsize</td>\n",
              "      <td>Driver &amp; Passenger</td>\n",
              "      <td>Front</td>\n",
              "      <td>5</td>\n",
              "      <td>Yes</td>\n",
              "      <td>non-USA</td>\n",
              "      <td>Volvo 850</td>\n",
              "    </tr>\n",
              "  </tbody>\n",
              "</table>\n",
              "<p>93 rows × 9 columns</p>\n",
              "</div>"
            ],
            "text/plain": [
              "   Manufacturer    Model     Type             AirBags DriveTrain Cylinders  \\\n",
              "0         Acura  Integra    Small                 NaN      Front         4   \n",
              "1         Acura   Legend  Midsize  Driver & Passenger      Front         6   \n",
              "2          Audi       90  Compact         Driver only      Front         6   \n",
              "3          Audi      100  Midsize                 NaN      Front         6   \n",
              "4           BMW     535i  Midsize         Driver only       Rear         4   \n",
              "..          ...      ...      ...                 ...        ...       ...   \n",
              "88   Volkswagen  Eurovan      Van                 NaN      Front         5   \n",
              "89   Volkswagen   Passat  Compact                 NaN      Front         4   \n",
              "90   Volkswagen  Corrado   Sporty                 NaN      Front         6   \n",
              "91        Volvo      240  Compact         Driver only       Rear         4   \n",
              "92        Volvo      850  Midsize  Driver & Passenger      Front         5   \n",
              "\n",
              "   Man.trans.avail   Origin                Make  \n",
              "0              Yes  non-USA       Acura Integra  \n",
              "1              Yes  non-USA        Acura Legend  \n",
              "2              Yes  non-USA             Audi 90  \n",
              "3              Yes  non-USA            Audi 100  \n",
              "4              Yes  non-USA            BMW 535i  \n",
              "..             ...      ...                 ...  \n",
              "88             Yes  non-USA  Volkswagen Eurovan  \n",
              "89             Yes  non-USA   Volkswagen Passat  \n",
              "90             Yes  non-USA  Volkswagen Corrado  \n",
              "91             Yes  non-USA           Volvo 240  \n",
              "92             Yes  non-USA           Volvo 850  \n",
              "\n",
              "[93 rows x 9 columns]"
            ]
          },
          "execution_count": 145,
          "metadata": {},
          "output_type": "execute_result"
        }
      ],
      "source": [
        "# Seggregate data in categorical and \n",
        "\n",
        "catdf=cars.select_dtypes(include='object')\n",
        "catdf"
      ]
    },
    {
      "cell_type": "code",
      "execution_count": 146,
      "metadata": {},
      "outputs": [
        {
          "data": {
            "text/html": [
              "<div>\n",
              "<style scoped>\n",
              "    .dataframe tbody tr th:only-of-type {\n",
              "        vertical-align: middle;\n",
              "    }\n",
              "\n",
              "    .dataframe tbody tr th {\n",
              "        vertical-align: top;\n",
              "    }\n",
              "\n",
              "    .dataframe thead th {\n",
              "        text-align: right;\n",
              "    }\n",
              "</style>\n",
              "<table border=\"1\" class=\"dataframe\">\n",
              "  <thead>\n",
              "    <tr style=\"text-align: right;\">\n",
              "      <th></th>\n",
              "      <th>id</th>\n",
              "      <th>Min.Price</th>\n",
              "      <th>Price</th>\n",
              "      <th>Max.Price</th>\n",
              "      <th>MPG.city</th>\n",
              "      <th>MPG.highway</th>\n",
              "      <th>EngineSize</th>\n",
              "      <th>Horsepower</th>\n",
              "      <th>RPM</th>\n",
              "      <th>Rev.per.mile</th>\n",
              "      <th>Fuel.tank.capacity</th>\n",
              "      <th>Passengers</th>\n",
              "      <th>Length</th>\n",
              "      <th>Wheelbase</th>\n",
              "      <th>Width</th>\n",
              "      <th>Turn.circle</th>\n",
              "      <th>Rear.seat.room</th>\n",
              "      <th>Luggage.room</th>\n",
              "      <th>Weight</th>\n",
              "    </tr>\n",
              "  </thead>\n",
              "  <tbody>\n",
              "    <tr>\n",
              "      <th>0</th>\n",
              "      <td>1</td>\n",
              "      <td>12.9</td>\n",
              "      <td>15.9</td>\n",
              "      <td>18.8</td>\n",
              "      <td>25</td>\n",
              "      <td>31</td>\n",
              "      <td>1.8</td>\n",
              "      <td>140</td>\n",
              "      <td>6300</td>\n",
              "      <td>2890</td>\n",
              "      <td>13.2</td>\n",
              "      <td>5</td>\n",
              "      <td>177</td>\n",
              "      <td>102</td>\n",
              "      <td>68</td>\n",
              "      <td>37</td>\n",
              "      <td>26.5</td>\n",
              "      <td>11.0</td>\n",
              "      <td>2705</td>\n",
              "    </tr>\n",
              "    <tr>\n",
              "      <th>1</th>\n",
              "      <td>2</td>\n",
              "      <td>29.2</td>\n",
              "      <td>33.9</td>\n",
              "      <td>38.7</td>\n",
              "      <td>18</td>\n",
              "      <td>25</td>\n",
              "      <td>3.2</td>\n",
              "      <td>200</td>\n",
              "      <td>5500</td>\n",
              "      <td>2335</td>\n",
              "      <td>18.0</td>\n",
              "      <td>5</td>\n",
              "      <td>195</td>\n",
              "      <td>115</td>\n",
              "      <td>71</td>\n",
              "      <td>38</td>\n",
              "      <td>30.0</td>\n",
              "      <td>15.0</td>\n",
              "      <td>3560</td>\n",
              "    </tr>\n",
              "    <tr>\n",
              "      <th>2</th>\n",
              "      <td>3</td>\n",
              "      <td>25.9</td>\n",
              "      <td>29.1</td>\n",
              "      <td>32.3</td>\n",
              "      <td>20</td>\n",
              "      <td>26</td>\n",
              "      <td>2.8</td>\n",
              "      <td>172</td>\n",
              "      <td>5500</td>\n",
              "      <td>2280</td>\n",
              "      <td>16.9</td>\n",
              "      <td>5</td>\n",
              "      <td>180</td>\n",
              "      <td>102</td>\n",
              "      <td>67</td>\n",
              "      <td>37</td>\n",
              "      <td>28.0</td>\n",
              "      <td>14.0</td>\n",
              "      <td>3375</td>\n",
              "    </tr>\n",
              "    <tr>\n",
              "      <th>3</th>\n",
              "      <td>4</td>\n",
              "      <td>30.8</td>\n",
              "      <td>37.7</td>\n",
              "      <td>44.6</td>\n",
              "      <td>19</td>\n",
              "      <td>26</td>\n",
              "      <td>2.8</td>\n",
              "      <td>172</td>\n",
              "      <td>5500</td>\n",
              "      <td>2535</td>\n",
              "      <td>21.1</td>\n",
              "      <td>6</td>\n",
              "      <td>193</td>\n",
              "      <td>106</td>\n",
              "      <td>70</td>\n",
              "      <td>37</td>\n",
              "      <td>31.0</td>\n",
              "      <td>17.0</td>\n",
              "      <td>3405</td>\n",
              "    </tr>\n",
              "    <tr>\n",
              "      <th>4</th>\n",
              "      <td>5</td>\n",
              "      <td>23.7</td>\n",
              "      <td>30.0</td>\n",
              "      <td>36.2</td>\n",
              "      <td>22</td>\n",
              "      <td>30</td>\n",
              "      <td>3.5</td>\n",
              "      <td>208</td>\n",
              "      <td>5700</td>\n",
              "      <td>2545</td>\n",
              "      <td>21.1</td>\n",
              "      <td>4</td>\n",
              "      <td>186</td>\n",
              "      <td>109</td>\n",
              "      <td>69</td>\n",
              "      <td>39</td>\n",
              "      <td>27.0</td>\n",
              "      <td>13.0</td>\n",
              "      <td>3640</td>\n",
              "    </tr>\n",
              "    <tr>\n",
              "      <th>...</th>\n",
              "      <td>...</td>\n",
              "      <td>...</td>\n",
              "      <td>...</td>\n",
              "      <td>...</td>\n",
              "      <td>...</td>\n",
              "      <td>...</td>\n",
              "      <td>...</td>\n",
              "      <td>...</td>\n",
              "      <td>...</td>\n",
              "      <td>...</td>\n",
              "      <td>...</td>\n",
              "      <td>...</td>\n",
              "      <td>...</td>\n",
              "      <td>...</td>\n",
              "      <td>...</td>\n",
              "      <td>...</td>\n",
              "      <td>...</td>\n",
              "      <td>...</td>\n",
              "      <td>...</td>\n",
              "    </tr>\n",
              "    <tr>\n",
              "      <th>88</th>\n",
              "      <td>89</td>\n",
              "      <td>16.6</td>\n",
              "      <td>19.7</td>\n",
              "      <td>22.7</td>\n",
              "      <td>17</td>\n",
              "      <td>21</td>\n",
              "      <td>2.5</td>\n",
              "      <td>109</td>\n",
              "      <td>4500</td>\n",
              "      <td>2915</td>\n",
              "      <td>21.1</td>\n",
              "      <td>7</td>\n",
              "      <td>187</td>\n",
              "      <td>115</td>\n",
              "      <td>72</td>\n",
              "      <td>38</td>\n",
              "      <td>34.0</td>\n",
              "      <td>NaN</td>\n",
              "      <td>3960</td>\n",
              "    </tr>\n",
              "    <tr>\n",
              "      <th>89</th>\n",
              "      <td>90</td>\n",
              "      <td>17.6</td>\n",
              "      <td>20.0</td>\n",
              "      <td>22.4</td>\n",
              "      <td>21</td>\n",
              "      <td>30</td>\n",
              "      <td>2.0</td>\n",
              "      <td>134</td>\n",
              "      <td>5800</td>\n",
              "      <td>2685</td>\n",
              "      <td>18.5</td>\n",
              "      <td>5</td>\n",
              "      <td>180</td>\n",
              "      <td>103</td>\n",
              "      <td>67</td>\n",
              "      <td>35</td>\n",
              "      <td>31.5</td>\n",
              "      <td>14.0</td>\n",
              "      <td>2985</td>\n",
              "    </tr>\n",
              "    <tr>\n",
              "      <th>90</th>\n",
              "      <td>91</td>\n",
              "      <td>22.9</td>\n",
              "      <td>23.3</td>\n",
              "      <td>23.7</td>\n",
              "      <td>18</td>\n",
              "      <td>25</td>\n",
              "      <td>2.8</td>\n",
              "      <td>178</td>\n",
              "      <td>5800</td>\n",
              "      <td>2385</td>\n",
              "      <td>18.5</td>\n",
              "      <td>4</td>\n",
              "      <td>159</td>\n",
              "      <td>97</td>\n",
              "      <td>66</td>\n",
              "      <td>36</td>\n",
              "      <td>26.0</td>\n",
              "      <td>15.0</td>\n",
              "      <td>2810</td>\n",
              "    </tr>\n",
              "    <tr>\n",
              "      <th>91</th>\n",
              "      <td>92</td>\n",
              "      <td>21.8</td>\n",
              "      <td>22.7</td>\n",
              "      <td>23.5</td>\n",
              "      <td>21</td>\n",
              "      <td>28</td>\n",
              "      <td>2.3</td>\n",
              "      <td>114</td>\n",
              "      <td>5400</td>\n",
              "      <td>2215</td>\n",
              "      <td>15.8</td>\n",
              "      <td>5</td>\n",
              "      <td>190</td>\n",
              "      <td>104</td>\n",
              "      <td>67</td>\n",
              "      <td>37</td>\n",
              "      <td>29.5</td>\n",
              "      <td>14.0</td>\n",
              "      <td>2985</td>\n",
              "    </tr>\n",
              "    <tr>\n",
              "      <th>92</th>\n",
              "      <td>93</td>\n",
              "      <td>24.8</td>\n",
              "      <td>26.7</td>\n",
              "      <td>28.5</td>\n",
              "      <td>20</td>\n",
              "      <td>28</td>\n",
              "      <td>2.4</td>\n",
              "      <td>168</td>\n",
              "      <td>6200</td>\n",
              "      <td>2310</td>\n",
              "      <td>19.3</td>\n",
              "      <td>5</td>\n",
              "      <td>184</td>\n",
              "      <td>105</td>\n",
              "      <td>69</td>\n",
              "      <td>38</td>\n",
              "      <td>30.0</td>\n",
              "      <td>15.0</td>\n",
              "      <td>3245</td>\n",
              "    </tr>\n",
              "  </tbody>\n",
              "</table>\n",
              "<p>93 rows × 19 columns</p>\n",
              "</div>"
            ],
            "text/plain": [
              "    id  Min.Price  Price  Max.Price  MPG.city  MPG.highway  EngineSize  \\\n",
              "0    1       12.9   15.9       18.8        25           31         1.8   \n",
              "1    2       29.2   33.9       38.7        18           25         3.2   \n",
              "2    3       25.9   29.1       32.3        20           26         2.8   \n",
              "3    4       30.8   37.7       44.6        19           26         2.8   \n",
              "4    5       23.7   30.0       36.2        22           30         3.5   \n",
              "..  ..        ...    ...        ...       ...          ...         ...   \n",
              "88  89       16.6   19.7       22.7        17           21         2.5   \n",
              "89  90       17.6   20.0       22.4        21           30         2.0   \n",
              "90  91       22.9   23.3       23.7        18           25         2.8   \n",
              "91  92       21.8   22.7       23.5        21           28         2.3   \n",
              "92  93       24.8   26.7       28.5        20           28         2.4   \n",
              "\n",
              "    Horsepower   RPM  Rev.per.mile  Fuel.tank.capacity  Passengers  Length  \\\n",
              "0          140  6300          2890                13.2           5     177   \n",
              "1          200  5500          2335                18.0           5     195   \n",
              "2          172  5500          2280                16.9           5     180   \n",
              "3          172  5500          2535                21.1           6     193   \n",
              "4          208  5700          2545                21.1           4     186   \n",
              "..         ...   ...           ...                 ...         ...     ...   \n",
              "88         109  4500          2915                21.1           7     187   \n",
              "89         134  5800          2685                18.5           5     180   \n",
              "90         178  5800          2385                18.5           4     159   \n",
              "91         114  5400          2215                15.8           5     190   \n",
              "92         168  6200          2310                19.3           5     184   \n",
              "\n",
              "    Wheelbase  Width  Turn.circle  Rear.seat.room  Luggage.room  Weight  \n",
              "0         102     68           37            26.5          11.0    2705  \n",
              "1         115     71           38            30.0          15.0    3560  \n",
              "2         102     67           37            28.0          14.0    3375  \n",
              "3         106     70           37            31.0          17.0    3405  \n",
              "4         109     69           39            27.0          13.0    3640  \n",
              "..        ...    ...          ...             ...           ...     ...  \n",
              "88        115     72           38            34.0           NaN    3960  \n",
              "89        103     67           35            31.5          14.0    2985  \n",
              "90         97     66           36            26.0          15.0    2810  \n",
              "91        104     67           37            29.5          14.0    2985  \n",
              "92        105     69           38            30.0          15.0    3245  \n",
              "\n",
              "[93 rows x 19 columns]"
            ]
          },
          "execution_count": 146,
          "metadata": {},
          "output_type": "execute_result"
        }
      ],
      "source": [
        "# Seggregate data in continuous type\n",
        "\n",
        "condf=cars.select_dtypes(exclude='object')\n",
        "condf"
      ]
    },
    {
      "cell_type": "markdown",
      "metadata": {
        "id": "8pITQDArZJWs"
      },
      "source": [
        "Handle Missing Values"
      ]
    },
    {
      "cell_type": "code",
      "execution_count": 147,
      "metadata": {
        "id": "21JsdQ4HZOGO"
      },
      "outputs": [],
      "source": [
        "# Check for missing values\n",
        "\n",
        "cars.isnull().sum()\n",
        "\n",
        "# Fill missing values\n",
        "#numerical - fill mean values\n",
        "#Categorical - Fill mode values\n",
        "\n",
        "for i in cars.columns:\n",
        "    if cars[i].dtype == 'object':\n",
        "        modal_value = cars[i].mode()[0]\n",
        "        cars[i] = cars[i].fillna(modal_value)\n",
        "\n",
        "    else:\n",
        "        mean_value = cars[i].mean()\n",
        "        cars[i] = cars[i].fillna(mean_value) \n",
        "\n",
        "# Drop missing rows\n",
        "\n",
        "\n",
        "# Remove duplicates\n"
      ]
    },
    {
      "cell_type": "code",
      "execution_count": 148,
      "metadata": {},
      "outputs": [
        {
          "data": {
            "text/plain": [
              "id                    0\n",
              "Manufacturer          0\n",
              "Model                 0\n",
              "Type                  0\n",
              "Min.Price             0\n",
              "Price                 0\n",
              "Max.Price             0\n",
              "MPG.city              0\n",
              "MPG.highway           0\n",
              "AirBags               0\n",
              "DriveTrain            0\n",
              "Cylinders             0\n",
              "EngineSize            0\n",
              "Horsepower            0\n",
              "RPM                   0\n",
              "Rev.per.mile          0\n",
              "Man.trans.avail       0\n",
              "Fuel.tank.capacity    0\n",
              "Passengers            0\n",
              "Length                0\n",
              "Wheelbase             0\n",
              "Width                 0\n",
              "Turn.circle           0\n",
              "Rear.seat.room        0\n",
              "Luggage.room          0\n",
              "Weight                0\n",
              "Origin                0\n",
              "Make                  0\n",
              "dtype: int64"
            ]
          },
          "execution_count": 148,
          "metadata": {},
          "output_type": "execute_result"
        }
      ],
      "source": [
        "cars.isnull().sum()"
      ]
    },
    {
      "cell_type": "markdown",
      "metadata": {
        "id": "M41P0rMKZPHK"
      },
      "source": [
        "# Analyse Data\n",
        "unique() <br>\n",
        "value_counts() <br>\n"
      ]
    },
    {
      "cell_type": "markdown",
      "metadata": {
        "id": "C6TVmKkaZaeB"
      },
      "source": [
        "# Libraries for Data Visualization\n",
        "import seaborn as sns <br>\n",
        "import matplotlib.pyplot as plt\n"
      ]
    },
    {
      "cell_type": "code",
      "execution_count": 149,
      "metadata": {},
      "outputs": [],
      "source": [
        "# Libraries for Data Visualization\n",
        "import seaborn as sns\n",
        "import matplotlib.pyplot as plt\n"
      ]
    },
    {
      "cell_type": "markdown",
      "metadata": {
        "id": "ee7bad5d"
      },
      "source": [
        "# Univariate - Categorical Variable\n",
        "Bar Chart"
      ]
    },
    {
      "cell_type": "code",
      "execution_count": 150,
      "metadata": {
        "id": "b8a9f01d"
      },
      "outputs": [
        {
          "data": {
            "text/plain": [
              "['Manufacturer',\n",
              " 'Model',\n",
              " 'Type',\n",
              " 'AirBags',\n",
              " 'DriveTrain',\n",
              " 'Cylinders',\n",
              " 'Man.trans.avail',\n",
              " 'Origin',\n",
              " 'Make']"
            ]
          },
          "execution_count": 150,
          "metadata": {},
          "output_type": "execute_result"
        }
      ],
      "source": [
        "# Let's consider 'Type' as a categorical variable.\n",
        "\n",
        "cat"
      ]
    },
    {
      "cell_type": "code",
      "execution_count": 151,
      "metadata": {},
      "outputs": [
        {
          "data": {
            "text/plain": [
              "Index(['id', 'Manufacturer', 'Model', 'Type', 'Min.Price', 'Price',\n",
              "       'Max.Price', 'MPG.city', 'MPG.highway', 'AirBags', 'DriveTrain',\n",
              "       'Cylinders', 'EngineSize', 'Horsepower', 'RPM', 'Rev.per.mile',\n",
              "       'Man.trans.avail', 'Fuel.tank.capacity', 'Passengers', 'Length',\n",
              "       'Wheelbase', 'Width', 'Turn.circle', 'Rear.seat.room', 'Luggage.room',\n",
              "       'Weight', 'Origin', 'Make'],\n",
              "      dtype='object')"
            ]
          },
          "execution_count": 151,
          "metadata": {},
          "output_type": "execute_result"
        }
      ],
      "source": [
        "cars.columns"
      ]
    },
    {
      "cell_type": "code",
      "execution_count": 152,
      "metadata": {},
      "outputs": [
        {
          "data": {
            "text/html": [
              "<div>\n",
              "<style scoped>\n",
              "    .dataframe tbody tr th:only-of-type {\n",
              "        vertical-align: middle;\n",
              "    }\n",
              "\n",
              "    .dataframe tbody tr th {\n",
              "        vertical-align: top;\n",
              "    }\n",
              "\n",
              "    .dataframe thead th {\n",
              "        text-align: right;\n",
              "    }\n",
              "</style>\n",
              "<table border=\"1\" class=\"dataframe\">\n",
              "  <thead>\n",
              "    <tr style=\"text-align: right;\">\n",
              "      <th></th>\n",
              "      <th>id</th>\n",
              "      <th>Manufacturer</th>\n",
              "      <th>Model</th>\n",
              "      <th>Type</th>\n",
              "      <th>Min.Price</th>\n",
              "      <th>Price</th>\n",
              "      <th>Max.Price</th>\n",
              "      <th>MPG.city</th>\n",
              "      <th>MPG.highway</th>\n",
              "      <th>AirBags</th>\n",
              "      <th>...</th>\n",
              "      <th>Passengers</th>\n",
              "      <th>Length</th>\n",
              "      <th>Wheelbase</th>\n",
              "      <th>Width</th>\n",
              "      <th>Turn.circle</th>\n",
              "      <th>Rear.seat.room</th>\n",
              "      <th>Luggage.room</th>\n",
              "      <th>Weight</th>\n",
              "      <th>Origin</th>\n",
              "      <th>Make</th>\n",
              "    </tr>\n",
              "  </thead>\n",
              "  <tbody>\n",
              "    <tr>\n",
              "      <th>0</th>\n",
              "      <td>1</td>\n",
              "      <td>Acura</td>\n",
              "      <td>Integra</td>\n",
              "      <td>Small</td>\n",
              "      <td>12.9</td>\n",
              "      <td>15.9</td>\n",
              "      <td>18.8</td>\n",
              "      <td>25</td>\n",
              "      <td>31</td>\n",
              "      <td>Driver only</td>\n",
              "      <td>...</td>\n",
              "      <td>5</td>\n",
              "      <td>177</td>\n",
              "      <td>102</td>\n",
              "      <td>68</td>\n",
              "      <td>37</td>\n",
              "      <td>26.5</td>\n",
              "      <td>11.0</td>\n",
              "      <td>2705</td>\n",
              "      <td>non-USA</td>\n",
              "      <td>Acura Integra</td>\n",
              "    </tr>\n",
              "    <tr>\n",
              "      <th>1</th>\n",
              "      <td>2</td>\n",
              "      <td>Acura</td>\n",
              "      <td>Legend</td>\n",
              "      <td>Midsize</td>\n",
              "      <td>29.2</td>\n",
              "      <td>33.9</td>\n",
              "      <td>38.7</td>\n",
              "      <td>18</td>\n",
              "      <td>25</td>\n",
              "      <td>Driver &amp; Passenger</td>\n",
              "      <td>...</td>\n",
              "      <td>5</td>\n",
              "      <td>195</td>\n",
              "      <td>115</td>\n",
              "      <td>71</td>\n",
              "      <td>38</td>\n",
              "      <td>30.0</td>\n",
              "      <td>15.0</td>\n",
              "      <td>3560</td>\n",
              "      <td>non-USA</td>\n",
              "      <td>Acura Legend</td>\n",
              "    </tr>\n",
              "    <tr>\n",
              "      <th>2</th>\n",
              "      <td>3</td>\n",
              "      <td>Audi</td>\n",
              "      <td>90</td>\n",
              "      <td>Compact</td>\n",
              "      <td>25.9</td>\n",
              "      <td>29.1</td>\n",
              "      <td>32.3</td>\n",
              "      <td>20</td>\n",
              "      <td>26</td>\n",
              "      <td>Driver only</td>\n",
              "      <td>...</td>\n",
              "      <td>5</td>\n",
              "      <td>180</td>\n",
              "      <td>102</td>\n",
              "      <td>67</td>\n",
              "      <td>37</td>\n",
              "      <td>28.0</td>\n",
              "      <td>14.0</td>\n",
              "      <td>3375</td>\n",
              "      <td>non-USA</td>\n",
              "      <td>Audi 90</td>\n",
              "    </tr>\n",
              "    <tr>\n",
              "      <th>3</th>\n",
              "      <td>4</td>\n",
              "      <td>Audi</td>\n",
              "      <td>100</td>\n",
              "      <td>Midsize</td>\n",
              "      <td>30.8</td>\n",
              "      <td>37.7</td>\n",
              "      <td>44.6</td>\n",
              "      <td>19</td>\n",
              "      <td>26</td>\n",
              "      <td>Driver only</td>\n",
              "      <td>...</td>\n",
              "      <td>6</td>\n",
              "      <td>193</td>\n",
              "      <td>106</td>\n",
              "      <td>70</td>\n",
              "      <td>37</td>\n",
              "      <td>31.0</td>\n",
              "      <td>17.0</td>\n",
              "      <td>3405</td>\n",
              "      <td>non-USA</td>\n",
              "      <td>Audi 100</td>\n",
              "    </tr>\n",
              "    <tr>\n",
              "      <th>4</th>\n",
              "      <td>5</td>\n",
              "      <td>BMW</td>\n",
              "      <td>535i</td>\n",
              "      <td>Midsize</td>\n",
              "      <td>23.7</td>\n",
              "      <td>30.0</td>\n",
              "      <td>36.2</td>\n",
              "      <td>22</td>\n",
              "      <td>30</td>\n",
              "      <td>Driver only</td>\n",
              "      <td>...</td>\n",
              "      <td>4</td>\n",
              "      <td>186</td>\n",
              "      <td>109</td>\n",
              "      <td>69</td>\n",
              "      <td>39</td>\n",
              "      <td>27.0</td>\n",
              "      <td>13.0</td>\n",
              "      <td>3640</td>\n",
              "      <td>non-USA</td>\n",
              "      <td>BMW 535i</td>\n",
              "    </tr>\n",
              "  </tbody>\n",
              "</table>\n",
              "<p>5 rows × 28 columns</p>\n",
              "</div>"
            ],
            "text/plain": [
              "   id Manufacturer    Model     Type  Min.Price  Price  Max.Price  MPG.city  \\\n",
              "0   1        Acura  Integra    Small       12.9   15.9       18.8        25   \n",
              "1   2        Acura   Legend  Midsize       29.2   33.9       38.7        18   \n",
              "2   3         Audi       90  Compact       25.9   29.1       32.3        20   \n",
              "3   4         Audi      100  Midsize       30.8   37.7       44.6        19   \n",
              "4   5          BMW     535i  Midsize       23.7   30.0       36.2        22   \n",
              "\n",
              "   MPG.highway             AirBags  ... Passengers Length  Wheelbase  Width  \\\n",
              "0           31         Driver only  ...          5    177        102     68   \n",
              "1           25  Driver & Passenger  ...          5    195        115     71   \n",
              "2           26         Driver only  ...          5    180        102     67   \n",
              "3           26         Driver only  ...          6    193        106     70   \n",
              "4           30         Driver only  ...          4    186        109     69   \n",
              "\n",
              "   Turn.circle  Rear.seat.room Luggage.room  Weight   Origin           Make  \n",
              "0           37            26.5         11.0    2705  non-USA  Acura Integra  \n",
              "1           38            30.0         15.0    3560  non-USA   Acura Legend  \n",
              "2           37            28.0         14.0    3375  non-USA        Audi 90  \n",
              "3           37            31.0         17.0    3405  non-USA       Audi 100  \n",
              "4           39            27.0         13.0    3640  non-USA       BMW 535i  \n",
              "\n",
              "[5 rows x 28 columns]"
            ]
          },
          "execution_count": 152,
          "metadata": {},
          "output_type": "execute_result"
        }
      ],
      "source": [
        "cars.head(5)"
      ]
    },
    {
      "cell_type": "code",
      "execution_count": 153,
      "metadata": {},
      "outputs": [
        {
          "data": {
            "image/png": "[encoded data removed]",
            "text/plain": [
              "<Figure size 640x480 with 1 Axes>"
            ]
          },
          "metadata": {},
          "output_type": "display_data"
        }
      ],
      "source": [
        "plt.plot(cars['Manufacturer'], cars['EngineSize'])\n",
        "plt.xlabel('Model')\n",
        "plt.ylabel('Price')\n",
        "plt.show()"
      ]
    },
    {
      "cell_type": "code",
      "execution_count": 154,
      "metadata": {},
      "outputs": [
        {
          "data": {
            "image/png": "[encoded data removed]",
            "text/plain": [
              "<Figure size 1500x500 with 1 Axes>"
            ]
          },
          "metadata": {},
          "output_type": "display_data"
        }
      ],
      "source": [
        "plt.figure(figsize=(15,5))\n",
        "sns.lineplot(x='Manufacturer', y='EngineSize', data=cars)\n",
        "plt.xticks(rotation=45)\n",
        "plt.show()"
      ]
    },
    {
      "cell_type": "code",
      "execution_count": 155,
      "metadata": {},
      "outputs": [
        {
          "data": {
            "image/png": "[encoded data removed]",
            "text/plain": [
              "<Figure size 1500x600 with 1 Axes>"
            ]
          },
          "metadata": {},
          "output_type": "display_data"
        }
      ],
      "source": [
        "import matplotlib.pyplot as plt\n",
        "\n",
        "plt.figure(figsize=(15,6))\n",
        "\n",
        "cars_sorted = cars.sort_values('Price', ascending=False).head(20)\n",
        "\n",
        "bars = plt.bar(cars_sorted['Manufacturer'], cars_sorted['Price'])\n",
        "\n",
        "plt.xticks(rotation=45)\n",
        "\n",
        "plt.xlabel('Manufacturer')\n",
        "plt.ylabel('Price')\n",
        "plt.title('Price by Manufacturer')\n",
        "plt.show()"
      ]
    },
    {
      "cell_type": "code",
      "execution_count": 156,
      "metadata": {},
      "outputs": [
        {
          "data": {
            "image/png": "[encoded data removed]",
            "text/plain": [
              "<Figure size 640x480 with 1 Axes>"
            ]
          },
          "metadata": {},
          "output_type": "display_data"
        }
      ],
      "source": [
        "plt.Figure(figsize=(16,5))\n",
        "plt.hist(cars['EngineSize'], bins=20, color='Red', edgecolor='black')\n",
        "plt.show()"
      ]
    },
    {
      "cell_type": "code",
      "execution_count": 157,
      "metadata": {
        "id": "ca674959"
      },
      "outputs": [
        {
          "data": {
            "image/png": "[encoded data removed]",
            "text/plain": [
              "<Figure size 500x300 with 1 Axes>"
            ]
          },
          "metadata": {},
          "output_type": "display_data"
        }
      ],
      "source": [
        "plt.figure(figsize=(5,3))\n",
        "sns.countplot(x='Type', data=cars)\n",
        "plt.xlabel(\"Type of Vehicle\")\n",
        "plt.ylabel(\"Frequency\")\n",
        "plt.title(\"Frequency of type of vehicles\")\n",
        "plt.show()"
      ]
    },
    {
      "cell_type": "code",
      "execution_count": 158,
      "metadata": {},
      "outputs": [
        {
          "data": {
            "image/png": "[encoded data removed]",
            "text/plain": [
              "<Figure size 500x300 with 1 Axes>"
            ]
          },
          "metadata": {},
          "output_type": "display_data"
        }
      ],
      "source": [
        "plt.figure(figsize=(5,3))\n",
        "sns.countplot(x='AirBags', data=cars)\n",
        "plt.xlabel(\"Type of Airbags\")\n",
        "plt.ylabel(\"Frequency\")\n",
        "plt.title(\"Count of Airbags\")\n",
        "plt.show()"
      ]
    },
    {
      "cell_type": "markdown",
      "metadata": {
        "id": "1ecb8c12"
      },
      "source": [
        "# Univariate - Categorical Variable\n",
        "Count plot"
      ]
    },
    {
      "cell_type": "code",
      "execution_count": 159,
      "metadata": {
        "id": "0ebcb8d3"
      },
      "outputs": [
        {
          "data": {
            "text/plain": [
              "([<matplotlib.patches.Wedge at 0x269abb1a850>,\n",
              "  <matplotlib.patches.Wedge at 0x269abb1ac10>],\n",
              " [Text(-0.055714017004277645, 1.098588161373154, 'USA'),\n",
              "  Text(0.05571437496973428, -1.0985881432191646, 'non-USA')],\n",
              " [Text(-0.030389463820515075, 0.5992299062035386, '51%'),\n",
              "  Text(0.030389659074400513, -0.5992298963013625, '48%')])"
            ]
          },
          "execution_count": 159,
          "metadata": {},
          "output_type": "execute_result"
        },
        {
          "data": {
            "image/png": "[encoded data removed]",
            "text/plain": [
              "<Figure size 640x480 with 1 Axes>"
            ]
          },
          "metadata": {},
          "output_type": "display_data"
        }
      ],
      "source": [
        "Origin_Value_Count = cars['Origin'].value_counts()\n",
        "plt.pie(Origin_Value_Count, labels=Origin_Value_Count.index, autopct='%d%%')"
      ]
    },
    {
      "cell_type": "code",
      "execution_count": 160,
      "metadata": {},
      "outputs": [
        {
          "data": {
            "text/plain": [
              "([<matplotlib.patches.Wedge at 0x269abb92350>,\n",
              "  <matplotlib.patches.Wedge at 0x269abb92710>,\n",
              "  <matplotlib.patches.Wedge at 0x269abb92ad0>,\n",
              "  <matplotlib.patches.Wedge at 0x269abb92e90>,\n",
              "  <matplotlib.patches.Wedge at 0x269abb93250>,\n",
              "  <matplotlib.patches.Wedge at 0x269abb93610>,\n",
              "  <matplotlib.patches.Wedge at 0x269abb939d0>,\n",
              "  <matplotlib.patches.Wedge at 0x269abb93d90>,\n",
              "  <matplotlib.patches.Wedge at 0x269abbcc190>,\n",
              "  <matplotlib.patches.Wedge at 0x269abbcc550>],\n",
              " [Text(0.9740016189993087, 0.5111955068139055, 'Chevrolet'),\n",
              "  Text(0.1325902241134321, 1.0919797765845072, 'Ford'),\n",
              "  Text(-0.7294351050191594, 0.8233616626766684, 'Dodge'),\n",
              "  Text(-1.0819819476131096, 0.19828026891080713, 'Mazda'),\n",
              "  Text(-1.0030897133643162, -0.4514543464656138, 'Pontiac'),\n",
              "  Text(-0.6248710016910446, -0.9052824041400731, 'Oldsmobile'),\n",
              "  Text(-0.13258986830125055, -1.0919798197878279, 'Hyundai'),\n",
              "  Text(0.39006553985843684, -1.028517804714603, 'Buick'),\n",
              "  Text(0.8233620829659655, -0.7294346306105481, 'Nissan'),\n",
              "  Text(1.0680360192863438, -0.26324714909563757, 'Toyota')],\n",
              " [Text(0.5312736103632593, 0.27883391280758474, '15%'),\n",
              "  Text(0.07232194042550841, 0.5956253326824583, '15%'),\n",
              "  Text(-0.3978736936468142, 0.44910636146000094, '11%'),\n",
              "  Text(-0.5901719714253325, 0.10815287395134933, '9%'),\n",
              "  Text(-0.5471398436532633, -0.2462478253448802, '9%'),\n",
              "  Text(-0.34083872819511524, -0.49379040225822163, '7%'),\n",
              "  Text(-0.07232174634613665, -0.595625356247906, '7%'),\n",
              "  Text(0.21276302174096554, -0.5610097116625107, '7%'),\n",
              "  Text(0.4491065907087084, -0.39787343487848076, '7%'),\n",
              "  Text(0.5825651014289147, -0.14358935405216594, '7%')])"
            ]
          },
          "execution_count": 160,
          "metadata": {},
          "output_type": "execute_result"
        },
        {
          "data": {
            "image/png": "[encoded data removed]",
            "text/plain": [
              "<Figure size 640x480 with 1 Axes>"
            ]
          },
          "metadata": {},
          "output_type": "display_data"
        }
      ],
      "source": [
        "Maker_Count = cars['Manufacturer'].value_counts().head(10)\n",
        "plt.pie(Maker_Count, labels=Maker_Count.index,autopct='%d%%')"
      ]
    },
    {
      "cell_type": "markdown",
      "metadata": {
        "id": "04e0dc28"
      },
      "source": [
        "# Univariate - Numeric Variable\n",
        "Histogram"
      ]
    },
    {
      "cell_type": "code",
      "execution_count": 161,
      "metadata": {
        "id": "11dc654c"
      },
      "outputs": [
        {
          "data": {
            "image/png": "[encoded data removed]",
            "text/plain": [
              "<Figure size 640x480 with 1 Axes>"
            ]
          },
          "metadata": {},
          "output_type": "display_data"
        }
      ],
      "source": [
        "plt.hist(x='Price', data=cars, edgecolor='black')\n",
        "plt.title('Prices of Vehicles')\n",
        "plt.show()"
      ]
    },
    {
      "cell_type": "markdown",
      "metadata": {
        "id": "34412ea6"
      },
      "source": [
        "# Bivariate Analysis\n",
        "## continuous vs continous\n",
        "### Scatter Plot"
      ]
    },
    {
      "cell_type": "code",
      "execution_count": 162,
      "metadata": {
        "id": "f48a832d"
      },
      "outputs": [
        {
          "data": {
            "image/png": "[encoded data removed]",
            "text/plain": [
              "<Figure size 640x480 with 1 Axes>"
            ]
          },
          "metadata": {},
          "output_type": "display_data"
        }
      ],
      "source": [
        "plt.scatter(x='Price', y='EngineSize', data=cars)\n",
        "plt.xlabel(\"Price\")\n",
        "plt.ylabel(\"Engine Size\")\n",
        "plt.show()"
      ]
    },
    {
      "cell_type": "markdown",
      "metadata": {
        "id": "46f5f408"
      },
      "source": [
        "# Correlation\n"
      ]
    },
    {
      "cell_type": "code",
      "execution_count": 163,
      "metadata": {
        "id": "efd2d8c1"
      },
      "outputs": [
        {
          "data": {
            "text/html": [
              "<div>\n",
              "<style scoped>\n",
              "    .dataframe tbody tr th:only-of-type {\n",
              "        vertical-align: middle;\n",
              "    }\n",
              "\n",
              "    .dataframe tbody tr th {\n",
              "        vertical-align: top;\n",
              "    }\n",
              "\n",
              "    .dataframe thead th {\n",
              "        text-align: right;\n",
              "    }\n",
              "</style>\n",
              "<table border=\"1\" class=\"dataframe\">\n",
              "  <thead>\n",
              "    <tr style=\"text-align: right;\">\n",
              "      <th></th>\n",
              "      <th>Price</th>\n",
              "      <th>Horsepower</th>\n",
              "      <th>EngineSize</th>\n",
              "    </tr>\n",
              "  </thead>\n",
              "  <tbody>\n",
              "    <tr>\n",
              "      <th>Price</th>\n",
              "      <td>1.000000</td>\n",
              "      <td>0.788218</td>\n",
              "      <td>0.597425</td>\n",
              "    </tr>\n",
              "    <tr>\n",
              "      <th>Horsepower</th>\n",
              "      <td>0.788218</td>\n",
              "      <td>1.000000</td>\n",
              "      <td>0.732120</td>\n",
              "    </tr>\n",
              "    <tr>\n",
              "      <th>EngineSize</th>\n",
              "      <td>0.597425</td>\n",
              "      <td>0.732120</td>\n",
              "      <td>1.000000</td>\n",
              "    </tr>\n",
              "  </tbody>\n",
              "</table>\n",
              "</div>"
            ],
            "text/plain": [
              "               Price  Horsepower  EngineSize\n",
              "Price       1.000000    0.788218    0.597425\n",
              "Horsepower  0.788218    1.000000    0.732120\n",
              "EngineSize  0.597425    0.732120    1.000000"
            ]
          },
          "execution_count": 163,
          "metadata": {},
          "output_type": "execute_result"
        }
      ],
      "source": [
        "cars[['Price', 'Horsepower', 'EngineSize']].corr()"
      ]
    },
    {
      "cell_type": "markdown",
      "metadata": {
        "id": "bb4d6f90"
      },
      "source": [
        "# Categorical vs. Continuous Analysis:\n",
        "Box Plot"
      ]
    },
    {
      "cell_type": "code",
      "execution_count": 164,
      "metadata": {
        "id": "6d6f3586"
      },
      "outputs": [
        {
          "data": {
            "image/png": "[encoded data removed]",
            "text/plain": [
              "<Figure size 640x480 with 1 Axes>"
            ]
          },
          "metadata": {},
          "output_type": "display_data"
        }
      ],
      "source": [
        "sns.boxplot(data=cars, x='Type', y='Price')\n",
        "plt.xlabel(\"Type\")\n",
        "plt.ylabel(\"Price\")\n",
        "plt.show()\n",
        "\n",
        "#Here circle represents 'Outliers' SOme data points are away from "
      ]
    },
    {
      "cell_type": "code",
      "execution_count": 165,
      "metadata": {},
      "outputs": [
        {
          "data": {
            "text/plain": [
              "<Axes: xlabel='Origin', ylabel='Price'>"
            ]
          },
          "execution_count": 165,
          "metadata": {},
          "output_type": "execute_result"
        },
        {
          "data": {
            "image/png": "[encoded data removed]",
            "text/plain": [
              "<Figure size 640x480 with 1 Axes>"
            ]
          },
          "metadata": {},
          "output_type": "display_data"
        }
      ],
      "source": [
        "cars.columns\n",
        "\n",
        "sns.boxplot(data=cars, x='Origin', y='Price')"
      ]
    },
    {
      "cell_type": "code",
      "execution_count": 166,
      "metadata": {},
      "outputs": [
        {
          "data": {
            "text/plain": [
              "<Axes: xlabel='Origin', ylabel='EngineSize'>"
            ]
          },
          "execution_count": 166,
          "metadata": {},
          "output_type": "execute_result"
        },
        {
          "data": {
            "image/png": "[encoded data removed]",
            "text/plain": [
              "<Figure size 640x480 with 1 Axes>"
            ]
          },
          "metadata": {},
          "output_type": "display_data"
        }
      ],
      "source": [
        "sns.boxplot(data=cars, x='Origin', y='EngineSize')\n"
      ]
    },
    {
      "cell_type": "code",
      "execution_count": 167,
      "metadata": {},
      "outputs": [
        {
          "data": {
            "text/plain": [
              "<Axes: xlabel='Origin', ylabel='RPM'>"
            ]
          },
          "execution_count": 167,
          "metadata": {},
          "output_type": "execute_result"
        },
        {
          "data": {
            "image/png": "[encoded data removed]",
            "text/plain": [
              "<Figure size 640x480 with 1 Axes>"
            ]
          },
          "metadata": {},
          "output_type": "display_data"
        }
      ],
      "source": [
        "sns.boxplot(data=cars, x='Origin', y='RPM')"
      ]
    },
    {
      "cell_type": "markdown",
      "metadata": {
        "id": "0da37fd8"
      },
      "source": [
        "# Categorical vs Categorical\n",
        "Cross Tab , Heatmap"
      ]
    },
    {
      "cell_type": "code",
      "execution_count": 168,
      "metadata": {},
      "outputs": [
        {
          "ename": "ValueError",
          "evalue": "Could not interpret value `MPG.P` for `y`. An entry with this name does not appear in `data`.",
          "output_type": "error",
          "traceback": [
            "\u001b[31m---------------------------------------------------------------------------\u001b[39m",
            "\u001b[31mValueError\u001b[39m                                Traceback (most recent call last)",
            "\u001b[36mCell\u001b[39m\u001b[36m \u001b[39m\u001b[32mIn[168]\u001b[39m\u001b[32m, line 1\u001b[39m\n\u001b[32m----> \u001b[39m\u001b[32m1\u001b[39m \u001b[43msns\u001b[49m\u001b[43m.\u001b[49m\u001b[43mboxplot\u001b[49m\u001b[43m(\u001b[49m\u001b[43mdata\u001b[49m\u001b[43m=\u001b[49m\u001b[43mcars\u001b[49m\u001b[43m,\u001b[49m\u001b[43m \u001b[49m\u001b[43mx\u001b[49m\u001b[43m=\u001b[49m\u001b[33;43m'\u001b[39;49m\u001b[33;43mOrigin\u001b[39;49m\u001b[33;43m'\u001b[39;49m\u001b[43m,\u001b[49m\u001b[43m \u001b[49m\u001b[43my\u001b[49m\u001b[43m=\u001b[49m\u001b[33;43m'\u001b[39;49m\u001b[33;43mMPG.P\u001b[39;49m\u001b[33;43m'\u001b[39;49m\u001b[43m)\u001b[49m\n",
            "\u001b[36mFile \u001b[39m\u001b[32mc:\\Users\\seknathraogu\\AppData\\Local\\Programs\\Python\\Python313\\Lib\\site-packages\\seaborn\\categorical.py:1597\u001b[39m, in \u001b[36mboxplot\u001b[39m\u001b[34m(data, x, y, hue, order, hue_order, orient, color, palette, saturation, fill, dodge, width, gap, whis, linecolor, linewidth, fliersize, hue_norm, native_scale, log_scale, formatter, legend, ax, **kwargs)\u001b[39m\n\u001b[32m   1589\u001b[39m \u001b[38;5;28;01mdef\u001b[39;00m\u001b[38;5;250m \u001b[39m\u001b[34mboxplot\u001b[39m(\n\u001b[32m   1590\u001b[39m     data=\u001b[38;5;28;01mNone\u001b[39;00m, *, x=\u001b[38;5;28;01mNone\u001b[39;00m, y=\u001b[38;5;28;01mNone\u001b[39;00m, hue=\u001b[38;5;28;01mNone\u001b[39;00m, order=\u001b[38;5;28;01mNone\u001b[39;00m, hue_order=\u001b[38;5;28;01mNone\u001b[39;00m,\n\u001b[32m   1591\u001b[39m     orient=\u001b[38;5;28;01mNone\u001b[39;00m, color=\u001b[38;5;28;01mNone\u001b[39;00m, palette=\u001b[38;5;28;01mNone\u001b[39;00m, saturation=\u001b[32m.75\u001b[39m, fill=\u001b[38;5;28;01mTrue\u001b[39;00m,\n\u001b[32m   (...)\u001b[39m\u001b[32m   1594\u001b[39m     legend=\u001b[33m\"\u001b[39m\u001b[33mauto\u001b[39m\u001b[33m\"\u001b[39m, ax=\u001b[38;5;28;01mNone\u001b[39;00m, **kwargs\n\u001b[32m   1595\u001b[39m ):\n\u001b[32m-> \u001b[39m\u001b[32m1597\u001b[39m     p = \u001b[43m_CategoricalPlotter\u001b[49m\u001b[43m(\u001b[49m\n\u001b[32m   1598\u001b[39m \u001b[43m        \u001b[49m\u001b[43mdata\u001b[49m\u001b[43m=\u001b[49m\u001b[43mdata\u001b[49m\u001b[43m,\u001b[49m\n\u001b[32m   1599\u001b[39m \u001b[43m        \u001b[49m\u001b[43mvariables\u001b[49m\u001b[43m=\u001b[49m\u001b[38;5;28;43mdict\u001b[39;49m\u001b[43m(\u001b[49m\u001b[43mx\u001b[49m\u001b[43m=\u001b[49m\u001b[43mx\u001b[49m\u001b[43m,\u001b[49m\u001b[43m \u001b[49m\u001b[43my\u001b[49m\u001b[43m=\u001b[49m\u001b[43my\u001b[49m\u001b[43m,\u001b[49m\u001b[43m \u001b[49m\u001b[43mhue\u001b[49m\u001b[43m=\u001b[49m\u001b[43mhue\u001b[49m\u001b[43m)\u001b[49m\u001b[43m,\u001b[49m\n\u001b[32m   1600\u001b[39m \u001b[43m        \u001b[49m\u001b[43morder\u001b[49m\u001b[43m=\u001b[49m\u001b[43morder\u001b[49m\u001b[43m,\u001b[49m\n\u001b[32m   1601\u001b[39m \u001b[43m        \u001b[49m\u001b[43morient\u001b[49m\u001b[43m=\u001b[49m\u001b[43morient\u001b[49m\u001b[43m,\u001b[49m\n\u001b[32m   1602\u001b[39m \u001b[43m        \u001b[49m\u001b[43mcolor\u001b[49m\u001b[43m=\u001b[49m\u001b[43mcolor\u001b[49m\u001b[43m,\u001b[49m\n\u001b[32m   1603\u001b[39m \u001b[43m        \u001b[49m\u001b[43mlegend\u001b[49m\u001b[43m=\u001b[49m\u001b[43mlegend\u001b[49m\u001b[43m,\u001b[49m\n\u001b[32m   1604\u001b[39m \u001b[43m    \u001b[49m\u001b[43m)\u001b[49m\n\u001b[32m   1606\u001b[39m     \u001b[38;5;28;01mif\u001b[39;00m ax \u001b[38;5;129;01mis\u001b[39;00m \u001b[38;5;28;01mNone\u001b[39;00m:\n\u001b[32m   1607\u001b[39m         ax = plt.gca()\n",
            "\u001b[36mFile \u001b[39m\u001b[32mc:\\Users\\seknathraogu\\AppData\\Local\\Programs\\Python\\Python313\\Lib\\site-packages\\seaborn\\categorical.py:67\u001b[39m, in \u001b[36m_CategoricalPlotter.__init__\u001b[39m\u001b[34m(self, data, variables, order, orient, require_numeric, color, legend)\u001b[39m\n\u001b[32m     56\u001b[39m \u001b[38;5;28;01mdef\u001b[39;00m\u001b[38;5;250m \u001b[39m\u001b[34m__init__\u001b[39m(\n\u001b[32m     57\u001b[39m     \u001b[38;5;28mself\u001b[39m,\n\u001b[32m     58\u001b[39m     data=\u001b[38;5;28;01mNone\u001b[39;00m,\n\u001b[32m   (...)\u001b[39m\u001b[32m     64\u001b[39m     legend=\u001b[33m\"\u001b[39m\u001b[33mauto\u001b[39m\u001b[33m\"\u001b[39m,\n\u001b[32m     65\u001b[39m ):\n\u001b[32m---> \u001b[39m\u001b[32m67\u001b[39m     \u001b[38;5;28;43msuper\u001b[39;49m\u001b[43m(\u001b[49m\u001b[43m)\u001b[49m\u001b[43m.\u001b[49m\u001b[34;43m__init__\u001b[39;49m\u001b[43m(\u001b[49m\u001b[43mdata\u001b[49m\u001b[43m=\u001b[49m\u001b[43mdata\u001b[49m\u001b[43m,\u001b[49m\u001b[43m \u001b[49m\u001b[43mvariables\u001b[49m\u001b[43m=\u001b[49m\u001b[43mvariables\u001b[49m\u001b[43m)\u001b[49m\n\u001b[32m     69\u001b[39m     \u001b[38;5;66;03m# This method takes care of some bookkeeping that is necessary because the\u001b[39;00m\n\u001b[32m     70\u001b[39m     \u001b[38;5;66;03m# original categorical plots (prior to the 2021 refactor) had some rules that\u001b[39;00m\n\u001b[32m     71\u001b[39m     \u001b[38;5;66;03m# don't fit exactly into VectorPlotter logic. It may be wise to have a second\u001b[39;00m\n\u001b[32m   (...)\u001b[39m\u001b[32m     76\u001b[39m     \u001b[38;5;66;03m# default VectorPlotter rules. If we do decide to make orient part of the\u001b[39;00m\n\u001b[32m     77\u001b[39m     \u001b[38;5;66;03m# _base variable assignment, we'll want to figure out how to express that.\u001b[39;00m\n\u001b[32m     78\u001b[39m     \u001b[38;5;28;01mif\u001b[39;00m \u001b[38;5;28mself\u001b[39m.input_format == \u001b[33m\"\u001b[39m\u001b[33mwide\u001b[39m\u001b[33m\"\u001b[39m \u001b[38;5;129;01mand\u001b[39;00m orient \u001b[38;5;129;01min\u001b[39;00m [\u001b[33m\"\u001b[39m\u001b[33mh\u001b[39m\u001b[33m\"\u001b[39m, \u001b[33m\"\u001b[39m\u001b[33my\u001b[39m\u001b[33m\"\u001b[39m]:\n",
            "\u001b[36mFile \u001b[39m\u001b[32mc:\\Users\\seknathraogu\\AppData\\Local\\Programs\\Python\\Python313\\Lib\\site-packages\\seaborn\\_base.py:634\u001b[39m, in \u001b[36mVectorPlotter.__init__\u001b[39m\u001b[34m(self, data, variables)\u001b[39m\n\u001b[32m    629\u001b[39m \u001b[38;5;66;03m# var_ordered is relevant only for categorical axis variables, and may\u001b[39;00m\n\u001b[32m    630\u001b[39m \u001b[38;5;66;03m# be better handled by an internal axis information object that tracks\u001b[39;00m\n\u001b[32m    631\u001b[39m \u001b[38;5;66;03m# such information and is set up by the scale_* methods. The analogous\u001b[39;00m\n\u001b[32m    632\u001b[39m \u001b[38;5;66;03m# information for numeric axes would be information about log scales.\u001b[39;00m\n\u001b[32m    633\u001b[39m \u001b[38;5;28mself\u001b[39m._var_ordered = {\u001b[33m\"\u001b[39m\u001b[33mx\u001b[39m\u001b[33m\"\u001b[39m: \u001b[38;5;28;01mFalse\u001b[39;00m, \u001b[33m\"\u001b[39m\u001b[33my\u001b[39m\u001b[33m\"\u001b[39m: \u001b[38;5;28;01mFalse\u001b[39;00m}  \u001b[38;5;66;03m# alt., used DefaultDict\u001b[39;00m\n\u001b[32m--> \u001b[39m\u001b[32m634\u001b[39m \u001b[38;5;28;43mself\u001b[39;49m\u001b[43m.\u001b[49m\u001b[43massign_variables\u001b[49m\u001b[43m(\u001b[49m\u001b[43mdata\u001b[49m\u001b[43m,\u001b[49m\u001b[43m \u001b[49m\u001b[43mvariables\u001b[49m\u001b[43m)\u001b[49m\n\u001b[32m    636\u001b[39m \u001b[38;5;66;03m# TODO Lots of tests assume that these are called to initialize the\u001b[39;00m\n\u001b[32m    637\u001b[39m \u001b[38;5;66;03m# mappings to default values on class initialization. I'd prefer to\u001b[39;00m\n\u001b[32m    638\u001b[39m \u001b[38;5;66;03m# move away from that and only have a mapping when explicitly called.\u001b[39;00m\n\u001b[32m    639\u001b[39m \u001b[38;5;28;01mfor\u001b[39;00m var \u001b[38;5;129;01min\u001b[39;00m [\u001b[33m\"\u001b[39m\u001b[33mhue\u001b[39m\u001b[33m\"\u001b[39m, \u001b[33m\"\u001b[39m\u001b[33msize\u001b[39m\u001b[33m\"\u001b[39m, \u001b[33m\"\u001b[39m\u001b[33mstyle\u001b[39m\u001b[33m\"\u001b[39m]:\n",
            "\u001b[36mFile \u001b[39m\u001b[32mc:\\Users\\seknathraogu\\AppData\\Local\\Programs\\Python\\Python313\\Lib\\site-packages\\seaborn\\_base.py:679\u001b[39m, in \u001b[36mVectorPlotter.assign_variables\u001b[39m\u001b[34m(self, data, variables)\u001b[39m\n\u001b[32m    674\u001b[39m \u001b[38;5;28;01melse\u001b[39;00m:\n\u001b[32m    675\u001b[39m     \u001b[38;5;66;03m# When dealing with long-form input, use the newer PlotData\u001b[39;00m\n\u001b[32m    676\u001b[39m     \u001b[38;5;66;03m# object (internal but introduced for the objects interface)\u001b[39;00m\n\u001b[32m    677\u001b[39m     \u001b[38;5;66;03m# to centralize / standardize data consumption logic.\u001b[39;00m\n\u001b[32m    678\u001b[39m     \u001b[38;5;28mself\u001b[39m.input_format = \u001b[33m\"\u001b[39m\u001b[33mlong\u001b[39m\u001b[33m\"\u001b[39m\n\u001b[32m--> \u001b[39m\u001b[32m679\u001b[39m     plot_data = \u001b[43mPlotData\u001b[49m\u001b[43m(\u001b[49m\u001b[43mdata\u001b[49m\u001b[43m,\u001b[49m\u001b[43m \u001b[49m\u001b[43mvariables\u001b[49m\u001b[43m)\u001b[49m\n\u001b[32m    680\u001b[39m     frame = plot_data.frame\n\u001b[32m    681\u001b[39m     names = plot_data.names\n",
            "\u001b[36mFile \u001b[39m\u001b[32mc:\\Users\\seknathraogu\\AppData\\Local\\Programs\\Python\\Python313\\Lib\\site-packages\\seaborn\\_core\\data.py:58\u001b[39m, in \u001b[36mPlotData.__init__\u001b[39m\u001b[34m(self, data, variables)\u001b[39m\n\u001b[32m     51\u001b[39m \u001b[38;5;28;01mdef\u001b[39;00m\u001b[38;5;250m \u001b[39m\u001b[34m__init__\u001b[39m(\n\u001b[32m     52\u001b[39m     \u001b[38;5;28mself\u001b[39m,\n\u001b[32m     53\u001b[39m     data: DataSource,\n\u001b[32m     54\u001b[39m     variables: \u001b[38;5;28mdict\u001b[39m[\u001b[38;5;28mstr\u001b[39m, VariableSpec],\n\u001b[32m     55\u001b[39m ):\n\u001b[32m     57\u001b[39m     data = handle_data_source(data)\n\u001b[32m---> \u001b[39m\u001b[32m58\u001b[39m     frame, names, ids = \u001b[38;5;28;43mself\u001b[39;49m\u001b[43m.\u001b[49m\u001b[43m_assign_variables\u001b[49m\u001b[43m(\u001b[49m\u001b[43mdata\u001b[49m\u001b[43m,\u001b[49m\u001b[43m \u001b[49m\u001b[43mvariables\u001b[49m\u001b[43m)\u001b[49m\n\u001b[32m     60\u001b[39m     \u001b[38;5;28mself\u001b[39m.frame = frame\n\u001b[32m     61\u001b[39m     \u001b[38;5;28mself\u001b[39m.names = names\n",
            "\u001b[36mFile \u001b[39m\u001b[32mc:\\Users\\seknathraogu\\AppData\\Local\\Programs\\Python\\Python313\\Lib\\site-packages\\seaborn\\_core\\data.py:232\u001b[39m, in \u001b[36mPlotData._assign_variables\u001b[39m\u001b[34m(self, data, variables)\u001b[39m\n\u001b[32m    230\u001b[39m     \u001b[38;5;28;01melse\u001b[39;00m:\n\u001b[32m    231\u001b[39m         err += \u001b[33m\"\u001b[39m\u001b[33mAn entry with this name does not appear in `data`.\u001b[39m\u001b[33m\"\u001b[39m\n\u001b[32m--> \u001b[39m\u001b[32m232\u001b[39m     \u001b[38;5;28;01mraise\u001b[39;00m \u001b[38;5;167;01mValueError\u001b[39;00m(err)\n\u001b[32m    234\u001b[39m \u001b[38;5;28;01melse\u001b[39;00m:\n\u001b[32m    235\u001b[39m \n\u001b[32m    236\u001b[39m     \u001b[38;5;66;03m# Otherwise, assume the value somehow represents data\u001b[39;00m\n\u001b[32m    237\u001b[39m \n\u001b[32m    238\u001b[39m     \u001b[38;5;66;03m# Ignore empty data structures\u001b[39;00m\n\u001b[32m    239\u001b[39m     \u001b[38;5;28;01mif\u001b[39;00m \u001b[38;5;28misinstance\u001b[39m(val, Sized) \u001b[38;5;129;01mand\u001b[39;00m \u001b[38;5;28mlen\u001b[39m(val) == \u001b[32m0\u001b[39m:\n",
            "\u001b[31mValueError\u001b[39m: Could not interpret value `MPG.P` for `y`. An entry with this name does not appear in `data`."
          ]
        }
      ],
      "source": [
        "sns.boxplot(data=cars, x='Origin', y='MPG.P')"
      ]
    },
    {
      "cell_type": "code",
      "execution_count": null,
      "metadata": {},
      "outputs": [
        {
          "data": {
            "text/html": [
              "<div>\n",
              "<style scoped>\n",
              "    .dataframe tbody tr th:only-of-type {\n",
              "        vertical-align: middle;\n",
              "    }\n",
              "\n",
              "    .dataframe tbody tr th {\n",
              "        vertical-align: top;\n",
              "    }\n",
              "\n",
              "    .dataframe thead th {\n",
              "        text-align: right;\n",
              "    }\n",
              "</style>\n",
              "<table border=\"1\" class=\"dataframe\">\n",
              "  <thead>\n",
              "    <tr style=\"text-align: right;\">\n",
              "      <th>Origin</th>\n",
              "      <th>USA</th>\n",
              "      <th>non-USA</th>\n",
              "    </tr>\n",
              "    <tr>\n",
              "      <th>AirBags</th>\n",
              "      <th></th>\n",
              "      <th></th>\n",
              "    </tr>\n",
              "  </thead>\n",
              "  <tbody>\n",
              "    <tr>\n",
              "      <th>Driver &amp; Passenger</th>\n",
              "      <td>8</td>\n",
              "      <td>6</td>\n",
              "    </tr>\n",
              "    <tr>\n",
              "      <th>Driver only</th>\n",
              "      <td>40</td>\n",
              "      <td>39</td>\n",
              "    </tr>\n",
              "  </tbody>\n",
              "</table>\n",
              "</div>"
            ],
            "text/plain": [
              "Origin              USA  non-USA\n",
              "AirBags                         \n",
              "Driver & Passenger    8        6\n",
              "Driver only          40       39"
            ]
          },
          "execution_count": 26,
          "metadata": {},
          "output_type": "execute_result"
        }
      ],
      "source": [
        "pd.crosstab(cars['AirBags'], cars['Origin'])"
      ]
    },
    {
      "cell_type": "code",
      "execution_count": null,
      "metadata": {},
      "outputs": [
        {
          "data": {
            "image/png": "[encoded data removed]",
            "text/plain": [
              "<Figure size 640x480 with 2 Axes>"
            ]
          },
          "metadata": {},
          "output_type": "display_data"
        }
      ],
      "source": [
        "plt.imshow(cars[['Price']].values.T, cmap='viridis', aspect='auto')\n",
        "plt.title('Heatmap of Horsepower and Price')\n",
        "plt.xlabel('Car Index')\n",
        "plt.yticks([0, 1], ['Horsepower', 'Price'])\n",
        "plt.colorbar(label='Value')\n",
        "plt.show()"
      ]
    },
    {
      "cell_type": "code",
      "execution_count": null,
      "metadata": {},
      "outputs": [
        {
          "data": {
            "text/plain": [
              "<Axes: xlabel='Price', ylabel='Manufacturer'>"
            ]
          },
          "execution_count": 113,
          "metadata": {},
          "output_type": "execute_result"
        },
        {
          "data": {
            "image/png": "[encoded data removed]",
            "text/plain": [
              "<Figure size 1600x1000 with 2 Axes>"
            ]
          },
          "metadata": {},
          "output_type": "display_data"
        }
      ],
      "source": [
        "car = cars.sort_values('Price', ascending=False)\n",
        "plt.figure(figsize=(16,10))\n",
        "ab = pd.crosstab(car['Manufacturer'], car['Price'])\n",
        "sns.heatmap(ab, cmap='viridis', annot=False)\n"
      ]
    },
    {
      "cell_type": "code",
      "execution_count": null,
      "metadata": {},
      "outputs": [],
      "source": [
        "ctb= pd.crosstab(cars['AirBags'], cars['Type'])"
      ]
    },
    {
      "cell_type": "code",
      "execution_count": null,
      "metadata": {},
      "outputs": [
        {
          "data": {
            "text/plain": [
              "<Axes: xlabel='Type', ylabel='AirBags'>"
            ]
          },
          "execution_count": 28,
          "metadata": {},
          "output_type": "execute_result"
        },
        {
          "data": {
            "image/png": "[encoded data removed]",
            "text/plain": [
              "<Figure size 640x480 with 2 Axes>"
            ]
          },
          "metadata": {},
          "output_type": "display_data"
        }
      ],
      "source": [
        "sns.heatmap(ctb, annot=True)"
      ]
    },
    {
      "cell_type": "markdown",
      "metadata": {
        "id": "67a646ec"
      },
      "source": [
        "# Multivariate Analysis\n",
        "pairplot"
      ]
    },
    {
      "cell_type": "code",
      "execution_count": null,
      "metadata": {
        "id": "890b6427"
      },
      "outputs": [
        {
          "data": {
            "text/plain": [
              "<seaborn.axisgrid.PairGrid at 0x269997be660>"
            ]
          },
          "execution_count": 29,
          "metadata": {},
          "output_type": "execute_result"
        },
        {
          "data": {
            "image/png": "[encoded data removed]",
            "text/plain": [
              "<Figure size 1000x250 with 4 Axes>"
            ]
          },
          "metadata": {},
          "output_type": "display_data"
        }
      ],
      "source": [
        "sns.pairplot(y_vars='Price', x_vars=['Horsepower', 'EngineSize','Weight', 'MPG.highway'], data=cars)"
      ]
    },
    {
      "cell_type": "code",
      "execution_count": null,
      "metadata": {},
      "outputs": [
        {
          "data": {
            "text/html": [
              "<div>\n",
              "<style scoped>\n",
              "    .dataframe tbody tr th:only-of-type {\n",
              "        vertical-align: middle;\n",
              "    }\n",
              "\n",
              "    .dataframe tbody tr th {\n",
              "        vertical-align: top;\n",
              "    }\n",
              "\n",
              "    .dataframe thead th {\n",
              "        text-align: right;\n",
              "    }\n",
              "</style>\n",
              "<table border=\"1\" class=\"dataframe\">\n",
              "  <thead>\n",
              "    <tr style=\"text-align: right;\">\n",
              "      <th></th>\n",
              "      <th>Horsepower</th>\n",
              "      <th>EngineSize</th>\n",
              "      <th>Weight</th>\n",
              "      <th>MPG.highway</th>\n",
              "    </tr>\n",
              "  </thead>\n",
              "  <tbody>\n",
              "    <tr>\n",
              "      <th>Horsepower</th>\n",
              "      <td>1.000000</td>\n",
              "      <td>0.732120</td>\n",
              "      <td>0.738798</td>\n",
              "      <td>-0.619044</td>\n",
              "    </tr>\n",
              "    <tr>\n",
              "      <th>EngineSize</th>\n",
              "      <td>0.732120</td>\n",
              "      <td>1.000000</td>\n",
              "      <td>0.845075</td>\n",
              "      <td>-0.626795</td>\n",
              "    </tr>\n",
              "    <tr>\n",
              "      <th>Weight</th>\n",
              "      <td>0.738798</td>\n",
              "      <td>0.845075</td>\n",
              "      <td>1.000000</td>\n",
              "      <td>-0.810658</td>\n",
              "    </tr>\n",
              "    <tr>\n",
              "      <th>MPG.highway</th>\n",
              "      <td>-0.619044</td>\n",
              "      <td>-0.626795</td>\n",
              "      <td>-0.810658</td>\n",
              "      <td>1.000000</td>\n",
              "    </tr>\n",
              "  </tbody>\n",
              "</table>\n",
              "</div>"
            ],
            "text/plain": [
              "             Horsepower  EngineSize    Weight  MPG.highway\n",
              "Horsepower     1.000000    0.732120  0.738798    -0.619044\n",
              "EngineSize     0.732120    1.000000  0.845075    -0.626795\n",
              "Weight         0.738798    0.845075  1.000000    -0.810658\n",
              "MPG.highway   -0.619044   -0.626795 -0.810658     1.000000"
            ]
          },
          "execution_count": 30,
          "metadata": {},
          "output_type": "execute_result"
        }
      ],
      "source": [
        "cars[['Horsepower', 'EngineSize', 'Weight', 'MPG.highway']].corr()"
      ]
    },
    {
      "cell_type": "markdown",
      "metadata": {},
      "source": [
        "### Library wise detailed use of functions\n",
        "*Numpy function*"
      ]
    },
    {
      "cell_type": "code",
      "execution_count": null,
      "metadata": {},
      "outputs": [
        {
          "data": {
            "text/html": [
              "<div>\n",
              "<style scoped>\n",
              "    .dataframe tbody tr th:only-of-type {\n",
              "        vertical-align: middle;\n",
              "    }\n",
              "\n",
              "    .dataframe tbody tr th {\n",
              "        vertical-align: top;\n",
              "    }\n",
              "\n",
              "    .dataframe thead th {\n",
              "        text-align: right;\n",
              "    }\n",
              "</style>\n",
              "<table border=\"1\" class=\"dataframe\">\n",
              "  <thead>\n",
              "    <tr style=\"text-align: right;\">\n",
              "      <th></th>\n",
              "      <th>id</th>\n",
              "      <th>Manufacturer</th>\n",
              "      <th>Model</th>\n",
              "      <th>Type</th>\n",
              "      <th>Min.Price</th>\n",
              "      <th>Price</th>\n",
              "      <th>Max.Price</th>\n",
              "      <th>MPG.city</th>\n",
              "      <th>MPG.highway</th>\n",
              "      <th>AirBags</th>\n",
              "      <th>...</th>\n",
              "      <th>Passengers</th>\n",
              "      <th>Length</th>\n",
              "      <th>Wheelbase</th>\n",
              "      <th>Width</th>\n",
              "      <th>Turn.circle</th>\n",
              "      <th>Rear.seat.room</th>\n",
              "      <th>Luggage.room</th>\n",
              "      <th>Weight</th>\n",
              "      <th>Origin</th>\n",
              "      <th>Make</th>\n",
              "    </tr>\n",
              "  </thead>\n",
              "  <tbody>\n",
              "    <tr>\n",
              "      <th>0</th>\n",
              "      <td>1</td>\n",
              "      <td>Acura</td>\n",
              "      <td>Integra</td>\n",
              "      <td>Small</td>\n",
              "      <td>12.9</td>\n",
              "      <td>15.9</td>\n",
              "      <td>18.8</td>\n",
              "      <td>25</td>\n",
              "      <td>31</td>\n",
              "      <td>Driver only</td>\n",
              "      <td>...</td>\n",
              "      <td>5</td>\n",
              "      <td>177</td>\n",
              "      <td>102</td>\n",
              "      <td>68</td>\n",
              "      <td>37</td>\n",
              "      <td>26.5</td>\n",
              "      <td>11.000000</td>\n",
              "      <td>2705</td>\n",
              "      <td>non-USA</td>\n",
              "      <td>Acura Integra</td>\n",
              "    </tr>\n",
              "    <tr>\n",
              "      <th>1</th>\n",
              "      <td>2</td>\n",
              "      <td>Acura</td>\n",
              "      <td>Legend</td>\n",
              "      <td>Midsize</td>\n",
              "      <td>29.2</td>\n",
              "      <td>33.9</td>\n",
              "      <td>38.7</td>\n",
              "      <td>18</td>\n",
              "      <td>25</td>\n",
              "      <td>Driver &amp; Passenger</td>\n",
              "      <td>...</td>\n",
              "      <td>5</td>\n",
              "      <td>195</td>\n",
              "      <td>115</td>\n",
              "      <td>71</td>\n",
              "      <td>38</td>\n",
              "      <td>30.0</td>\n",
              "      <td>15.000000</td>\n",
              "      <td>3560</td>\n",
              "      <td>non-USA</td>\n",
              "      <td>Acura Legend</td>\n",
              "    </tr>\n",
              "    <tr>\n",
              "      <th>2</th>\n",
              "      <td>3</td>\n",
              "      <td>Audi</td>\n",
              "      <td>90</td>\n",
              "      <td>Compact</td>\n",
              "      <td>25.9</td>\n",
              "      <td>29.1</td>\n",
              "      <td>32.3</td>\n",
              "      <td>20</td>\n",
              "      <td>26</td>\n",
              "      <td>Driver only</td>\n",
              "      <td>...</td>\n",
              "      <td>5</td>\n",
              "      <td>180</td>\n",
              "      <td>102</td>\n",
              "      <td>67</td>\n",
              "      <td>37</td>\n",
              "      <td>28.0</td>\n",
              "      <td>14.000000</td>\n",
              "      <td>3375</td>\n",
              "      <td>non-USA</td>\n",
              "      <td>Audi 90</td>\n",
              "    </tr>\n",
              "    <tr>\n",
              "      <th>3</th>\n",
              "      <td>4</td>\n",
              "      <td>Audi</td>\n",
              "      <td>100</td>\n",
              "      <td>Midsize</td>\n",
              "      <td>30.8</td>\n",
              "      <td>37.7</td>\n",
              "      <td>44.6</td>\n",
              "      <td>19</td>\n",
              "      <td>26</td>\n",
              "      <td>Driver only</td>\n",
              "      <td>...</td>\n",
              "      <td>6</td>\n",
              "      <td>193</td>\n",
              "      <td>106</td>\n",
              "      <td>70</td>\n",
              "      <td>37</td>\n",
              "      <td>31.0</td>\n",
              "      <td>17.000000</td>\n",
              "      <td>3405</td>\n",
              "      <td>non-USA</td>\n",
              "      <td>Audi 100</td>\n",
              "    </tr>\n",
              "    <tr>\n",
              "      <th>4</th>\n",
              "      <td>5</td>\n",
              "      <td>BMW</td>\n",
              "      <td>535i</td>\n",
              "      <td>Midsize</td>\n",
              "      <td>23.7</td>\n",
              "      <td>30.0</td>\n",
              "      <td>36.2</td>\n",
              "      <td>22</td>\n",
              "      <td>30</td>\n",
              "      <td>Driver only</td>\n",
              "      <td>...</td>\n",
              "      <td>4</td>\n",
              "      <td>186</td>\n",
              "      <td>109</td>\n",
              "      <td>69</td>\n",
              "      <td>39</td>\n",
              "      <td>27.0</td>\n",
              "      <td>13.000000</td>\n",
              "      <td>3640</td>\n",
              "      <td>non-USA</td>\n",
              "      <td>BMW 535i</td>\n",
              "    </tr>\n",
              "    <tr>\n",
              "      <th>...</th>\n",
              "      <td>...</td>\n",
              "      <td>...</td>\n",
              "      <td>...</td>\n",
              "      <td>...</td>\n",
              "      <td>...</td>\n",
              "      <td>...</td>\n",
              "      <td>...</td>\n",
              "      <td>...</td>\n",
              "      <td>...</td>\n",
              "      <td>...</td>\n",
              "      <td>...</td>\n",
              "      <td>...</td>\n",
              "      <td>...</td>\n",
              "      <td>...</td>\n",
              "      <td>...</td>\n",
              "      <td>...</td>\n",
              "      <td>...</td>\n",
              "      <td>...</td>\n",
              "      <td>...</td>\n",
              "      <td>...</td>\n",
              "      <td>...</td>\n",
              "    </tr>\n",
              "    <tr>\n",
              "      <th>88</th>\n",
              "      <td>89</td>\n",
              "      <td>Volkswagen</td>\n",
              "      <td>Eurovan</td>\n",
              "      <td>Van</td>\n",
              "      <td>16.6</td>\n",
              "      <td>19.7</td>\n",
              "      <td>22.7</td>\n",
              "      <td>17</td>\n",
              "      <td>21</td>\n",
              "      <td>Driver only</td>\n",
              "      <td>...</td>\n",
              "      <td>7</td>\n",
              "      <td>187</td>\n",
              "      <td>115</td>\n",
              "      <td>72</td>\n",
              "      <td>38</td>\n",
              "      <td>34.0</td>\n",
              "      <td>13.890244</td>\n",
              "      <td>3960</td>\n",
              "      <td>non-USA</td>\n",
              "      <td>Volkswagen Eurovan</td>\n",
              "    </tr>\n",
              "    <tr>\n",
              "      <th>89</th>\n",
              "      <td>90</td>\n",
              "      <td>Volkswagen</td>\n",
              "      <td>Passat</td>\n",
              "      <td>Compact</td>\n",
              "      <td>17.6</td>\n",
              "      <td>20.0</td>\n",
              "      <td>22.4</td>\n",
              "      <td>21</td>\n",
              "      <td>30</td>\n",
              "      <td>Driver only</td>\n",
              "      <td>...</td>\n",
              "      <td>5</td>\n",
              "      <td>180</td>\n",
              "      <td>103</td>\n",
              "      <td>67</td>\n",
              "      <td>35</td>\n",
              "      <td>31.5</td>\n",
              "      <td>14.000000</td>\n",
              "      <td>2985</td>\n",
              "      <td>non-USA</td>\n",
              "      <td>Volkswagen Passat</td>\n",
              "    </tr>\n",
              "    <tr>\n",
              "      <th>90</th>\n",
              "      <td>91</td>\n",
              "      <td>Volkswagen</td>\n",
              "      <td>Corrado</td>\n",
              "      <td>Sporty</td>\n",
              "      <td>22.9</td>\n",
              "      <td>23.3</td>\n",
              "      <td>23.7</td>\n",
              "      <td>18</td>\n",
              "      <td>25</td>\n",
              "      <td>Driver only</td>\n",
              "      <td>...</td>\n",
              "      <td>4</td>\n",
              "      <td>159</td>\n",
              "      <td>97</td>\n",
              "      <td>66</td>\n",
              "      <td>36</td>\n",
              "      <td>26.0</td>\n",
              "      <td>15.000000</td>\n",
              "      <td>2810</td>\n",
              "      <td>non-USA</td>\n",
              "      <td>Volkswagen Corrado</td>\n",
              "    </tr>\n",
              "    <tr>\n",
              "      <th>91</th>\n",
              "      <td>92</td>\n",
              "      <td>Volvo</td>\n",
              "      <td>240</td>\n",
              "      <td>Compact</td>\n",
              "      <td>21.8</td>\n",
              "      <td>22.7</td>\n",
              "      <td>23.5</td>\n",
              "      <td>21</td>\n",
              "      <td>28</td>\n",
              "      <td>Driver only</td>\n",
              "      <td>...</td>\n",
              "      <td>5</td>\n",
              "      <td>190</td>\n",
              "      <td>104</td>\n",
              "      <td>67</td>\n",
              "      <td>37</td>\n",
              "      <td>29.5</td>\n",
              "      <td>14.000000</td>\n",
              "      <td>2985</td>\n",
              "      <td>non-USA</td>\n",
              "      <td>Volvo 240</td>\n",
              "    </tr>\n",
              "    <tr>\n",
              "      <th>92</th>\n",
              "      <td>93</td>\n",
              "      <td>Volvo</td>\n",
              "      <td>850</td>\n",
              "      <td>Midsize</td>\n",
              "      <td>24.8</td>\n",
              "      <td>26.7</td>\n",
              "      <td>28.5</td>\n",
              "      <td>20</td>\n",
              "      <td>28</td>\n",
              "      <td>Driver &amp; Passenger</td>\n",
              "      <td>...</td>\n",
              "      <td>5</td>\n",
              "      <td>184</td>\n",
              "      <td>105</td>\n",
              "      <td>69</td>\n",
              "      <td>38</td>\n",
              "      <td>30.0</td>\n",
              "      <td>15.000000</td>\n",
              "      <td>3245</td>\n",
              "      <td>non-USA</td>\n",
              "      <td>Volvo 850</td>\n",
              "    </tr>\n",
              "  </tbody>\n",
              "</table>\n",
              "<p>93 rows × 28 columns</p>\n",
              "</div>"
            ],
            "text/plain": [
              "    id Manufacturer    Model     Type  Min.Price  Price  Max.Price  MPG.city  \\\n",
              "0    1        Acura  Integra    Small       12.9   15.9       18.8        25   \n",
              "1    2        Acura   Legend  Midsize       29.2   33.9       38.7        18   \n",
              "2    3         Audi       90  Compact       25.9   29.1       32.3        20   \n",
              "3    4         Audi      100  Midsize       30.8   37.7       44.6        19   \n",
              "4    5          BMW     535i  Midsize       23.7   30.0       36.2        22   \n",
              "..  ..          ...      ...      ...        ...    ...        ...       ...   \n",
              "88  89   Volkswagen  Eurovan      Van       16.6   19.7       22.7        17   \n",
              "89  90   Volkswagen   Passat  Compact       17.6   20.0       22.4        21   \n",
              "90  91   Volkswagen  Corrado   Sporty       22.9   23.3       23.7        18   \n",
              "91  92        Volvo      240  Compact       21.8   22.7       23.5        21   \n",
              "92  93        Volvo      850  Midsize       24.8   26.7       28.5        20   \n",
              "\n",
              "    MPG.highway             AirBags  ... Passengers Length  Wheelbase  Width  \\\n",
              "0            31         Driver only  ...          5    177        102     68   \n",
              "1            25  Driver & Passenger  ...          5    195        115     71   \n",
              "2            26         Driver only  ...          5    180        102     67   \n",
              "3            26         Driver only  ...          6    193        106     70   \n",
              "4            30         Driver only  ...          4    186        109     69   \n",
              "..          ...                 ...  ...        ...    ...        ...    ...   \n",
              "88           21         Driver only  ...          7    187        115     72   \n",
              "89           30         Driver only  ...          5    180        103     67   \n",
              "90           25         Driver only  ...          4    159         97     66   \n",
              "91           28         Driver only  ...          5    190        104     67   \n",
              "92           28  Driver & Passenger  ...          5    184        105     69   \n",
              "\n",
              "    Turn.circle  Rear.seat.room Luggage.room  Weight   Origin  \\\n",
              "0            37            26.5    11.000000    2705  non-USA   \n",
              "1            38            30.0    15.000000    3560  non-USA   \n",
              "2            37            28.0    14.000000    3375  non-USA   \n",
              "3            37            31.0    17.000000    3405  non-USA   \n",
              "4            39            27.0    13.000000    3640  non-USA   \n",
              "..          ...             ...          ...     ...      ...   \n",
              "88           38            34.0    13.890244    3960  non-USA   \n",
              "89           35            31.5    14.000000    2985  non-USA   \n",
              "90           36            26.0    15.000000    2810  non-USA   \n",
              "91           37            29.5    14.000000    2985  non-USA   \n",
              "92           38            30.0    15.000000    3245  non-USA   \n",
              "\n",
              "                  Make  \n",
              "0        Acura Integra  \n",
              "1         Acura Legend  \n",
              "2              Audi 90  \n",
              "3             Audi 100  \n",
              "4             BMW 535i  \n",
              "..                 ...  \n",
              "88  Volkswagen Eurovan  \n",
              "89   Volkswagen Passat  \n",
              "90  Volkswagen Corrado  \n",
              "91           Volvo 240  \n",
              "92           Volvo 850  \n",
              "\n",
              "[93 rows x 28 columns]"
            ]
          },
          "execution_count": 31,
          "metadata": {},
          "output_type": "execute_result"
        }
      ],
      "source": [
        "cars"
      ]
    },
    {
      "cell_type": "code",
      "execution_count": null,
      "metadata": {},
      "outputs": [],
      "source": [
        "import numpy as np"
      ]
    },
    {
      "cell_type": "code",
      "execution_count": null,
      "metadata": {},
      "outputs": [
        {
          "name": "stdout",
          "output_type": "stream",
          "text": [
            "[12, 36, 9, 14, 45, 28]\n"
          ]
        }
      ],
      "source": [
        "a = [3,6,1,7,9,4]\n",
        "b = [4,6,9,2,5,7]\n",
        "c = []\n",
        "\n",
        "for i in range(len(a)):\n",
        "    c.append(a[i]*b[i])\n",
        "\n",
        "print(c)    "
      ]
    },
    {
      "cell_type": "code",
      "execution_count": null,
      "metadata": {},
      "outputs": [
        {
          "data": {
            "text/plain": [
              "array([[3, 5, 7],\n",
              "       [6, 8, 9]])"
            ]
          },
          "execution_count": 34,
          "metadata": {},
          "output_type": "execute_result"
        }
      ],
      "source": [
        "arr = np.array([[3,5,7],\n",
        "             [6,8,9]])\n",
        "\n",
        "arr"
      ]
    },
    {
      "cell_type": "code",
      "execution_count": null,
      "metadata": {},
      "outputs": [
        {
          "data": {
            "text/plain": [
              "(2, 3)"
            ]
          },
          "execution_count": 35,
          "metadata": {},
          "output_type": "execute_result"
        }
      ],
      "source": [
        "arr.shape"
      ]
    },
    {
      "cell_type": "code",
      "execution_count": null,
      "metadata": {},
      "outputs": [
        {
          "data": {
            "text/plain": [
              "array([[ 1,  2,  3,  4],\n",
              "       [ 5,  6,  7,  8],\n",
              "       [ 9, 10, 11, 12]])"
            ]
          },
          "execution_count": 36,
          "metadata": {},
          "output_type": "execute_result"
        }
      ],
      "source": [
        "ar = np.array([[1, 2, 3, 4], [5, 6, 7, 8], [9, 10, 11, 12]])\n",
        "ar"
      ]
    },
    {
      "cell_type": "code",
      "execution_count": null,
      "metadata": {},
      "outputs": [
        {
          "data": {
            "text/plain": [
              "2"
            ]
          },
          "execution_count": 37,
          "metadata": {},
          "output_type": "execute_result"
        }
      ],
      "source": [
        "#The number of dimensions of an array is contained in the ndim attribute.\n",
        "\n",
        "ar.ndim"
      ]
    },
    {
      "cell_type": "code",
      "execution_count": null,
      "metadata": {},
      "outputs": [
        {
          "data": {
            "text/plain": [
              "array([0., 0., 0.])"
            ]
          },
          "execution_count": 38,
          "metadata": {},
          "output_type": "execute_result"
        }
      ],
      "source": [
        "#Create an Array\n",
        "\n",
        "np.zeros(3)"
      ]
    },
    {
      "cell_type": "code",
      "execution_count": null,
      "metadata": {},
      "outputs": [
        {
          "data": {
            "text/plain": [
              "array([1., 1., 1., 1.])"
            ]
          },
          "execution_count": 39,
          "metadata": {},
          "output_type": "execute_result"
        }
      ],
      "source": [
        "np.ones(4)"
      ]
    },
    {
      "cell_type": "code",
      "execution_count": null,
      "metadata": {},
      "outputs": [
        {
          "data": {
            "text/plain": [
              "array([0, 1, 2, 3])"
            ]
          },
          "execution_count": 40,
          "metadata": {},
          "output_type": "execute_result"
        }
      ],
      "source": [
        "np.arange(4)"
      ]
    },
    {
      "cell_type": "code",
      "execution_count": null,
      "metadata": {},
      "outputs": [
        {
          "ename": "ValueError",
          "evalue": "cannot reshape array of size 55 into shape (27,2)",
          "output_type": "error",
          "traceback": [
            "\u001b[31m---------------------------------------------------------------------------\u001b[39m",
            "\u001b[31mValueError\u001b[39m                                Traceback (most recent call last)",
            "\u001b[36mCell\u001b[39m\u001b[36m \u001b[39m\u001b[32mIn[42]\u001b[39m\u001b[32m, line 2\u001b[39m\n\u001b[32m      1\u001b[39m array= np.arange(\u001b[32m1\u001b[39m,\u001b[32m111\u001b[39m, \u001b[32m2\u001b[39m)\n\u001b[32m----> \u001b[39m\u001b[32m2\u001b[39m \u001b[43marray\u001b[49m\u001b[43m.\u001b[49m\u001b[43mreshape\u001b[49m\u001b[43m(\u001b[49m\u001b[32;43m27\u001b[39;49m\u001b[43m,\u001b[49m\u001b[32;43m2\u001b[39;49m\u001b[43m)\u001b[49m\n",
            "\u001b[31mValueError\u001b[39m: cannot reshape array of size 55 into shape (27,2)"
          ]
        }
      ],
      "source": [
        "array= np.arange(1,111, 2)\n",
        "array.reshape(27,2)"
      ]
    },
    {
      "cell_type": "code",
      "execution_count": null,
      "metadata": {},
      "outputs": [
        {
          "data": {
            "text/plain": [
              "array([1, 2, 3, 4, 5, 6, 7, 8])"
            ]
          },
          "execution_count": 99,
          "metadata": {},
          "output_type": "execute_result"
        }
      ],
      "source": [
        "a = np.array([1, 2, 3, 4])\n",
        "b = np.array([5, 6, 7, 8])\n",
        "\n",
        "np.concatenate((a, b))"
      ]
    },
    {
      "cell_type": "code",
      "execution_count": null,
      "metadata": {},
      "outputs": [
        {
          "data": {
            "text/plain": [
              "array([[2, 3],\n",
              "       [4, 5]])"
            ]
          },
          "execution_count": 105,
          "metadata": {},
          "output_type": "execute_result"
        }
      ],
      "source": [
        "data = np.array([[1, 2], [3, 4]])\n",
        "ones = np.array([[1, 1], [1, 1]])\n",
        "data + ones"
      ]
    },
    {
      "cell_type": "code",
      "execution_count": null,
      "metadata": {},
      "outputs": [
        {
          "data": {
            "text/plain": [
              "array([8, 7, 6, 5, 4, 3, 2, 1])"
            ]
          },
          "execution_count": 108,
          "metadata": {},
          "output_type": "execute_result"
        }
      ],
      "source": [
        "#np.flip() function allows you to flip,\n",
        "arr = np.array([1, 2, 3, 4, 5, 6, 7, 8])\n",
        "reversed_arr = np.flip(arr)\n",
        "reversed_arr"
      ]
    },
    {
      "cell_type": "markdown",
      "metadata": {},
      "source": [
        "Seaborn"
      ]
    },
    {
      "cell_type": "code",
      "execution_count": 184,
      "metadata": {},
      "outputs": [
        {
          "data": {
            "text/html": [
              "<div>\n",
              "<style scoped>\n",
              "    .dataframe tbody tr th:only-of-type {\n",
              "        vertical-align: middle;\n",
              "    }\n",
              "\n",
              "    .dataframe tbody tr th {\n",
              "        vertical-align: top;\n",
              "    }\n",
              "\n",
              "    .dataframe thead th {\n",
              "        text-align: right;\n",
              "    }\n",
              "</style>\n",
              "<table border=\"1\" class=\"dataframe\">\n",
              "  <thead>\n",
              "    <tr style=\"text-align: right;\">\n",
              "      <th></th>\n",
              "      <th>Prefix</th>\n",
              "      <th>FirstName</th>\n",
              "      <th>LastName</th>\n",
              "      <th>BirthDate</th>\n",
              "      <th>MaritalStatus</th>\n",
              "      <th>Gender</th>\n",
              "      <th>EmailAddress</th>\n",
              "      <th>AnnualIncome</th>\n",
              "      <th>TotalChildren</th>\n",
              "      <th>EducationLevel</th>\n",
              "      <th>Occupation</th>\n",
              "      <th>HomeOwner</th>\n",
              "    </tr>\n",
              "    <tr>\n",
              "      <th>CustomerKey</th>\n",
              "      <th></th>\n",
              "      <th></th>\n",
              "      <th></th>\n",
              "      <th></th>\n",
              "      <th></th>\n",
              "      <th></th>\n",
              "      <th></th>\n",
              "      <th></th>\n",
              "      <th></th>\n",
              "      <th></th>\n",
              "      <th></th>\n",
              "      <th></th>\n",
              "    </tr>\n",
              "  </thead>\n",
              "  <tbody>\n",
              "    <tr>\n",
              "      <th>11000</th>\n",
              "      <td>MR.</td>\n",
              "      <td>JON</td>\n",
              "      <td>YANG</td>\n",
              "      <td>08-04-1966</td>\n",
              "      <td>M</td>\n",
              "      <td>M</td>\n",
              "      <td>jon24@adventure-works.com</td>\n",
              "      <td>90000.0</td>\n",
              "      <td>2.0</td>\n",
              "      <td>Bachelors</td>\n",
              "      <td>Professional</td>\n",
              "      <td>Y</td>\n",
              "    </tr>\n",
              "    <tr>\n",
              "      <th>11001</th>\n",
              "      <td>MR.</td>\n",
              "      <td>EUGENE</td>\n",
              "      <td>HUANG</td>\n",
              "      <td>14-05-1965</td>\n",
              "      <td>S</td>\n",
              "      <td>M</td>\n",
              "      <td>eugene10@adventure-works.com</td>\n",
              "      <td>60000.0</td>\n",
              "      <td>3.0</td>\n",
              "      <td>Bachelors</td>\n",
              "      <td>Professional</td>\n",
              "      <td>N</td>\n",
              "    </tr>\n",
              "    <tr>\n",
              "      <th>11002</th>\n",
              "      <td>MR.</td>\n",
              "      <td>RUBEN</td>\n",
              "      <td>TORRES</td>\n",
              "      <td>12-08-1965</td>\n",
              "      <td>M</td>\n",
              "      <td>M</td>\n",
              "      <td>ruben35@adventure-works.com</td>\n",
              "      <td>60000.0</td>\n",
              "      <td>3.0</td>\n",
              "      <td>Bachelors</td>\n",
              "      <td>Professional</td>\n",
              "      <td>Y</td>\n",
              "    </tr>\n",
              "    <tr>\n",
              "      <th>11003</th>\n",
              "      <td>MS.</td>\n",
              "      <td>CHRISTY</td>\n",
              "      <td>ZHU</td>\n",
              "      <td>15-02-1968</td>\n",
              "      <td>S</td>\n",
              "      <td>F</td>\n",
              "      <td>christy12@adventure-works.com</td>\n",
              "      <td>70000.0</td>\n",
              "      <td>0.0</td>\n",
              "      <td>Bachelors</td>\n",
              "      <td>Professional</td>\n",
              "      <td>N</td>\n",
              "    </tr>\n",
              "    <tr>\n",
              "      <th>11004</th>\n",
              "      <td>MRS.</td>\n",
              "      <td>ELIZABETH</td>\n",
              "      <td>JOHNSON</td>\n",
              "      <td>08-08-1968</td>\n",
              "      <td>S</td>\n",
              "      <td>F</td>\n",
              "      <td>elizabeth5@adventure-works.com</td>\n",
              "      <td>80000.0</td>\n",
              "      <td>5.0</td>\n",
              "      <td>Bachelors</td>\n",
              "      <td>Professional</td>\n",
              "      <td>Y</td>\n",
              "    </tr>\n",
              "    <tr>\n",
              "      <th>11005</th>\n",
              "      <td>MR.</td>\n",
              "      <td>JULIO</td>\n",
              "      <td>RUIZ</td>\n",
              "      <td>05-08-1965</td>\n",
              "      <td>S</td>\n",
              "      <td>M</td>\n",
              "      <td>julio1@adventure-works.com</td>\n",
              "      <td>70000.0</td>\n",
              "      <td>0.0</td>\n",
              "      <td>Bachelors</td>\n",
              "      <td>Professional</td>\n",
              "      <td>Y</td>\n",
              "    </tr>\n",
              "    <tr>\n",
              "      <th>11007</th>\n",
              "      <td>MR.</td>\n",
              "      <td>MARCO</td>\n",
              "      <td>MEHTA</td>\n",
              "      <td>09-05-1964</td>\n",
              "      <td>M</td>\n",
              "      <td>M</td>\n",
              "      <td>marco14@adventure-works.com</td>\n",
              "      <td>60000.0</td>\n",
              "      <td>3.0</td>\n",
              "      <td>Bachelors</td>\n",
              "      <td>Professional</td>\n",
              "      <td>Y</td>\n",
              "    </tr>\n",
              "    <tr>\n",
              "      <th>11008</th>\n",
              "      <td>MRS.</td>\n",
              "      <td>ROBIN</td>\n",
              "      <td>VERHOFF</td>\n",
              "      <td>07-07-1964</td>\n",
              "      <td>S</td>\n",
              "      <td>F</td>\n",
              "      <td>rob4@adventure-works.com</td>\n",
              "      <td>60000.0</td>\n",
              "      <td>4.0</td>\n",
              "      <td>Bachelors</td>\n",
              "      <td>Professional</td>\n",
              "      <td>Y</td>\n",
              "    </tr>\n",
              "    <tr>\n",
              "      <th>11009</th>\n",
              "      <td>MR.</td>\n",
              "      <td>SHANNON</td>\n",
              "      <td>CARLSON</td>\n",
              "      <td>01-04-1964</td>\n",
              "      <td>S</td>\n",
              "      <td>M</td>\n",
              "      <td>shannon38@adventure-works.com</td>\n",
              "      <td>70000.0</td>\n",
              "      <td>0.0</td>\n",
              "      <td>Bachelors</td>\n",
              "      <td>Professional</td>\n",
              "      <td>N</td>\n",
              "    </tr>\n",
              "    <tr>\n",
              "      <th>11010</th>\n",
              "      <td>MS.</td>\n",
              "      <td>JACQUELYN</td>\n",
              "      <td>SUAREZ</td>\n",
              "      <td>06-02-1964</td>\n",
              "      <td>S</td>\n",
              "      <td>F</td>\n",
              "      <td>jacquelyn20@adventure-works.com</td>\n",
              "      <td>70000.0</td>\n",
              "      <td>0.0</td>\n",
              "      <td>Bachelors</td>\n",
              "      <td>Professional</td>\n",
              "      <td>N</td>\n",
              "    </tr>\n",
              "  </tbody>\n",
              "</table>\n",
              "</div>"
            ],
            "text/plain": [
              "            Prefix  FirstName LastName   BirthDate MaritalStatus Gender  \\\n",
              "CustomerKey                                                               \n",
              "11000          MR.        JON     YANG  08-04-1966             M      M   \n",
              "11001          MR.     EUGENE    HUANG  14-05-1965             S      M   \n",
              "11002          MR.      RUBEN   TORRES  12-08-1965             M      M   \n",
              "11003          MS.    CHRISTY      ZHU  15-02-1968             S      F   \n",
              "11004         MRS.  ELIZABETH  JOHNSON  08-08-1968             S      F   \n",
              "11005          MR.      JULIO     RUIZ  05-08-1965             S      M   \n",
              "11007          MR.      MARCO    MEHTA  09-05-1964             M      M   \n",
              "11008         MRS.      ROBIN  VERHOFF  07-07-1964             S      F   \n",
              "11009          MR.    SHANNON  CARLSON  01-04-1964             S      M   \n",
              "11010          MS.  JACQUELYN   SUAREZ  06-02-1964             S      F   \n",
              "\n",
              "                                EmailAddress  AnnualIncome  TotalChildren  \\\n",
              "CustomerKey                                                                 \n",
              "11000              jon24@adventure-works.com       90000.0            2.0   \n",
              "11001           eugene10@adventure-works.com       60000.0            3.0   \n",
              "11002            ruben35@adventure-works.com       60000.0            3.0   \n",
              "11003          christy12@adventure-works.com       70000.0            0.0   \n",
              "11004         elizabeth5@adventure-works.com       80000.0            5.0   \n",
              "11005             julio1@adventure-works.com       70000.0            0.0   \n",
              "11007            marco14@adventure-works.com       60000.0            3.0   \n",
              "11008               rob4@adventure-works.com       60000.0            4.0   \n",
              "11009          shannon38@adventure-works.com       70000.0            0.0   \n",
              "11010        jacquelyn20@adventure-works.com       70000.0            0.0   \n",
              "\n",
              "            EducationLevel    Occupation HomeOwner  \n",
              "CustomerKey                                         \n",
              "11000            Bachelors  Professional         Y  \n",
              "11001            Bachelors  Professional         N  \n",
              "11002            Bachelors  Professional         Y  \n",
              "11003            Bachelors  Professional         N  \n",
              "11004            Bachelors  Professional         Y  \n",
              "11005            Bachelors  Professional         Y  \n",
              "11007            Bachelors  Professional         Y  \n",
              "11008            Bachelors  Professional         Y  \n",
              "11009            Bachelors  Professional         N  \n",
              "11010            Bachelors  Professional         N  "
            ]
          },
          "execution_count": 184,
          "metadata": {},
          "output_type": "execute_result"
        }
      ],
      "source": [
        "import seaborn as sns\n",
        "cust = pd.read_csv('Customers.csv', encoding='iso-8859-1', index_col='CustomerKey')\n",
        "cust.head(10)"
      ]
    },
    {
      "cell_type": "code",
      "execution_count": 186,
      "metadata": {},
      "outputs": [
        {
          "data": {
            "text/html": [
              "<div>\n",
              "<style scoped>\n",
              "    .dataframe tbody tr th:only-of-type {\n",
              "        vertical-align: middle;\n",
              "    }\n",
              "\n",
              "    .dataframe tbody tr th {\n",
              "        vertical-align: top;\n",
              "    }\n",
              "\n",
              "    .dataframe thead th {\n",
              "        text-align: right;\n",
              "    }\n",
              "</style>\n",
              "<table border=\"1\" class=\"dataframe\">\n",
              "  <thead>\n",
              "    <tr style=\"text-align: right;\">\n",
              "      <th></th>\n",
              "      <th>id</th>\n",
              "      <th>Manufacturer</th>\n",
              "      <th>Model</th>\n",
              "      <th>Type</th>\n",
              "      <th>Min.Price</th>\n",
              "      <th>Price</th>\n",
              "      <th>Max.Price</th>\n",
              "      <th>MPG.city</th>\n",
              "      <th>MPG.highway</th>\n",
              "      <th>AirBags</th>\n",
              "      <th>...</th>\n",
              "      <th>Passengers</th>\n",
              "      <th>Length</th>\n",
              "      <th>Wheelbase</th>\n",
              "      <th>Width</th>\n",
              "      <th>Turn.circle</th>\n",
              "      <th>Rear.seat.room</th>\n",
              "      <th>Luggage.room</th>\n",
              "      <th>Weight</th>\n",
              "      <th>Origin</th>\n",
              "      <th>Make</th>\n",
              "    </tr>\n",
              "  </thead>\n",
              "  <tbody>\n",
              "    <tr>\n",
              "      <th>0</th>\n",
              "      <td>1</td>\n",
              "      <td>Acura</td>\n",
              "      <td>Integra</td>\n",
              "      <td>Small</td>\n",
              "      <td>12.9</td>\n",
              "      <td>15.9</td>\n",
              "      <td>18.8</td>\n",
              "      <td>25</td>\n",
              "      <td>31</td>\n",
              "      <td>Driver only</td>\n",
              "      <td>...</td>\n",
              "      <td>5</td>\n",
              "      <td>177</td>\n",
              "      <td>102</td>\n",
              "      <td>68</td>\n",
              "      <td>37</td>\n",
              "      <td>26.5</td>\n",
              "      <td>11.000000</td>\n",
              "      <td>2705</td>\n",
              "      <td>non-USA</td>\n",
              "      <td>Acura Integra</td>\n",
              "    </tr>\n",
              "    <tr>\n",
              "      <th>1</th>\n",
              "      <td>2</td>\n",
              "      <td>Acura</td>\n",
              "      <td>Legend</td>\n",
              "      <td>Midsize</td>\n",
              "      <td>29.2</td>\n",
              "      <td>33.9</td>\n",
              "      <td>38.7</td>\n",
              "      <td>18</td>\n",
              "      <td>25</td>\n",
              "      <td>Driver &amp; Passenger</td>\n",
              "      <td>...</td>\n",
              "      <td>5</td>\n",
              "      <td>195</td>\n",
              "      <td>115</td>\n",
              "      <td>71</td>\n",
              "      <td>38</td>\n",
              "      <td>30.0</td>\n",
              "      <td>15.000000</td>\n",
              "      <td>3560</td>\n",
              "      <td>non-USA</td>\n",
              "      <td>Acura Legend</td>\n",
              "    </tr>\n",
              "    <tr>\n",
              "      <th>2</th>\n",
              "      <td>3</td>\n",
              "      <td>Audi</td>\n",
              "      <td>90</td>\n",
              "      <td>Compact</td>\n",
              "      <td>25.9</td>\n",
              "      <td>29.1</td>\n",
              "      <td>32.3</td>\n",
              "      <td>20</td>\n",
              "      <td>26</td>\n",
              "      <td>Driver only</td>\n",
              "      <td>...</td>\n",
              "      <td>5</td>\n",
              "      <td>180</td>\n",
              "      <td>102</td>\n",
              "      <td>67</td>\n",
              "      <td>37</td>\n",
              "      <td>28.0</td>\n",
              "      <td>14.000000</td>\n",
              "      <td>3375</td>\n",
              "      <td>non-USA</td>\n",
              "      <td>Audi 90</td>\n",
              "    </tr>\n",
              "    <tr>\n",
              "      <th>3</th>\n",
              "      <td>4</td>\n",
              "      <td>Audi</td>\n",
              "      <td>100</td>\n",
              "      <td>Midsize</td>\n",
              "      <td>30.8</td>\n",
              "      <td>37.7</td>\n",
              "      <td>44.6</td>\n",
              "      <td>19</td>\n",
              "      <td>26</td>\n",
              "      <td>Driver only</td>\n",
              "      <td>...</td>\n",
              "      <td>6</td>\n",
              "      <td>193</td>\n",
              "      <td>106</td>\n",
              "      <td>70</td>\n",
              "      <td>37</td>\n",
              "      <td>31.0</td>\n",
              "      <td>17.000000</td>\n",
              "      <td>3405</td>\n",
              "      <td>non-USA</td>\n",
              "      <td>Audi 100</td>\n",
              "    </tr>\n",
              "    <tr>\n",
              "      <th>4</th>\n",
              "      <td>5</td>\n",
              "      <td>BMW</td>\n",
              "      <td>535i</td>\n",
              "      <td>Midsize</td>\n",
              "      <td>23.7</td>\n",
              "      <td>30.0</td>\n",
              "      <td>36.2</td>\n",
              "      <td>22</td>\n",
              "      <td>30</td>\n",
              "      <td>Driver only</td>\n",
              "      <td>...</td>\n",
              "      <td>4</td>\n",
              "      <td>186</td>\n",
              "      <td>109</td>\n",
              "      <td>69</td>\n",
              "      <td>39</td>\n",
              "      <td>27.0</td>\n",
              "      <td>13.000000</td>\n",
              "      <td>3640</td>\n",
              "      <td>non-USA</td>\n",
              "      <td>BMW 535i</td>\n",
              "    </tr>\n",
              "    <tr>\n",
              "      <th>...</th>\n",
              "      <td>...</td>\n",
              "      <td>...</td>\n",
              "      <td>...</td>\n",
              "      <td>...</td>\n",
              "      <td>...</td>\n",
              "      <td>...</td>\n",
              "      <td>...</td>\n",
              "      <td>...</td>\n",
              "      <td>...</td>\n",
              "      <td>...</td>\n",
              "      <td>...</td>\n",
              "      <td>...</td>\n",
              "      <td>...</td>\n",
              "      <td>...</td>\n",
              "      <td>...</td>\n",
              "      <td>...</td>\n",
              "      <td>...</td>\n",
              "      <td>...</td>\n",
              "      <td>...</td>\n",
              "      <td>...</td>\n",
              "      <td>...</td>\n",
              "    </tr>\n",
              "    <tr>\n",
              "      <th>88</th>\n",
              "      <td>89</td>\n",
              "      <td>Volkswagen</td>\n",
              "      <td>Eurovan</td>\n",
              "      <td>Van</td>\n",
              "      <td>16.6</td>\n",
              "      <td>19.7</td>\n",
              "      <td>22.7</td>\n",
              "      <td>17</td>\n",
              "      <td>21</td>\n",
              "      <td>Driver only</td>\n",
              "      <td>...</td>\n",
              "      <td>7</td>\n",
              "      <td>187</td>\n",
              "      <td>115</td>\n",
              "      <td>72</td>\n",
              "      <td>38</td>\n",
              "      <td>34.0</td>\n",
              "      <td>13.890244</td>\n",
              "      <td>3960</td>\n",
              "      <td>non-USA</td>\n",
              "      <td>Volkswagen Eurovan</td>\n",
              "    </tr>\n",
              "    <tr>\n",
              "      <th>89</th>\n",
              "      <td>90</td>\n",
              "      <td>Volkswagen</td>\n",
              "      <td>Passat</td>\n",
              "      <td>Compact</td>\n",
              "      <td>17.6</td>\n",
              "      <td>20.0</td>\n",
              "      <td>22.4</td>\n",
              "      <td>21</td>\n",
              "      <td>30</td>\n",
              "      <td>Driver only</td>\n",
              "      <td>...</td>\n",
              "      <td>5</td>\n",
              "      <td>180</td>\n",
              "      <td>103</td>\n",
              "      <td>67</td>\n",
              "      <td>35</td>\n",
              "      <td>31.5</td>\n",
              "      <td>14.000000</td>\n",
              "      <td>2985</td>\n",
              "      <td>non-USA</td>\n",
              "      <td>Volkswagen Passat</td>\n",
              "    </tr>\n",
              "    <tr>\n",
              "      <th>90</th>\n",
              "      <td>91</td>\n",
              "      <td>Volkswagen</td>\n",
              "      <td>Corrado</td>\n",
              "      <td>Sporty</td>\n",
              "      <td>22.9</td>\n",
              "      <td>23.3</td>\n",
              "      <td>23.7</td>\n",
              "      <td>18</td>\n",
              "      <td>25</td>\n",
              "      <td>Driver only</td>\n",
              "      <td>...</td>\n",
              "      <td>4</td>\n",
              "      <td>159</td>\n",
              "      <td>97</td>\n",
              "      <td>66</td>\n",
              "      <td>36</td>\n",
              "      <td>26.0</td>\n",
              "      <td>15.000000</td>\n",
              "      <td>2810</td>\n",
              "      <td>non-USA</td>\n",
              "      <td>Volkswagen Corrado</td>\n",
              "    </tr>\n",
              "    <tr>\n",
              "      <th>91</th>\n",
              "      <td>92</td>\n",
              "      <td>Volvo</td>\n",
              "      <td>240</td>\n",
              "      <td>Compact</td>\n",
              "      <td>21.8</td>\n",
              "      <td>22.7</td>\n",
              "      <td>23.5</td>\n",
              "      <td>21</td>\n",
              "      <td>28</td>\n",
              "      <td>Driver only</td>\n",
              "      <td>...</td>\n",
              "      <td>5</td>\n",
              "      <td>190</td>\n",
              "      <td>104</td>\n",
              "      <td>67</td>\n",
              "      <td>37</td>\n",
              "      <td>29.5</td>\n",
              "      <td>14.000000</td>\n",
              "      <td>2985</td>\n",
              "      <td>non-USA</td>\n",
              "      <td>Volvo 240</td>\n",
              "    </tr>\n",
              "    <tr>\n",
              "      <th>92</th>\n",
              "      <td>93</td>\n",
              "      <td>Volvo</td>\n",
              "      <td>850</td>\n",
              "      <td>Midsize</td>\n",
              "      <td>24.8</td>\n",
              "      <td>26.7</td>\n",
              "      <td>28.5</td>\n",
              "      <td>20</td>\n",
              "      <td>28</td>\n",
              "      <td>Driver &amp; Passenger</td>\n",
              "      <td>...</td>\n",
              "      <td>5</td>\n",
              "      <td>184</td>\n",
              "      <td>105</td>\n",
              "      <td>69</td>\n",
              "      <td>38</td>\n",
              "      <td>30.0</td>\n",
              "      <td>15.000000</td>\n",
              "      <td>3245</td>\n",
              "      <td>non-USA</td>\n",
              "      <td>Volvo 850</td>\n",
              "    </tr>\n",
              "  </tbody>\n",
              "</table>\n",
              "<p>93 rows × 28 columns</p>\n",
              "</div>"
            ],
            "text/plain": [
              "    id Manufacturer    Model     Type  Min.Price  Price  Max.Price  MPG.city  \\\n",
              "0    1        Acura  Integra    Small       12.9   15.9       18.8        25   \n",
              "1    2        Acura   Legend  Midsize       29.2   33.9       38.7        18   \n",
              "2    3         Audi       90  Compact       25.9   29.1       32.3        20   \n",
              "3    4         Audi      100  Midsize       30.8   37.7       44.6        19   \n",
              "4    5          BMW     535i  Midsize       23.7   30.0       36.2        22   \n",
              "..  ..          ...      ...      ...        ...    ...        ...       ...   \n",
              "88  89   Volkswagen  Eurovan      Van       16.6   19.7       22.7        17   \n",
              "89  90   Volkswagen   Passat  Compact       17.6   20.0       22.4        21   \n",
              "90  91   Volkswagen  Corrado   Sporty       22.9   23.3       23.7        18   \n",
              "91  92        Volvo      240  Compact       21.8   22.7       23.5        21   \n",
              "92  93        Volvo      850  Midsize       24.8   26.7       28.5        20   \n",
              "\n",
              "    MPG.highway             AirBags  ... Passengers Length  Wheelbase  Width  \\\n",
              "0            31         Driver only  ...          5    177        102     68   \n",
              "1            25  Driver & Passenger  ...          5    195        115     71   \n",
              "2            26         Driver only  ...          5    180        102     67   \n",
              "3            26         Driver only  ...          6    193        106     70   \n",
              "4            30         Driver only  ...          4    186        109     69   \n",
              "..          ...                 ...  ...        ...    ...        ...    ...   \n",
              "88           21         Driver only  ...          7    187        115     72   \n",
              "89           30         Driver only  ...          5    180        103     67   \n",
              "90           25         Driver only  ...          4    159         97     66   \n",
              "91           28         Driver only  ...          5    190        104     67   \n",
              "92           28  Driver & Passenger  ...          5    184        105     69   \n",
              "\n",
              "    Turn.circle  Rear.seat.room Luggage.room  Weight   Origin  \\\n",
              "0            37            26.5    11.000000    2705  non-USA   \n",
              "1            38            30.0    15.000000    3560  non-USA   \n",
              "2            37            28.0    14.000000    3375  non-USA   \n",
              "3            37            31.0    17.000000    3405  non-USA   \n",
              "4            39            27.0    13.000000    3640  non-USA   \n",
              "..          ...             ...          ...     ...      ...   \n",
              "88           38            34.0    13.890244    3960  non-USA   \n",
              "89           35            31.5    14.000000    2985  non-USA   \n",
              "90           36            26.0    15.000000    2810  non-USA   \n",
              "91           37            29.5    14.000000    2985  non-USA   \n",
              "92           38            30.0    15.000000    3245  non-USA   \n",
              "\n",
              "                  Make  \n",
              "0        Acura Integra  \n",
              "1         Acura Legend  \n",
              "2              Audi 90  \n",
              "3             Audi 100  \n",
              "4             BMW 535i  \n",
              "..                 ...  \n",
              "88  Volkswagen Eurovan  \n",
              "89   Volkswagen Passat  \n",
              "90  Volkswagen Corrado  \n",
              "91           Volvo 240  \n",
              "92           Volvo 850  \n",
              "\n",
              "[93 rows x 28 columns]"
            ]
          },
          "execution_count": 186,
          "metadata": {},
          "output_type": "execute_result"
        }
      ],
      "source": [
        "cars"
      ]
    },
    {
      "cell_type": "code",
      "execution_count": 196,
      "metadata": {},
      "outputs": [
        {
          "data": {
            "text/plain": [
              "Text(0.5, 1.0, 'Horsepower by Price')"
            ]
          },
          "execution_count": 196,
          "metadata": {},
          "output_type": "execute_result"
        },
        {
          "data": {
            "image/png": "[encoded data removed]",
            "text/plain": [
              "<Figure size 640x480 with 1 Axes>"
            ]
          },
          "metadata": {},
          "output_type": "display_data"
        }
      ],
      "source": [
        "sns.lineplot(x='Horsepower', y='Price', data=cars )\n",
        "\n",
        "# setting the x limit of the plot. Same works for y axis as well\n",
        "#plt.xlim(5)\n",
        "\n",
        "#Removing spines\n",
        "#sns.despine()\n",
        "\n",
        "#The base context is “notebook”, and the other contexts are “paper”, “talk”, and “poster\"\n",
        "# Setting the scale of the plot\n",
        "sns.set_context('poster')\n",
        "\n",
        "plt.title('Horsepower by Price')"
      ]
    },
    {
      "cell_type": "code",
      "execution_count": null,
      "metadata": {},
      "outputs": [],
      "source": []
    }
  ],
  "metadata": {
    "colab": {
      "provenance": []
    },
    "kernelspec": {
      "display_name": "Python 3",
      "name": "python3"
    },
    "language_info": {
      "codemirror_mode": {
        "name": "ipython",
        "version": 3
      },
      "file_extension": ".py",
      "mimetype": "text/x-python",
      "name": "python",
      "nbconvert_exporter": "python",
      "pygments_lexer": "ipython3",
      "version": "3.13.7"
    }
  },
  "nbformat": 4,
  "nbformat_minor": 0
}
