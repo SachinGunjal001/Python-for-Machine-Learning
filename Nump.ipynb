{
  "cells": [
    {
      "cell_type": "code",
      "execution_count": 2,
      "id": "312668f8",
      "metadata": {
        "id": "312668f8"
      },
      "outputs": [],
      "source": [
        "# import numpy module\n",
        "import numpy as np\n"
      ]
    },
    {
      "cell_type": "code",
      "execution_count": 3,
      "id": "5709203b",
      "metadata": {
        "colab": {
          "base_uri": "https://localhost:8080/"
        },
        "id": "5709203b",
        "outputId": "5627433a-5004-4e20-ca11-737b87d4bbcf"
      },
      "outputs": [
        {
          "name": "stdout",
          "output_type": "stream",
          "text": [
            "[1. 1. 1. 1. 1.]\n"
          ]
        }
      ],
      "source": [
        "# create 1 dimensional array\n",
        "arr1=np.ones(5)\n",
        "print(arr1)"
      ]
    },
    {
      "cell_type": "code",
      "execution_count": 4,
      "id": "wTSIEjt6DSKB",
      "metadata": {
        "colab": {
          "base_uri": "https://localhost:8080/"
        },
        "id": "wTSIEjt6DSKB",
        "outputId": "b6793278-7210-409a-a767-5a42f7ebeda1"
      },
      "outputs": [
        {
          "data": {
            "text/plain": [
              "array([0., 0., 0., 0., 0.])"
            ]
          },
          "execution_count": 4,
          "metadata": {},
          "output_type": "execute_result"
        }
      ],
      "source": [
        "a1=np.zeros(5)\n",
        "a1"
      ]
    },
    {
      "cell_type": "code",
      "execution_count": 5,
      "id": "pQ3q-efVUB7k",
      "metadata": {
        "colab": {
          "base_uri": "https://localhost:8080/"
        },
        "id": "pQ3q-efVUB7k",
        "outputId": "1d395a4c-ceb5-4ac1-ee52-19b7fc73d24a"
      },
      "outputs": [
        {
          "data": {
            "text/plain": [
              "numpy.ndarray"
            ]
          },
          "execution_count": 5,
          "metadata": {},
          "output_type": "execute_result"
        }
      ],
      "source": [
        "type(a1)"
      ]
    },
    {
      "cell_type": "code",
      "execution_count": 6,
      "id": "Atp2AqXdDbDa",
      "metadata": {
        "colab": {
          "base_uri": "https://localhost:8080/"
        },
        "id": "Atp2AqXdDbDa",
        "outputId": "5ee69327-f9be-471f-b78c-c119e4a70863"
      },
      "outputs": [
        {
          "data": {
            "text/plain": [
              "array([1, 1, 1])"
            ]
          },
          "execution_count": 6,
          "metadata": {},
          "output_type": "execute_result"
        }
      ],
      "source": [
        "ar1=np.ones(3,dtype=int)\n",
        "ar1"
      ]
    },
    {
      "cell_type": "code",
      "execution_count": 7,
      "id": "39058d4d",
      "metadata": {
        "colab": {
          "base_uri": "https://localhost:8080/"
        },
        "id": "39058d4d",
        "outputId": "5f7f8fd2-e466-4dbd-e3d8-a53facd266c4"
      },
      "outputs": [
        {
          "data": {
            "text/plain": [
              "array([[1., 1., 1.],\n",
              "       [1., 1., 1.]])"
            ]
          },
          "execution_count": 7,
          "metadata": {},
          "output_type": "execute_result"
        }
      ],
      "source": [
        "# create two dimensional array containing 3 elements in each row. defacto type of an item in numpy is float\n",
        "arr2=np.ones((2,3),dtype=float)\n",
        "arr2"
      ]
    },
    {
      "cell_type": "code",
      "execution_count": 8,
      "id": "8c553516",
      "metadata": {
        "colab": {
          "base_uri": "https://localhost:8080/"
        },
        "id": "8c553516",
        "outputId": "fa733f0c-5362-457b-c39f-6cb0cc0303b7"
      },
      "outputs": [
        {
          "data": {
            "text/plain": [
              "numpy.ndarray"
            ]
          },
          "execution_count": 8,
          "metadata": {},
          "output_type": "execute_result"
        }
      ],
      "source": [
        "# verify the type of variable\n",
        "type(arr2)"
      ]
    },
    {
      "cell_type": "code",
      "execution_count": 9,
      "id": "76755686",
      "metadata": {
        "colab": {
          "base_uri": "https://localhost:8080/"
        },
        "id": "76755686",
        "outputId": "a2f35099-c31e-4ca2-b603-1ac9360bd16c"
      },
      "outputs": [
        {
          "data": {
            "text/plain": [
              "array([[[1, 1, 1],\n",
              "        [1, 1, 1]],\n",
              "\n",
              "       [[1, 1, 1],\n",
              "        [1, 1, 1]],\n",
              "\n",
              "       [[1, 1, 1],\n",
              "        [1, 1, 1]],\n",
              "\n",
              "       [[1, 1, 1],\n",
              "        [1, 1, 1]]])"
            ]
          },
          "execution_count": 9,
          "metadata": {},
          "output_type": "execute_result"
        }
      ],
      "source": [
        "# create a numpy array having 4 blocks, 2 rows and 3 columns\n",
        "\n",
        "arr3=np.ones((4,2,3),dtype=int)\n",
        "arr3"
      ]
    },
    {
      "cell_type": "code",
      "execution_count": 10,
      "id": "81e11bc3",
      "metadata": {
        "colab": {
          "base_uri": "https://localhost:8080/"
        },
        "id": "81e11bc3",
        "outputId": "9103609e-8955-47c7-ec44-cf7739262103"
      },
      "outputs": [
        {
          "data": {
            "text/plain": [
              "dtype('float64')"
            ]
          },
          "execution_count": 10,
          "metadata": {},
          "output_type": "execute_result"
        }
      ],
      "source": [
        "a1.dtype"
      ]
    },
    {
      "cell_type": "code",
      "execution_count": 11,
      "id": "a4a2795c",
      "metadata": {
        "colab": {
          "base_uri": "https://localhost:8080/"
        },
        "id": "a4a2795c",
        "outputId": "d59b91fe-cf42-4143-a301-6709fd11d32e"
      },
      "outputs": [
        {
          "data": {
            "text/plain": [
              "dtype('int64')"
            ]
          },
          "execution_count": 11,
          "metadata": {},
          "output_type": "execute_result"
        }
      ],
      "source": [
        "# using dtype keyword\n",
        "arr3.dtype"
      ]
    },
    {
      "cell_type": "code",
      "execution_count": null,
      "id": "58f5b881",
      "metadata": {
        "id": "58f5b881"
      },
      "outputs": [],
      "source": []
    },
    {
      "cell_type": "code",
      "execution_count": 12,
      "id": "3c830bb0",
      "metadata": {
        "colab": {
          "base_uri": "https://localhost:8080/"
        },
        "id": "3c830bb0",
        "outputId": "8eca3ba5-3cd6-4257-dc48-d8709d3e7758"
      },
      "outputs": [
        {
          "name": "stdout",
          "output_type": "stream",
          "text": [
            "Dimension of array 1\n",
            "Dimension of array 3\n",
            "Shape of an array (4, 2, 3)\n",
            "Shape of array (2, 3)\n"
          ]
        }
      ],
      "source": [
        "# ndim and shape keywords\n",
        "print(\"Dimension of array\",arr1.ndim)\n",
        "print(\"Dimension of array\",arr3.ndim)\n",
        "print(\"Shape of an array\",arr3.shape)\n",
        "print(\"Shape of array\",arr2.shape)"
      ]
    },
    {
      "cell_type": "code",
      "execution_count": 13,
      "id": "67c39fb0",
      "metadata": {
        "colab": {
          "base_uri": "https://localhost:8080/"
        },
        "id": "67c39fb0",
        "outputId": "3d48809e-f829-4c17-c25b-03ca1238cf61"
      },
      "outputs": [
        {
          "data": {
            "text/plain": [
              "[12, 4, 5, 7, 12, 4, 5, 7, 12, 4, 5, 7]"
            ]
          },
          "execution_count": 13,
          "metadata": {},
          "output_type": "execute_result"
        }
      ],
      "source": [
        "l1=[12,4,5,7]\n",
        "l1*3"
      ]
    },
    {
      "cell_type": "code",
      "execution_count": 14,
      "id": "2a0d21e5",
      "metadata": {
        "colab": {
          "base_uri": "https://localhost:8080/"
        },
        "id": "2a0d21e5",
        "outputId": "e5988fcf-f527-4e4d-f34b-264e20751086"
      },
      "outputs": [
        {
          "name": "stdout",
          "output_type": "stream",
          "text": [
            "36\n",
            "12\n",
            "15\n",
            "21\n"
          ]
        }
      ],
      "source": [
        "for i in l1:\n",
        "  print(i*3)"
      ]
    },
    {
      "cell_type": "code",
      "execution_count": 15,
      "id": "Uf6FTJ87GEVH",
      "metadata": {
        "colab": {
          "base_uri": "https://localhost:8080/"
        },
        "id": "Uf6FTJ87GEVH",
        "outputId": "4da7ab7c-ae67-42ac-f94a-d02dccf185c3"
      },
      "outputs": [
        {
          "name": "stdout",
          "output_type": "stream",
          "text": [
            "<class 'numpy.ndarray'>\n"
          ]
        }
      ],
      "source": [
        "# convert list to array\n",
        "\n",
        "new_arr=np.array(l1)\n",
        "print(type(new_arr))"
      ]
    },
    {
      "cell_type": "code",
      "execution_count": 16,
      "id": "uXW7DRWGGXvd",
      "metadata": {
        "colab": {
          "base_uri": "https://localhost:8080/"
        },
        "id": "uXW7DRWGGXvd",
        "outputId": "2dccbc1e-7cce-4670-b7da-9bb9dfa00f97"
      },
      "outputs": [
        {
          "data": {
            "text/plain": [
              "array([48, 16, 20, 28])"
            ]
          },
          "execution_count": 16,
          "metadata": {},
          "output_type": "execute_result"
        }
      ],
      "source": [
        "new_arr*4"
      ]
    },
    {
      "cell_type": "code",
      "execution_count": 17,
      "id": "6CXNxLuHGcVh",
      "metadata": {
        "colab": {
          "base_uri": "https://localhost:8080/"
        },
        "id": "6CXNxLuHGcVh",
        "outputId": "1758ac12-b169-486c-d0b0-7936ab2b4182"
      },
      "outputs": [
        {
          "name": "stdout",
          "output_type": "stream",
          "text": [
            "[12  4  5  7]\n"
          ]
        },
        {
          "data": {
            "text/plain": [
              "np.int64(28)"
            ]
          },
          "execution_count": 17,
          "metadata": {},
          "output_type": "execute_result"
        }
      ],
      "source": [
        "print(new_arr)\n",
        "new_arr.sum()"
      ]
    },
    {
      "cell_type": "code",
      "execution_count": 18,
      "id": "8iNNU0TPGzku",
      "metadata": {
        "colab": {
          "base_uri": "https://localhost:8080/"
        },
        "id": "8iNNU0TPGzku",
        "outputId": "d02a830b-ea6e-4ab8-c2c9-85493b45caed"
      },
      "outputs": [
        {
          "data": {
            "text/plain": [
              "[0, 1, 2, 3, 4, 5]"
            ]
          },
          "execution_count": 18,
          "metadata": {},
          "output_type": "execute_result"
        }
      ],
      "source": [
        "list(range(6))"
      ]
    },
    {
      "cell_type": "code",
      "execution_count": 19,
      "id": "e32f9f95",
      "metadata": {
        "colab": {
          "base_uri": "https://localhost:8080/"
        },
        "id": "e32f9f95",
        "outputId": "c5b36c66-39cb-4be3-d380-934a6fe24901"
      },
      "outputs": [
        {
          "data": {
            "text/plain": [
              "array([15, 16, 17, 18, 19, 20, 21, 22, 23, 24, 25, 26, 27, 28, 29, 30])"
            ]
          },
          "execution_count": 19,
          "metadata": {},
          "output_type": "execute_result"
        }
      ],
      "source": [
        "# arange function\n",
        "x=np.arange(15,31)\n",
        "x"
      ]
    },
    {
      "cell_type": "code",
      "execution_count": 20,
      "id": "9dcc4052",
      "metadata": {
        "colab": {
          "base_uri": "https://localhost:8080/"
        },
        "id": "9dcc4052",
        "outputId": "fc13f4bc-e66a-408e-e3cf-ce6b378e72fc"
      },
      "outputs": [
        {
          "data": {
            "text/plain": [
              "array([ 5,  7,  9, 11, 13, 15, 17])"
            ]
          },
          "execution_count": 20,
          "metadata": {},
          "output_type": "execute_result"
        }
      ],
      "source": [
        "# arange function\n",
        "np.arange(5,18,2)"
      ]
    },
    {
      "cell_type": "code",
      "execution_count": 21,
      "id": "ZjfVCASEHaES",
      "metadata": {
        "colab": {
          "base_uri": "https://localhost:8080/"
        },
        "id": "ZjfVCASEHaES",
        "outputId": "6edb4b01-4023-490c-be06-7afa7d90c878"
      },
      "outputs": [
        {
          "data": {
            "text/plain": [
              "(16,)"
            ]
          },
          "execution_count": 21,
          "metadata": {},
          "output_type": "execute_result"
        }
      ],
      "source": [
        "x.shape"
      ]
    },
    {
      "cell_type": "code",
      "execution_count": 22,
      "id": "qy3CNOIoHhcY",
      "metadata": {
        "colab": {
          "base_uri": "https://localhost:8080/"
        },
        "id": "qy3CNOIoHhcY",
        "outputId": "82a936bd-6b17-4f6a-ab7e-7cf59eb647c8"
      },
      "outputs": [
        {
          "name": "stdout",
          "output_type": "stream",
          "text": [
            "Dimension of array= 1\n",
            "[[15 16 17 18 19 20 21 22]\n",
            " [23 24 25 26 27 28 29 30]]\n",
            "[[15 16 17 18]\n",
            " [19 20 21 22]\n",
            " [23 24 25 26]\n",
            " [27 28 29 30]]\n",
            "[[[15 16]\n",
            "  [17 18]\n",
            "  [19 20]\n",
            "  [21 22]]\n",
            "\n",
            " [[23 24]\n",
            "  [25 26]\n",
            "  [27 28]\n",
            "  [29 30]]]\n"
          ]
        }
      ],
      "source": [
        "# changing the dimension of array / rearrange the array elements\n",
        "print(\"Dimension of array=\",x.ndim)\n",
        "print(x.reshape((2,8)))  # 16 , 2*8  , 4* 4  , 2*4*2\n",
        "print(x.reshape(4,4))\n",
        "print(x.reshape(2,4,2))"
      ]
    },
    {
      "cell_type": "markdown",
      "id": "7ae73b0a",
      "metadata": {
        "id": "7ae73b0a"
      },
      "source": [
        "### linspace ()\n",
        "The linspace() Function: This function creates an array containing a fixed number of numbers\n",
        "between two specific numbers such that the difference between\n",
        "any two consecutive numbers in the array is constant.\n"
      ]
    },
    {
      "cell_type": "code",
      "execution_count": 23,
      "id": "59e012a5",
      "metadata": {},
      "outputs": [
        {
          "data": {
            "text/plain": [
              "array([4.])"
            ]
          },
          "execution_count": 23,
          "metadata": {},
          "output_type": "execute_result"
        }
      ],
      "source": [
        "l = np.linspace(4,7,1)\n",
        "l"
      ]
    },
    {
      "cell_type": "code",
      "execution_count": 24,
      "id": "b024061a",
      "metadata": {
        "colab": {
          "base_uri": "https://localhost:8080/"
        },
        "id": "b024061a",
        "outputId": "6bb85664-f0a4-4297-9772-ba2af540f54e"
      },
      "outputs": [
        {
          "data": {
            "text/plain": [
              "array([2.        , 2.16666667, 2.33333333, 2.5       , 2.66666667,\n",
              "       2.83333333, 3.        , 3.16666667, 3.33333333, 3.5       ,\n",
              "       3.66666667, 3.83333333, 4.        , 4.16666667, 4.33333333,\n",
              "       4.5       , 4.66666667, 4.83333333, 5.        ])"
            ]
          },
          "execution_count": 24,
          "metadata": {},
          "output_type": "execute_result"
        }
      ],
      "source": [
        "# create an array\n",
        "#linespace(start, stop, Size)\n",
        "la=np.linspace(2,5,19)\n",
        "la"
      ]
    },
    {
      "cell_type": "markdown",
      "id": "b26e0a61",
      "metadata": {
        "id": "b26e0a61"
      },
      "source": [
        "The ndarray() Function<br>\n",
        "we can create a NumPy array containing some random values using ndarray() function.\n",
        "\n"
      ]
    },
    {
      "cell_type": "code",
      "execution_count": 25,
      "id": "7041f0e1",
      "metadata": {
        "colab": {
          "base_uri": "https://localhost:8080/"
        },
        "id": "7041f0e1",
        "outputId": "477bdf2f-4ab1-4ed2-86f5-7e789e9b2fe1"
      },
      "outputs": [
        {
          "data": {
            "text/plain": [
              "array([[25895968444448860, 23925768161198147],\n",
              "       [32370111954616435, 30681201962451036],\n",
              "       [18296268630392937, 27303364806049904],\n",
              "       [21392493373358196, 30399714103066735],\n",
              "       [30681206258663516,               112]])"
            ]
          },
          "execution_count": 25,
          "metadata": {},
          "output_type": "execute_result"
        }
      ],
      "source": [
        "# generate random numbers\n",
        "# we want to create a NumPy array having some random integer values which have 5 rows and 2 columns, then you can use the ndarray() function.\n",
        "\n",
        "np.ndarray((5,2),dtype=int)\n"
      ]
    },
    {
      "cell_type": "code",
      "execution_count": 26,
      "id": "83c55a07",
      "metadata": {
        "colab": {
          "base_uri": "https://localhost:8080/"
        },
        "id": "83c55a07",
        "outputId": "3f61f6bc-ea9c-4e42-b8df-696f4f38069f"
      },
      "outputs": [
        {
          "data": {
            "text/plain": [
              "array([0.40696736, 0.65192402, 0.6355662 , 0.41751706, 0.08862196,\n",
              "       0.61110967, 0.93016677, 0.02117244, 0.76430138, 0.85288665,\n",
              "       0.83854247, 0.81302727, 0.63134953, 0.63827586, 0.79123587,\n",
              "       0.82856831, 0.11342022, 0.99926922, 0.0665289 , 0.07068525,\n",
              "       0.68109465, 0.62309311, 0.83167148, 0.35263151, 0.30901805,\n",
              "       0.30952301, 0.45247597, 0.18728273, 0.84732402, 0.40699266,\n",
              "       0.53327297, 0.51842337, 0.04444726, 0.57365983, 0.2631394 ,\n",
              "       0.02347856, 0.41415332, 0.95675751, 0.71954619, 0.76301204,\n",
              "       0.9179411 , 0.52090987, 0.77420347, 0.91267702, 0.08359709,\n",
              "       0.62179647, 0.19739609, 0.48553959, 0.08898864, 0.71501864])"
            ]
          },
          "execution_count": 26,
          "metadata": {},
          "output_type": "execute_result"
        }
      ],
      "source": [
        "# Generating random numbers in numpy\n",
        "# using np.random.random(size=n)\n",
        "np.random.random(50)\n",
        "\n"
      ]
    },
    {
      "cell_type": "code",
      "execution_count": 27,
      "id": "37d25077",
      "metadata": {
        "colab": {
          "base_uri": "https://localhost:8080/"
        },
        "id": "37d25077",
        "outputId": "23668dc8-beb3-45c5-acef-d0018eb93815"
      },
      "outputs": [
        {
          "data": {
            "text/plain": [
              "array([13,  6, 13,  6], dtype=int32)"
            ]
          },
          "execution_count": 27,
          "metadata": {},
          "output_type": "execute_result"
        }
      ],
      "source": [
        "# using np.random.randint(low,high,size)\n",
        "\n",
        "np.random.randint(5,18,4)"
      ]
    },
    {
      "cell_type": "code",
      "execution_count": 28,
      "id": "b0DaKRbLKHED",
      "metadata": {
        "colab": {
          "base_uri": "https://localhost:8080/"
        },
        "id": "b0DaKRbLKHED",
        "outputId": "7c7e3fa5-5179-4bca-cba1-045a62a7c6f9"
      },
      "outputs": [
        {
          "data": {
            "text/plain": [
              "array([1, 1], dtype=int32)"
            ]
          },
          "execution_count": 28,
          "metadata": {},
          "output_type": "execute_result"
        }
      ],
      "source": [
        "# generate random number when two dice are\n",
        "np.random.randint(1,7,2)"
      ]
    },
    {
      "cell_type": "markdown",
      "id": "ac25a34f",
      "metadata": {
        "id": "ac25a34f"
      },
      "source": [
        "# using np.random.normal\n",
        "np.random.normal() is a function provided by NumPy for generating random numbers from a normal (Gaussian) distribution. The function allows you to specify the mean\n",
        "and standard deviation of the distribution, as well as the shape of the output array.\n",
        "\n"
      ]
    },
    {
      "cell_type": "code",
      "execution_count": 29,
      "id": "efb6e818",
      "metadata": {
        "id": "efb6e818"
      },
      "outputs": [],
      "source": [
        "# Syntax: np.random.normal(mean, standard_deviation, size)"
      ]
    },
    {
      "cell_type": "code",
      "execution_count": 30,
      "id": "40a1a4c2",
      "metadata": {
        "colab": {
          "base_uri": "https://localhost:8080/"
        },
        "id": "40a1a4c2",
        "outputId": "7ce3446e-b7eb-4aba-cdf2-504ead65e697"
      },
      "outputs": [
        {
          "data": {
            "text/plain": [
              "array([4.6989035 , 4.82330478, 2.48575652, 7.20571123, 6.90576261,\n",
              "       7.75490068, 3.04339562, 4.87742464, 0.60751257, 3.96603631])"
            ]
          },
          "execution_count": 30,
          "metadata": {},
          "output_type": "execute_result"
        }
      ],
      "source": [
        "np.random.normal(5,2,10)"
      ]
    },
    {
      "cell_type": "code",
      "execution_count": 31,
      "id": "1e380450",
      "metadata": {
        "colab": {
          "base_uri": "https://localhost:8080/"
        },
        "id": "1e380450",
        "outputId": "d31686bd-8b4f-4476-9ced-289432c77c58"
      },
      "outputs": [
        {
          "name": "stdout",
          "output_type": "stream",
          "text": [
            "Random numbers from a normal distribution:\n",
            "[-0.78093791  0.54977221 -1.01830196 -0.89367218  0.1832645   0.22244159\n",
            " -0.30434494  1.19507142  1.58297038 -0.29967313 -0.27283737  0.46138969\n",
            " -1.91157887 -0.7317551   0.77569473 -0.25247722 -0.19309181  1.28733662\n",
            "  0.44739457  0.37633168 -1.20199056 -1.49655581  2.82790201 -0.48629801\n",
            "  0.37647741 -1.36435918 -0.91266949 -0.69654499  0.31867851  0.33126757]\n"
          ]
        }
      ],
      "source": [
        "import numpy as np\n",
        "\n",
        "# Generate random numbers from a normal distribution\n",
        "\n",
        "mean = 0   # Mean of the distribution\n",
        "std_dev = 1  # Standard deviation of the distribution\n",
        "size = (30)  # Shape of the output array (3x3 in this case)\n",
        "\n",
        "random_numbers = np.random.normal(mean, std_dev, size)\n",
        "print(\"Random numbers from a normal distribution:\")\n",
        "print(random_numbers)\n"
      ]
    },
    {
      "cell_type": "markdown",
      "id": "06276c65",
      "metadata": {
        "id": "06276c65"
      },
      "source": [
        "The np.random.normal() function is useful for generating random data for simulation, testing,\n",
        "or any scenario where random numbers from a normal distribution are needed."
      ]
    },
    {
      "cell_type": "code",
      "execution_count": null,
      "id": "a624c24f",
      "metadata": {
        "id": "a624c24f"
      },
      "outputs": [],
      "source": []
    },
    {
      "cell_type": "code",
      "execution_count": 32,
      "id": "f5e2d42f",
      "metadata": {
        "id": "f5e2d42f"
      },
      "outputs": [
        {
          "name": "stdout",
          "output_type": "stream",
          "text": [
            "Python list: [1, 2, 3, 4, 5]\n",
            "NumPy array: [1 2 3 4 5]\n",
            "Type: <class 'numpy.ndarray'>\n"
          ]
        }
      ],
      "source": [
        "# Convert a Python list into a NumPy array using the 'array()' function.\n",
        "\n",
        "# Define a Python list\n",
        "py_list = [1, 2, 3, 4, 5]\n",
        "\n",
        "# Convert the list to a NumPy array\n",
        "np_array = np.array(py_list)\n",
        "\n",
        "print(\"Python list:\", py_list)\n",
        "print(\"NumPy array:\", np_array)\n",
        "print(\"Type:\", type(np_array))"
      ]
    },
    {
      "cell_type": "code",
      "execution_count": null,
      "id": "f7d2a223",
      "metadata": {},
      "outputs": [],
      "source": []
    }
  ],
  "metadata": {
    "colab": {
      "provenance": []
    },
    "kernelspec": {
      "display_name": "Python 3",
      "language": "python",
      "name": "python3"
    },
    "language_info": {
      "codemirror_mode": {
        "name": "ipython",
        "version": 3
      },
      "file_extension": ".py",
      "mimetype": "text/x-python",
      "name": "python",
      "nbconvert_exporter": "python",
      "pygments_lexer": "ipython3",
      "version": "3.13.7"
    }
  },
  "nbformat": 4,
  "nbformat_minor": 5
}
