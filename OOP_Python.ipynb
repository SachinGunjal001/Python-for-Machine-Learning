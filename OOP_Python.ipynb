{
 "cells": [
  {
   "cell_type": "markdown",
   "id": "b66c025f",
   "metadata": {},
   "source": [
    "OOP in Python"
   ]
  },
  {
   "cell_type": "code",
   "execution_count": 3,
   "id": "7f378a78",
   "metadata": {},
   "outputs": [],
   "source": [
    "#Defining empty classs\n",
    "\n",
    "class Eclass:\n",
    "    pass"
   ]
  },
  {
   "cell_type": "code",
   "execution_count": 4,
   "id": "59a33d89",
   "metadata": {},
   "outputs": [
    {
     "data": {
      "text/plain": [
       "__main__.Eclass"
      ]
     },
     "execution_count": 4,
     "metadata": {},
     "output_type": "execute_result"
    }
   ],
   "source": [
    "#Variable of empty class\n",
    "\n",
    "obj=Eclass()\n",
    "type(obj)"
   ]
  },
  {
   "cell_type": "code",
   "execution_count": 5,
   "id": "cffd799c",
   "metadata": {},
   "outputs": [
    {
     "data": {
      "text/plain": [
       "list"
      ]
     },
     "execution_count": 5,
     "metadata": {},
     "output_type": "execute_result"
    }
   ],
   "source": [
    "l1=list()\n",
    "type(l1)"
   ]
  },
  {
   "cell_type": "code",
   "execution_count": 6,
   "id": "c00fc9fb",
   "metadata": {},
   "outputs": [
    {
     "name": "stdout",
     "output_type": "stream",
     "text": [
      "30\n"
     ]
    }
   ],
   "source": [
    "def addnumbers(a,b):\n",
    "    print(a+b)\n",
    "\n",
    "addnumbers(10,20)    "
   ]
  },
  {
   "cell_type": "code",
   "execution_count": 7,
   "id": "435092ed",
   "metadata": {},
   "outputs": [],
   "source": [
    "# Define class student consisting of attributes name and grade and method to display info\n",
    "\n",
    "class Student:\n",
    "    def __init__(self,RollNo, Name, Grade):\n",
    "        self.RollNo = RollNo\n",
    "        self.Name = Name\n",
    "        self.Grade = Grade\n",
    "\n",
    "    def display(self):\n",
    "        print(self.RollNo)\n",
    "        print(self.Name)\n",
    "        print(self.Grade)"
   ]
  },
  {
   "cell_type": "code",
   "execution_count": 8,
   "id": "a8e676bf",
   "metadata": {},
   "outputs": [
    {
     "data": {
      "text/plain": [
       "type"
      ]
     },
     "execution_count": 8,
     "metadata": {},
     "output_type": "execute_result"
    }
   ],
   "source": [
    "type(Student)"
   ]
  },
  {
   "cell_type": "code",
   "execution_count": 14,
   "id": "1a45e4f4",
   "metadata": {},
   "outputs": [
    {
     "name": "stdout",
     "output_type": "stream",
     "text": [
      "1\n"
     ]
    },
    {
     "data": {
      "text/plain": [
       "'Sachin'"
      ]
     },
     "execution_count": 14,
     "metadata": {},
     "output_type": "execute_result"
    }
   ],
   "source": [
    "Std1 = Student(1, \"Sachin\", \"S\") #constructor invokes automatically.\n",
    "type(Std1)\n",
    "\n",
    "#accessing attributes and methods\n",
    "print(Std1.RollNo)\n",
    "\n",
    "Std1.Name"
   ]
  },
  {
   "cell_type": "code",
   "execution_count": 11,
   "id": "f9f01324",
   "metadata": {},
   "outputs": [
    {
     "name": "stdout",
     "output_type": "stream",
     "text": [
      "1\n",
      "Sachin\n",
      "S\n"
     ]
    }
   ],
   "source": [
    "Std1.display()"
   ]
  },
  {
   "cell_type": "code",
   "execution_count": 15,
   "id": "6ed50290",
   "metadata": {},
   "outputs": [
    {
     "name": "stdout",
     "output_type": "stream",
     "text": [
      "2\n",
      "Sank\n",
      "B\n"
     ]
    }
   ],
   "source": [
    "#Creating multiple objects\n",
    "\n",
    "Std2 = Student(2, \"Sank\", \"B\")\n",
    "Std3 = Student(4, \"Sam\", \"C\")\n",
    "\n",
    "Std2.display()"
   ]
  },
  {
   "cell_type": "markdown",
   "id": "e24d1a91",
   "metadata": {},
   "source": [
    " Create Bank Account having attributes account_holder and balance <br>\n",
    " Class methods deposit and withdraw"
   ]
  },
  {
   "cell_type": "code",
   "execution_count": 4,
   "id": "33e29e0e",
   "metadata": {},
   "outputs": [],
   "source": [
    "class Bank:\n",
    "    def __init__(self, acc_name, balance):\n",
    "        self.acc_name = acc_name\n",
    "        self.__ifsc = 345844543  #Private var - abstraction of data\n",
    "        self.balance = balance\n",
    "\n",
    "\n",
    "    def showBalance(self):\n",
    "        print(\"Available balance is:\", self.balance)\n",
    "        print(\"IFSC Code is: \", self.__ifsc)\n",
    "\n",
    "\n",
    "    def deposit(self, amount):\n",
    "        self.balance += amount\n",
    "        print(\"After deposit, Avail balance: \", self.balance)\n",
    "\n",
    "\n",
    "    def withdraw(self, amount):\n",
    "        if amount > self.balance:\n",
    "            print(\"Insufficient Balance\")\n",
    "        else:\n",
    "            self.balance -=amount\n",
    "            print(\"After withdrawal, avail balance: \", self.balance)\n",
    "\n",
    "\n",
    "b1 = Bank(\"Sac\", 56778)\n"
   ]
  },
  {
   "cell_type": "code",
   "execution_count": 3,
   "id": "069defac",
   "metadata": {},
   "outputs": [
    {
     "name": "stdout",
     "output_type": "stream",
     "text": [
      "Available balance is: 56778\n",
      "IFSC Code is:  345844543\n",
      "After deposit, Avail balance:  61778\n",
      "After withdrawal, avail balance:  59778\n"
     ]
    }
   ],
   "source": [
    "b1.balance\n",
    "b1.showBalance()\n",
    "b1.deposit(5000)\n",
    "b1.withdraw(2000)"
   ]
  },
  {
   "cell_type": "markdown",
   "id": "bc557157",
   "metadata": {},
   "source": [
    "Inheritance "
   ]
  },
  {
   "cell_type": "code",
   "execution_count": 21,
   "id": "01c9035a",
   "metadata": {},
   "outputs": [],
   "source": [
    "#parent class\n",
    "\n",
    "class vehicle:\n",
    "    def __init__(self, Manuf, model):\n",
    "        self.Manuf = Manuf\n",
    "        self.model = model\n",
    "\n",
    "\n",
    "    def display(self):\n",
    "\n",
    "        print(\"Manufacturer: \", self.Manuf)\n",
    "        print(\"Model: \", self.model)    "
   ]
  },
  {
   "cell_type": "code",
   "execution_count": 22,
   "id": "ba9929c3",
   "metadata": {},
   "outputs": [
    {
     "name": "stdout",
     "output_type": "stream",
     "text": [
      "Manufacturer:  Honda\n",
      "Model:  Shine\n"
     ]
    }
   ],
   "source": [
    "v = vehicle(\"Honda\", \"Shine\")\n",
    "v.display()"
   ]
  },
  {
   "cell_type": "code",
   "execution_count": 23,
   "id": "c105ec3d",
   "metadata": {},
   "outputs": [],
   "source": [
    "#child class\n",
    "class twoWheeler(vehicle):\n",
    "    def __init__(self, manuf, model,price, breaktype):\n",
    "        super().__init__(manuf, model)\n",
    "        self.price = price\n",
    "        self.breaktype = breaktype\n",
    "\n",
    "    def display(self):\n",
    "        print(\"Manufacturer: \", self.Manuf)\n",
    "        print(\"Model: \", self.model)\n",
    "        print(\"price: \", self.price)\n",
    "        print(\"Break Type: \", self.breaktype)"
   ]
  },
  {
   "cell_type": "code",
   "execution_count": 24,
   "id": "950cab79",
   "metadata": {},
   "outputs": [
    {
     "name": "stdout",
     "output_type": "stream",
     "text": [
      "Manufacturer:  Honda\n",
      "Model:  sdf\n",
      "price:  452543\n",
      "Break Type:  Disc\n"
     ]
    }
   ],
   "source": [
    "tw = twoWheeler(\"Honda\", \"sdf\", 452543, \"Disc\")\n",
    "tw.display()"
   ]
  },
  {
   "cell_type": "code",
   "execution_count": 25,
   "id": "2a638fa9",
   "metadata": {},
   "outputs": [
    {
     "name": "stdout",
     "output_type": "stream",
     "text": [
      "Manufacturer:  Honda\n",
      "Model:  Activa\n",
      "price:  1500543\n",
      "Break Type:  Drum\n"
     ]
    }
   ],
   "source": [
    "tw1 = twoWheeler(\"Honda\", \"Activa\", 1500543, \"Drum\")\n",
    "tw1.display()"
   ]
  },
  {
   "cell_type": "code",
   "execution_count": 27,
   "id": "1431230e",
   "metadata": {},
   "outputs": [
    {
     "name": "stdout",
     "output_type": "stream",
     "text": [
      "Manufacturer:  Honda\n",
      "Model:  Shine\n",
      "Manufacturer:  Honda\n",
      "Model:  sdf\n",
      "price:  452543\n",
      "Break Type:  Disc\n",
      "Manufacturer:  Honda\n",
      "Model:  Activa\n",
      "price:  1500543\n",
      "Break Type:  Drum\n"
     ]
    }
   ],
   "source": [
    "obj = [v,tw, tw1]\n",
    "\n",
    "for i in obj:\n",
    "    i.display()"
   ]
  },
  {
   "cell_type": "code",
   "execution_count": null,
   "id": "7b6fac39",
   "metadata": {},
   "outputs": [],
   "source": []
  }
 ],
 "metadata": {
  "kernelspec": {
   "display_name": "Python 3",
   "language": "python",
   "name": "python3"
  },
  "language_info": {
   "codemirror_mode": {
    "name": "ipython",
    "version": 3
   },
   "file_extension": ".py",
   "mimetype": "text/x-python",
   "name": "python",
   "nbconvert_exporter": "python",
   "pygments_lexer": "ipython3",
   "version": "3.13.7"
  }
 },
 "nbformat": 4,
 "nbformat_minor": 5
}
