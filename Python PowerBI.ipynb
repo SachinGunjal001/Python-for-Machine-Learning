{
 "cells": [
  {
   "cell_type": "code",
   "execution_count": 7,
   "id": "77088ee9",
   "metadata": {},
   "outputs": [],
   "source": [
    "import pandas as pd\n",
    "import numpy as np\n",
    "import matplotlib.pyplot as plt\n",
    "import seaborn as sns"
   ]
  },
  {
   "cell_type": "code",
   "execution_count": 8,
   "id": "c5739a6e",
   "metadata": {},
   "outputs": [
    {
     "name": "stderr",
     "output_type": "stream",
     "text": [
      "<>:1: SyntaxWarning: invalid escape sequence '\\D'\n",
      "<>:1: SyntaxWarning: invalid escape sequence '\\D'\n",
      "C:\\Users\\Admin\\AppData\\Local\\Temp\\ipykernel_23548\\36568333.py:1: SyntaxWarning: invalid escape sequence '\\D'\n",
      "  df = pd.read_excel('E:\\Data Science\\PowerBI\\Power BI Github\\Automobile-Car-Industry-Financial-Sales-Dashboard-Analysis\\Car Automobile Sales Analysis.xlsx')\n"
     ]
    },
    {
     "data": {
      "text/html": [
       "<div>\n",
       "<style scoped>\n",
       "    .dataframe tbody tr th:only-of-type {\n",
       "        vertical-align: middle;\n",
       "    }\n",
       "\n",
       "    .dataframe tbody tr th {\n",
       "        vertical-align: top;\n",
       "    }\n",
       "\n",
       "    .dataframe thead th {\n",
       "        text-align: right;\n",
       "    }\n",
       "</style>\n",
       "<table border=\"1\" class=\"dataframe\">\n",
       "  <thead>\n",
       "    <tr style=\"text-align: right;\">\n",
       "      <th></th>\n",
       "      <th>InvoiceDate</th>\n",
       "      <th>Manufacturer</th>\n",
       "      <th>Country</th>\n",
       "      <th>SalePrice</th>\n",
       "      <th>CostPrice</th>\n",
       "      <th>Discount</th>\n",
       "      <th>DeliveryCharges</th>\n",
       "      <th>SpareParts</th>\n",
       "      <th>LaborCost</th>\n",
       "      <th>ClientName</th>\n",
       "      <th>Model</th>\n",
       "      <th>Color</th>\n",
       "      <th>ReportingYear</th>\n",
       "      <th>ReportingMonth</th>\n",
       "      <th>Registration_Date</th>\n",
       "      <th>VehicleType</th>\n",
       "    </tr>\n",
       "  </thead>\n",
       "  <tbody>\n",
       "    <tr>\n",
       "      <th>0</th>\n",
       "      <td>2012-01-01</td>\n",
       "      <td>Aston Martin</td>\n",
       "      <td>United Kingdom</td>\n",
       "      <td>110000</td>\n",
       "      <td>125000</td>\n",
       "      <td>0.0</td>\n",
       "      <td>1750</td>\n",
       "      <td>1950</td>\n",
       "      <td>752</td>\n",
       "      <td>Cut'n'Shut</td>\n",
       "      <td>Vanquish</td>\n",
       "      <td>Red</td>\n",
       "      <td>2013</td>\n",
       "      <td>12</td>\n",
       "      <td>2001-09-01</td>\n",
       "      <td>Coupe</td>\n",
       "    </tr>\n",
       "    <tr>\n",
       "      <th>1</th>\n",
       "      <td>2012-01-01</td>\n",
       "      <td>Jaguar</td>\n",
       "      <td>USA</td>\n",
       "      <td>44000</td>\n",
       "      <td>25000</td>\n",
       "      <td>500.0</td>\n",
       "      <td>450</td>\n",
       "      <td>1950</td>\n",
       "      <td>486</td>\n",
       "      <td>Rocky Riding</td>\n",
       "      <td>XK</td>\n",
       "      <td>Dark Purple</td>\n",
       "      <td>2012</td>\n",
       "      <td>1</td>\n",
       "      <td>2000-09-01</td>\n",
       "      <td>Coupe</td>\n",
       "    </tr>\n",
       "    <tr>\n",
       "      <th>2</th>\n",
       "      <td>2012-01-01</td>\n",
       "      <td>Jaguar</td>\n",
       "      <td>USA</td>\n",
       "      <td>45000</td>\n",
       "      <td>37500</td>\n",
       "      <td>500.0</td>\n",
       "      <td>450</td>\n",
       "      <td>1950</td>\n",
       "      <td>486</td>\n",
       "      <td>Rocky Riding</td>\n",
       "      <td>XJ6</td>\n",
       "      <td>British Racing Green</td>\n",
       "      <td>2012</td>\n",
       "      <td>2</td>\n",
       "      <td>2000-09-01</td>\n",
       "      <td>Saloon</td>\n",
       "    </tr>\n",
       "    <tr>\n",
       "      <th>3</th>\n",
       "      <td>2012-02-01</td>\n",
       "      <td>Jaguar</td>\n",
       "      <td>Switzerland</td>\n",
       "      <td>39500</td>\n",
       "      <td>25000</td>\n",
       "      <td>500.0</td>\n",
       "      <td>0</td>\n",
       "      <td>1950</td>\n",
       "      <td>486</td>\n",
       "      <td>Voitures Diplomatiques S.A.</td>\n",
       "      <td>XJ12</td>\n",
       "      <td>Black</td>\n",
       "      <td>2012</td>\n",
       "      <td>3</td>\n",
       "      <td>2000-09-01</td>\n",
       "      <td>Saloon</td>\n",
       "    </tr>\n",
       "    <tr>\n",
       "      <th>4</th>\n",
       "      <td>2012-02-01</td>\n",
       "      <td>Jaguar</td>\n",
       "      <td>France</td>\n",
       "      <td>44000</td>\n",
       "      <td>37500</td>\n",
       "      <td>500.0</td>\n",
       "      <td>500</td>\n",
       "      <td>1950</td>\n",
       "      <td>486</td>\n",
       "      <td>Les Arnaqueurs</td>\n",
       "      <td>XK</td>\n",
       "      <td>Canary Yellow</td>\n",
       "      <td>2012</td>\n",
       "      <td>4</td>\n",
       "      <td>2000-09-01</td>\n",
       "      <td>Coupe</td>\n",
       "    </tr>\n",
       "  </tbody>\n",
       "</table>\n",
       "</div>"
      ],
      "text/plain": [
       "  InvoiceDate  Manufacturer         Country  SalePrice  CostPrice  Discount  \\\n",
       "0  2012-01-01  Aston Martin  United Kingdom     110000     125000       0.0   \n",
       "1  2012-01-01        Jaguar             USA      44000      25000     500.0   \n",
       "2  2012-01-01        Jaguar             USA      45000      37500     500.0   \n",
       "3  2012-02-01        Jaguar     Switzerland      39500      25000     500.0   \n",
       "4  2012-02-01        Jaguar          France      44000      37500     500.0   \n",
       "\n",
       "   DeliveryCharges  SpareParts  LaborCost                   ClientName  \\\n",
       "0             1750        1950        752                   Cut'n'Shut   \n",
       "1              450        1950        486                 Rocky Riding   \n",
       "2              450        1950        486                 Rocky Riding   \n",
       "3                0        1950        486  Voitures Diplomatiques S.A.   \n",
       "4              500        1950        486               Les Arnaqueurs   \n",
       "\n",
       "      Model                 Color  ReportingYear  ReportingMonth  \\\n",
       "0  Vanquish                   Red           2013              12   \n",
       "1        XK           Dark Purple           2012               1   \n",
       "2       XJ6  British Racing Green           2012               2   \n",
       "3      XJ12                 Black           2012               3   \n",
       "4        XK         Canary Yellow           2012               4   \n",
       "\n",
       "  Registration_Date VehicleType  \n",
       "0        2001-09-01       Coupe  \n",
       "1        2000-09-01       Coupe  \n",
       "2        2000-09-01      Saloon  \n",
       "3        2000-09-01      Saloon  \n",
       "4        2000-09-01       Coupe  "
      ]
     },
     "execution_count": 8,
     "metadata": {},
     "output_type": "execute_result"
    }
   ],
   "source": [
    "df = pd.read_excel('E:\\Data Science\\PowerBI\\Power BI Github\\Automobile-Car-Industry-Financial-Sales-Dashboard-Analysis\\Car Automobile Sales Analysis.xlsx')\n",
    "df.head()"
   ]
  },
  {
   "cell_type": "code",
   "execution_count": 9,
   "id": "e22cafff",
   "metadata": {},
   "outputs": [
    {
     "data": {
      "text/plain": [
       "(457, 16)"
      ]
     },
     "execution_count": 9,
     "metadata": {},
     "output_type": "execute_result"
    }
   ],
   "source": [
    "df.shape"
   ]
  },
  {
   "cell_type": "code",
   "execution_count": 10,
   "id": "4f4244a1",
   "metadata": {},
   "outputs": [
    {
     "data": {
      "text/plain": [
       "<bound method DataFrame.dropna of     InvoiceDate  Manufacturer         Country  SalePrice  CostPrice  Discount  \\\n",
       "0    2012-01-01  Aston Martin  United Kingdom     110000     125000       0.0   \n",
       "1    2012-01-01        Jaguar             USA      44000      25000     500.0   \n",
       "2    2012-01-01        Jaguar             USA      45000      37500     500.0   \n",
       "3    2012-02-01        Jaguar     Switzerland      39500      25000     500.0   \n",
       "4    2012-02-01        Jaguar          France      44000      37500     500.0   \n",
       "..          ...           ...             ...        ...        ...       ...   \n",
       "452  2015-12-02  Aston Martin             USA      39750      27500    1300.0   \n",
       "453  2015-12-02  Aston Martin             USA      40440      22500     550.0   \n",
       "454  2015-12-02   Rolls Royce             USA      72000      22500    1050.0   \n",
       "455  2015-12-02  Aston Martin             USA      40440      36125     800.0   \n",
       "456  2015-12-02  Aston Martin             USA      77250      22500     550.0   \n",
       "\n",
       "     DeliveryCharges  SpareParts  LaborCost                      ClientName  \\\n",
       "0               1750        1950        752                      Cut'n'Shut   \n",
       "1                450        1950        486                    Rocky Riding   \n",
       "2                450        1950        486                    Rocky Riding   \n",
       "3                  0        1950        486     Voitures Diplomatiques S.A.   \n",
       "4                500        1950        486                  Les Arnaqueurs   \n",
       "..               ...         ...        ...                             ...   \n",
       "452              -75         500       1250  Buckingham Palace Car Services   \n",
       "453              175         500       1250  British Luxury Automobile Corp   \n",
       "454              -75         895        950                Classy Car Sales   \n",
       "455              875         895       1250                 Ambassador Cars   \n",
       "456              875         750       1250                  Embassy Motors   \n",
       "\n",
       "        Model                 Color  ReportingYear  ReportingMonth  \\\n",
       "0    Vanquish                   Red           2013              12   \n",
       "1          XK           Dark Purple           2012               1   \n",
       "2         XJ6  British Racing Green           2012               2   \n",
       "3        XJ12                 Black           2012               3   \n",
       "4          XK         Canary Yellow           2012               4   \n",
       "..        ...                   ...            ...             ...   \n",
       "452       DB9                 Black           2015               9   \n",
       "453       DB9                   Red           2015              10   \n",
       "454  Camargue                  Blue           2015              11   \n",
       "455       DB9                 Green           2015              11   \n",
       "456       DB9                Silver           2015              11   \n",
       "\n",
       "    Registration_Date VehicleType  \n",
       "0          2001-09-01       Coupe  \n",
       "1          2000-09-01       Coupe  \n",
       "2          2000-09-01      Saloon  \n",
       "3          2000-09-01      Saloon  \n",
       "4          2000-09-01       Coupe  \n",
       "..                ...         ...  \n",
       "452        2007-04-05       Coupe  \n",
       "453        2003-04-05       Coupe  \n",
       "454        2007-04-05      Saloon  \n",
       "455        2007-04-05       Coupe  \n",
       "456        2003-04-05       Coupe  \n",
       "\n",
       "[457 rows x 16 columns]>"
      ]
     },
     "execution_count": 10,
     "metadata": {},
     "output_type": "execute_result"
    }
   ],
   "source": [
    "df.dropna"
   ]
  },
  {
   "cell_type": "code",
   "execution_count": 12,
   "id": "39ae1da2",
   "metadata": {},
   "outputs": [
    {
     "data": {
      "text/plain": [
       "Index(['InvoiceDate', 'Manufacturer', 'Country', 'SalePrice', 'CostPrice',\n",
       "       'Discount', 'DeliveryCharges', 'SpareParts', 'LaborCost', 'ClientName',\n",
       "       'Model', 'Color', 'ReportingYear', 'ReportingMonth',\n",
       "       'Registration_Date', 'VehicleType'],\n",
       "      dtype='object')"
      ]
     },
     "execution_count": 12,
     "metadata": {},
     "output_type": "execute_result"
    }
   ],
   "source": [
    "df.columns"
   ]
  },
  {
   "cell_type": "code",
   "execution_count": 15,
   "id": "a434545a",
   "metadata": {},
   "outputs": [
    {
     "data": {
      "image/png": "[encoded data removed]",
      "text/plain": [
       "<Figure size 640x480 with 1 Axes>"
      ]
     },
     "metadata": {},
     "output_type": "display_data"
    }
   ],
   "source": [
    "plt.bar(df['Country'], df['SalePrice'])\n",
    "plt.xlabel('Country')\n",
    "plt.ylabel('Price')\n",
    "plt.show()"
   ]
  },
  {
   "cell_type": "code",
   "execution_count": 16,
   "id": "336e9900",
   "metadata": {},
   "outputs": [
    {
     "data": {
      "image/png": "[encoded data removed]",
      "text/plain": [
       "<Figure size 640x480 with 1 Axes>"
      ]
     },
     "execution_count": 16,
     "metadata": {},
     "output_type": "execute_result"
    },
    {
     "data": {
      "image/png": "[encoded data removed]",
      "text/plain": [
       "<Figure size 640x480 with 1 Axes>"
      ]
     },
     "metadata": {},
     "output_type": "display_data"
    }
   ],
   "source": [
    "import matplotlib.pyplot as plt\n",
    "import pandas as pd\n",
    "\n",
    "df = pd.read_excel(r'E:\\Data Science\\PowerBI\\Power BI Github\\Automobile-Car-Industry-Financial-Sales-Dashboard-Analysis\\Car Automobile Sales Analysis.xlsx')\n",
    "\n",
    "plt.bar(df['Country'], df['SalePrice'])\n",
    "plt.xlabel('Country')\n",
    "plt.ylabel('Price')\n",
    "\n",
    "# Return the figure to Power BI\n",
    "plt.gcf()\n"
   ]
  },
  {
   "cell_type": "code",
   "execution_count": null,
   "id": "f8a5b0c9",
   "metadata": {},
   "outputs": [],
   "source": [
    "import pandas as pd\n",
    "import matplotlib.pyplot as plt\n",
    "from matplotlib.widgets import Button\n",
    "from datetime import datetime, timedelta\n",
    "\n",
    "# Load the dataset\n",
    "df = pd.read_excel(\"TWTR.xlsx\")\n",
    "\n",
    "# Convert 'Date' column to datetime format\n",
    "df['Date'] = pd.to_datetime(df['Date'])\n",
    "df = df.sort_values(by='Date')\n",
    "\n",
    "# Function to filter data for different time periods\n",
    "def filter_data(period):\n",
    "    end_date = df['Date'].max()\n",
    "    \n",
    "    if period == \"1M\":\n",
    "        start_date = end_date - timedelta(days=30)\n",
    "    elif period == \"6M\":\n",
    "        start_date = end_date - timedelta(days=182)\n",
    "    elif period == \"1Y\":\n",
    "        start_date = end_date - timedelta(days=365)\n",
    "    elif period == \"5Y\":\n",
    "        start_date = end_date - timedelta(days=5*365)\n",
    "    else:  # MAX\n",
    "        start_date = df['Date'].min()\n",
    "    \n",
    "    return df[(df['Date'] >= start_date) & (df['Date'] <= end_date)]\n",
    "\n",
    "# --- Plot setup ---\n",
    "fig, ax = plt.subplots(figsize=(12, 6))\n",
    "plt.subplots_adjust(bottom=0.25)\n",
    "(line,) = ax.plot(df['Date'], df['Close'], label='Close Price', color='blue', linewidth=2)\n",
    "ax.set_title(\"Twitter Stock Price Timeline\", fontsize=14)\n",
    "ax.set_xlabel(\"Date\")\n",
    "ax.set_ylabel(\"Closing Price (USD)\")\n",
    "ax.grid(True, linestyle='--', alpha=0.6)\n",
    "ax.legend()\n",
    "\n",
    "# --- Update function for buttons ---\n",
    "def update(event):\n",
    "    period = event.inaxes.get_label()\n",
    "    filtered_df = filter_data(period)\n",
    "    line.set_data(filtered_df['Date'], filtered_df['Close'])\n",
    "    ax.set_xlim(filtered_df['Date'].min(), filtered_df['Date'].max())\n",
    "    ax.set_ylim(filtered_df['Close'].min(), filtered_df['Close'].max())\n",
    "    ax.set_title(f\"Twitter Stock Price - {period} Period\", fontsize=14)\n",
    "    fig.canvas.draw_idle()\n",
    "\n",
    "# --- Create buttons for different time ranges ---\n",
    "button_labels = [\"1M\", \"6M\", \"1Y\", \"5Y\", \"MAX\"]\n",
    "positions = [0.1, 0.25, 0.4, 0.55, 0.7]\n",
    "\n",
    "buttons = []\n",
    "for i, label in enumerate(button_labels):\n",
    "    ax_button = plt.axes([positions[i], 0.05, 0.1, 0.05])\n",
    "    button = Button(ax_button, label)\n",
    "    button.ax.set_label(label)\n",
    "    button.on_clicked(update)\n",
    "    buttons.append(button)\n",
    "\n",
    "plt.show()\n"
   ]
  }
 ],
 "metadata": {
  "kernelspec": {
   "display_name": "Python 3",
   "language": "python",
   "name": "python3"
  },
  "language_info": {
   "codemirror_mode": {
    "name": "ipython",
    "version": 3
   },
   "file_extension": ".py",
   "mimetype": "text/x-python",
   "name": "python",
   "nbconvert_exporter": "python",
   "pygments_lexer": "ipython3",
   "version": "3.13.7"
  }
 },
 "nbformat": 4,
 "nbformat_minor": 5
}
