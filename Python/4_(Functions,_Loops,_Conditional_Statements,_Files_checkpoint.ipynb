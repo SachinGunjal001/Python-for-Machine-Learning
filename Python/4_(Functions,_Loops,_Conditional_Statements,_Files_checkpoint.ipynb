{
 "cells": [
  {
   "cell_type": "markdown",
   "id": "4f1596de",
   "metadata": {
    "id": "4f1596de"
   },
   "source": [
    "# Functions\n",
    "- Write solution of each question in the cell given below the corresponsing question.\n",
    "- Function taking input refers to input as a parameter / argument being passed."
   ]
  },
  {
   "cell_type": "markdown",
   "id": "6f0d9ac3",
   "metadata": {
    "id": "6f0d9ac3"
   },
   "source": [
    "#### 1. Create a function that takes a list of numbers as input and returns the median."
   ]
  },
  {
   "cell_type": "code",
   "execution_count": 7,
   "id": "fa385329",
   "metadata": {},
   "outputs": [],
   "source": [
    "import statistics"
   ]
  },
  {
   "cell_type": "code",
   "execution_count": 18,
   "id": "0a090145",
   "metadata": {
    "id": "0a090145"
   },
   "outputs": [
    {
     "name": "stdout",
     "output_type": "stream",
     "text": [
      "Median value of this list is  4\n"
     ]
    }
   ],
   "source": [
    "nums = input(\"Enter four numbers (space separated): \").split()\n",
    "for i in range(len(nums)):\n",
    "    nums[i] = int(nums[i])\n",
    "\n",
    "\n",
    "median_value = statistics.median(nums)\n",
    "\n",
    "print(\"Median value of this list is \", median_value)\n",
    "\n"
   ]
  },
  {
   "cell_type": "markdown",
   "id": "18a107c4",
   "metadata": {
    "id": "18a107c4"
   },
   "source": [
    "#### 2. Create a function that takes a list of numbers as input and returns the mean."
   ]
  },
  {
   "cell_type": "code",
   "execution_count": 30,
   "id": "Vy8v3p_hIgsc",
   "metadata": {
    "id": "Vy8v3p_hIgsc"
   },
   "outputs": [
    {
     "name": "stdout",
     "output_type": "stream",
     "text": [
      "Mean value of this list is  17\n"
     ]
    }
   ],
   "source": [
    "nums = input(\"Enter four numbers (space separated): \").split()\n",
    "for i in range(len(nums)):\n",
    "    nums[i] = int(nums[i])\n",
    "\n",
    "\n",
    "mean_value = statistics.mean(nums)\n",
    "\n",
    "print(\"Mean value of this list is \", mean_value)\n"
   ]
  },
  {
   "cell_type": "markdown",
   "id": "34df49cf",
   "metadata": {
    "id": "34df49cf"
   },
   "source": [
    "#### 3. Create a function that takes a list of numbers as input and returns the standard deviation."
   ]
  },
  {
   "cell_type": "code",
   "execution_count": 31,
   "id": "5a089785",
   "metadata": {
    "id": "5a089785"
   },
   "outputs": [
    {
     "name": "stdout",
     "output_type": "stream",
     "text": [
      "Standard_Deviation value of this list is  38.53461647229237\n"
     ]
    }
   ],
   "source": [
    "nums = input(\"Enter four numbers (space separated): \").split()\n",
    "for i in range(len(nums)):\n",
    "    nums[i] = int(nums[i])\n",
    "\n",
    "\n",
    "Standard_Deviation = statistics.stdev(nums)\n",
    "\n",
    "print(\"Standard_Deviation value of this list is \", Standard_Deviation)\n"
   ]
  },
  {
   "cell_type": "markdown",
   "id": "9cc39352",
   "metadata": {
    "id": "9cc39352"
   },
   "source": [
    "#### 4. Create a function that takes a number as input and return True if the number is prime , False if not."
   ]
  },
  {
   "cell_type": "code",
   "execution_count": 33,
   "id": "722fc2fa",
   "metadata": {
    "id": "722fc2fa"
   },
   "outputs": [
    {
     "name": "stdout",
     "output_type": "stream",
     "text": [
      "False\n"
     ]
    }
   ],
   "source": [
    "num = int(input(\"Enter the number: \"))\n",
    "\n",
    "def Prime_number(num):\n",
    "    if num <= 1:\n",
    "        return False\n",
    "\n",
    "    for i in range(2, num):\n",
    "        if num % i == 0:\n",
    "            return False\n",
    "    return True\n",
    "    \n",
    "print(Prime_number(num))\n",
    "         "
   ]
  },
  {
   "cell_type": "markdown",
   "id": "4029f3a8",
   "metadata": {
    "id": "4029f3a8"
   },
   "source": [
    "#### 5. Create a function that takes a list of numbers as input and returns the variance."
   ]
  },
  {
   "cell_type": "code",
   "execution_count": null,
   "id": "83d19248",
   "metadata": {
    "id": "83d19248"
   },
   "outputs": [
    {
     "name": "stdout",
     "output_type": "stream",
     "text": [
      "Median value of this list is  284.96666666666664\n"
     ]
    }
   ],
   "source": [
    "nums = input(\"Enter four numbers (space separated): \").split()\n",
    "for i in range(len(nums)):\n",
    "    nums[i] = int(nums[i])\n",
    "\n",
    "\n",
    "Variance_ = statistics.variance(nums)\n",
    "\n",
    "print(\"Variance value of this list is \", Variance_)\n"
   ]
  },
  {
   "cell_type": "markdown",
   "id": "7acad1bf",
   "metadata": {
    "id": "7acad1bf"
   },
   "source": [
    "#### 6. Create a function that takes a number as input and returns the factorial."
   ]
  },
  {
   "cell_type": "code",
   "execution_count": 5,
   "id": "f7c0877a",
   "metadata": {
    "id": "f7c0877a"
   },
   "outputs": [
    {
     "name": "stdout",
     "output_type": "stream",
     "text": [
      "24\n"
     ]
    }
   ],
   "source": [
    "num = int(input(\"Enter the number: \"))\n",
    "fact = 1\n",
    "while num > 0:\n",
    "    fact = num*fact\n",
    "    num = num-1\n",
    "print(fact)"
   ]
  },
  {
   "cell_type": "markdown",
   "id": "b1e46b1f",
   "metadata": {
    "id": "b1e46b1f"
   },
   "source": [
    "#### 7. Create a function that takes two lists of same length as input and returns a list consisting of larger element at each position after comparing the corresponding elements in the given lists."
   ]
  },
  {
   "cell_type": "code",
   "execution_count": null,
   "id": "bc428d22",
   "metadata": {
    "id": "bc428d22"
   },
   "outputs": [],
   "source": []
  },
  {
   "cell_type": "markdown",
   "id": "f397889f",
   "metadata": {
    "id": "f397889f"
   },
   "source": [
    "#### 8. Create a function that takes a string and returns a string after joining the words that are having even lengths."
   ]
  },
  {
   "cell_type": "code",
   "execution_count": null,
   "id": "ebf96e1c",
   "metadata": {
    "id": "ebf96e1c"
   },
   "outputs": [],
   "source": []
  },
  {
   "cell_type": "markdown",
   "id": "36c6aae1",
   "metadata": {
    "id": "36c6aae1"
   },
   "source": [
    "#### 9. Create a function that takes a string and a character as input and returns a list after splitting the string based on the given character. By Default split based on whitespace. (Create a function similar to the inbuilt split function without using it)."
   ]
  },
  {
   "cell_type": "code",
   "execution_count": null,
   "id": "869d7244",
   "metadata": {
    "id": "869d7244"
   },
   "outputs": [],
   "source": []
  },
  {
   "cell_type": "markdown",
   "id": "f12cc8c9",
   "metadata": {
    "id": "f12cc8c9"
   },
   "source": [
    "#### 10. Create a function which takes a txt filename as input and returns the number of words in that file."
   ]
  },
  {
   "cell_type": "code",
   "execution_count": null,
   "id": "46492494",
   "metadata": {
    "id": "46492494"
   },
   "outputs": [],
   "source": []
  },
  {
   "cell_type": "markdown",
   "id": "b2666c95",
   "metadata": {
    "id": "b2666c95"
   },
   "source": [
    "#### 11. Create a function which takes a txt filename as input and returns the number of line in the file."
   ]
  },
  {
   "cell_type": "code",
   "execution_count": null,
   "id": "5ff27d42",
   "metadata": {
    "id": "5ff27d42"
   },
   "outputs": [],
   "source": []
  },
  {
   "cell_type": "markdown",
   "id": "6722fb75",
   "metadata": {
    "id": "6722fb75"
   },
   "source": [
    "#### 12. Create a function that takes two txt filenames and returns a file after merging the cintents of two given files. (Print the merged content and then return the filename, content of original files should be unchanged)."
   ]
  },
  {
   "cell_type": "code",
   "execution_count": null,
   "id": "86a4b436",
   "metadata": {
    "id": "86a4b436"
   },
   "outputs": [],
   "source": []
  },
  {
   "cell_type": "markdown",
   "id": "faf26668",
   "metadata": {
    "id": "faf26668"
   },
   "source": [
    "#### 13. Write a program that takes a string as input and returns a list of all words having even length in that string (Using Map/Filter and Lambda expression)."
   ]
  },
  {
   "cell_type": "code",
   "execution_count": null,
   "id": "955cd692",
   "metadata": {
    "id": "955cd692"
   },
   "outputs": [],
   "source": []
  },
  {
   "cell_type": "code",
   "execution_count": null,
   "id": "A1z_AdWcyKJi",
   "metadata": {
    "id": "A1z_AdWcyKJi"
   },
   "outputs": [],
   "source": []
  }
 ],
 "metadata": {
  "colab": {
   "provenance": []
  },
  "kernelspec": {
   "display_name": "Python 3",
   "language": "python",
   "name": "python3"
  },
  "language_info": {
   "codemirror_mode": {
    "name": "ipython",
    "version": 3
   },
   "file_extension": ".py",
   "mimetype": "text/x-python",
   "name": "python",
   "nbconvert_exporter": "python",
   "pygments_lexer": "ipython3",
   "version": "3.13.7"
  }
 },
 "nbformat": 4,
 "nbformat_minor": 5
}
