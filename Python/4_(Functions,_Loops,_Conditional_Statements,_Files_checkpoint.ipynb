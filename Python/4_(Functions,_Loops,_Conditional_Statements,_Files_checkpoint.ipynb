{
 "cells": [
  {
   "cell_type": "markdown",
   "id": "4f1596de",
   "metadata": {
    "id": "4f1596de"
   },
   "source": [
    "# Functions\n",
    "- Write solution of each question in the cell given below the corresponsing question.\n",
    "- Function taking input refers to input as a parameter / argument being passed."
   ]
  },
  {
   "cell_type": "markdown",
   "id": "6f0d9ac3",
   "metadata": {
    "id": "6f0d9ac3"
   },
   "source": [
    "#### 1. Create a function that takes a list of numbers as input and returns the median."
   ]
  },
  {
   "cell_type": "code",
   "execution_count": 7,
   "id": "fa385329",
   "metadata": {},
   "outputs": [],
   "source": [
    "import statistics"
   ]
  },
  {
   "cell_type": "code",
   "execution_count": 18,
   "id": "0a090145",
   "metadata": {
    "id": "0a090145"
   },
   "outputs": [
    {
     "name": "stdout",
     "output_type": "stream",
     "text": [
      "Median value of this list is  4\n"
     ]
    }
   ],
   "source": [
    "nums = input(\"Enter four numbers (space separated): \").split()\n",
    "for i in range(len(nums)):\n",
    "    nums[i] = int(nums[i])\n",
    "\n",
    "\n",
    "median_value = statistics.median(nums)\n",
    "\n",
    "print(\"Median value of this list is \", median_value)\n",
    "\n"
   ]
  },
  {
   "cell_type": "markdown",
   "id": "18a107c4",
   "metadata": {
    "id": "18a107c4"
   },
   "source": [
    "#### 2. Create a function that takes a list of numbers as input and returns the mean."
   ]
  },
  {
   "cell_type": "code",
   "execution_count": 30,
   "id": "Vy8v3p_hIgsc",
   "metadata": {
    "id": "Vy8v3p_hIgsc"
   },
   "outputs": [
    {
     "name": "stdout",
     "output_type": "stream",
     "text": [
      "Mean value of this list is  17\n"
     ]
    }
   ],
   "source": [
    "nums = input(\"Enter four numbers (space separated): \").split()\n",
    "for i in range(len(nums)):\n",
    "    nums[i] = int(nums[i])\n",
    "\n",
    "\n",
    "mean_value = statistics.mean(nums)\n",
    "\n",
    "print(\"Mean value of this list is \", mean_value)\n"
   ]
  },
  {
   "cell_type": "markdown",
   "id": "34df49cf",
   "metadata": {
    "id": "34df49cf"
   },
   "source": [
    "#### 3. Create a function that takes a list of numbers as input and returns the standard deviation."
   ]
  },
  {
   "cell_type": "code",
   "execution_count": 31,
   "id": "5a089785",
   "metadata": {
    "id": "5a089785"
   },
   "outputs": [
    {
     "name": "stdout",
     "output_type": "stream",
     "text": [
      "Standard_Deviation value of this list is  38.53461647229237\n"
     ]
    }
   ],
   "source": [
    "nums = input(\"Enter four numbers (space separated): \").split()\n",
    "for i in range(len(nums)):\n",
    "    nums[i] = int(nums[i])\n",
    "\n",
    "\n",
    "Standard_Deviation = statistics.stdev(nums)\n",
    "\n",
    "print(\"Standard_Deviation value of this list is \", Standard_Deviation)\n"
   ]
  },
  {
   "cell_type": "markdown",
   "id": "9cc39352",
   "metadata": {
    "id": "9cc39352"
   },
   "source": [
    "#### 4. Create a function that takes a number as input and return True if the number is prime , False if not."
   ]
  },
  {
   "cell_type": "code",
   "execution_count": 33,
   "id": "722fc2fa",
   "metadata": {
    "id": "722fc2fa"
   },
   "outputs": [
    {
     "name": "stdout",
     "output_type": "stream",
     "text": [
      "False\n"
     ]
    }
   ],
   "source": [
    "num = int(input(\"Enter the number: \"))\n",
    "\n",
    "def Prime_number(num):\n",
    "    if num <= 1:\n",
    "        return False\n",
    "\n",
    "    for i in range(2, num):\n",
    "        if num % i == 0:\n",
    "            return False\n",
    "    return True\n",
    "    \n",
    "print(Prime_number(num))\n",
    "         "
   ]
  },
  {
   "cell_type": "markdown",
   "id": "4029f3a8",
   "metadata": {
    "id": "4029f3a8"
   },
   "source": [
    "#### 5. Create a function that takes a list of numbers as input and returns the variance."
   ]
  },
  {
   "cell_type": "code",
   "execution_count": null,
   "id": "83d19248",
   "metadata": {
    "id": "83d19248"
   },
   "outputs": [
    {
     "name": "stdout",
     "output_type": "stream",
     "text": [
      "Median value of this list is  284.96666666666664\n"
     ]
    }
   ],
   "source": [
    "nums = input(\"Enter four numbers (space separated): \").split()\n",
    "for i in range(len(nums)):\n",
    "    nums[i] = int(nums[i])\n",
    "\n",
    "\n",
    "Variance_ = statistics.variance(nums)\n",
    "\n",
    "print(\"Variance value of this list is \", Variance_)\n"
   ]
  },
  {
   "cell_type": "markdown",
   "id": "7acad1bf",
   "metadata": {
    "id": "7acad1bf"
   },
   "source": [
    "#### 6. Create a function that takes a number as input and returns the factorial."
   ]
  },
  {
   "cell_type": "code",
   "execution_count": 6,
   "id": "f7c0877a",
   "metadata": {
    "id": "f7c0877a"
   },
   "outputs": [
    {
     "name": "stdout",
     "output_type": "stream",
     "text": [
      "3628800\n"
     ]
    }
   ],
   "source": [
    "num = int(input(\"Enter the number: \"))\n",
    "fact = 1\n",
    "while num > 0:\n",
    "    fact = num*fact\n",
    "    num = num-1\n",
    "print(fact)"
   ]
  },
  {
   "cell_type": "markdown",
   "id": "b1e46b1f",
   "metadata": {
    "id": "b1e46b1f"
   },
   "source": [
    "#### 7. Create a function that takes two lists of same length as input and returns a list consisting of larger element at each position after comparing the corresponding elements in the given lists."
   ]
  },
  {
   "cell_type": "code",
   "execution_count": 14,
   "id": "bc428d22",
   "metadata": {
    "id": "bc428d22"
   },
   "outputs": [
    {
     "name": "stdout",
     "output_type": "stream",
     "text": [
      "[3, 6, 9, 8]\n"
     ]
    }
   ],
   "source": [
    "list1 = input(\"Enter four numbers (space separated): \").split()\n",
    "for i in range(len(list1)):\n",
    "    list1[i] = int(list1[i])\n",
    "\n",
    "list2 = input(\"Enter four numbers (space separated): \").split()\n",
    "for i in range(len(list2)):\n",
    "    list2[i] = int(list2[i])\n",
    "Req_list = []\n",
    "\n",
    "def CompareElementsAtEachPosition(list1, list2):\n",
    "    for i in range(len(list1)):\n",
    "            if(list1[i] > list2[i]):\n",
    "                  Req_list.append(list1[i])\n",
    "            else:\n",
    "                Req_list.append(list2[i])\n",
    "    print(Req_list)\n",
    " \n",
    "CompareElementsAtEachPosition(list1, list2)\n"
   ]
  },
  {
   "cell_type": "markdown",
   "id": "f397889f",
   "metadata": {
    "id": "f397889f"
   },
   "source": [
    "#### 8. Create a function that takes a string and returns a string after joining the words that are having even lengths."
   ]
  },
  {
   "cell_type": "code",
   "execution_count": 31,
   "id": "ebf96e1c",
   "metadata": {
    "id": "ebf96e1c"
   },
   "outputs": [
    {
     "name": "stdout",
     "output_type": "stream",
     "text": [
      "['Create', 'function', 'that', 'string', 'string', 'that', 'having', 'even']\n"
     ]
    }
   ],
   "source": [
    "strng = input(\"Enter string : \").split()\n",
    "evenList = []\n",
    "def EvenLengthTogether(strng):\n",
    "    for i in range(len(strng)):\n",
    "        if len(strng[i]) % 2 == 0:\n",
    "            evenList.append(strng[i])\n",
    "\n",
    "    print(evenList)\n",
    "\n",
    "EvenLengthTogether(strng)\n"
   ]
  },
  {
   "cell_type": "markdown",
   "id": "36c6aae1",
   "metadata": {
    "id": "36c6aae1"
   },
   "source": [
    "#### 9. Create a function that takes a string and a character as input and returns a list after splitting the string based on the given character. By Default split based on whitespace. (Create a function similar to the inbuilt split function without using it)."
   ]
  },
  {
   "cell_type": "code",
   "execution_count": 43,
   "id": "869d7244",
   "metadata": {
    "id": "869d7244"
   },
   "outputs": [
    {
     "name": "stdout",
     "output_type": "stream",
     "text": [
      "['asjfdnn sfdbnfjn sfndnm', 'asjfdnn sfdbnfjn sfndnm', 'asjfdnn sfdbnfjn sfndnm', 'asjfdnn sfdbnfjn sfndnm', 'asjfdnn sfdbnfjn sfndnm', 'asjfdnn sfdbnfjn sfndnm', 'asjfdnn sfdbnfjn sfndnm', 'asjfdnn sfdbnfjn sfndnm', 'asjfdnn sfdbnfjn sfndnm', 'asjfdnn sfdbnfjn sfndnm', 'asjfdnn sfdbnfjn sfndnm', 'asjfdnn sfdbnfjn sfndnm', 'asjfdnn sfdbnfjn sfndnm', 'asjfdnn sfdbnfjn sfndnm', 'asjfdnn sfdbnfjn sfndnm', 'asjfdnn sfdbnfjn sfndnm', 'asjfdnn sfdbnfjn sfndnm', 'asjfdnn sfdbnfjn sfndnm', 'asjfdnn sfdbnfjn sfndnm', 'asjfdnn sfdbnfjn sfndnm', 'asjfdnn sfdbnfjn sfndnm', 'asjfdnn sfdbnfjn sfndnm', 'asjfdnn sfdbnfjn sfndnm']\n",
      "None\n"
     ]
    }
   ],
   "source": [
    "string1 = input(\"Enter string : \")\n",
    "char = input(\"Enter character: \")\n",
    "new_string = []\n",
    "def splitByCharacter(string1, char):\n",
    "    for ch in string1:\n",
    "        if ch == char:\n",
    "            string1.replace(ch,\" \")\n",
    "        new_string.append(string1)\n",
    "    print(new_string)\n",
    "\n",
    "print(splitByCharacter(string1, char))\n"
   ]
  },
  {
   "cell_type": "markdown",
   "id": "f12cc8c9",
   "metadata": {
    "id": "f12cc8c9"
   },
   "source": [
    "#### 10. Create a function which takes a txt filename as input and returns the number of words in that file."
   ]
  },
  {
   "cell_type": "code",
   "execution_count": 45,
   "id": "46492494",
   "metadata": {
    "id": "46492494"
   },
   "outputs": [
    {
     "name": "stdout",
     "output_type": "stream",
     "text": [
      "Number of words in file: 121\n"
     ]
    }
   ],
   "source": [
    "doc = input(\"Enter filename (name.txt): \")\n",
    "\n",
    "\n",
    "def countWords(doc):\n",
    "    with open(doc, \"r\") as file:   \n",
    "        text = file.read()            \n",
    "        words = text.split()           \n",
    "        return len(words)             \n",
    "\n",
    "\n",
    "print(\"Number of words in file:\", countWords(doc))\n"
   ]
  },
  {
   "cell_type": "markdown",
   "id": "b2666c95",
   "metadata": {
    "id": "b2666c95"
   },
   "source": [
    "#### 11. Create a function which takes a txt filename as input and returns the number of line in the file."
   ]
  },
  {
   "cell_type": "code",
   "execution_count": 46,
   "id": "5ff27d42",
   "metadata": {
    "id": "5ff27d42"
   },
   "outputs": [
    {
     "name": "stdout",
     "output_type": "stream",
     "text": [
      "Number of words in file: 42\n"
     ]
    }
   ],
   "source": [
    "doc = input(\"Enter filename (name.txt): \")\n",
    "\n",
    "\n",
    "def countWords(doc):\n",
    "    with open(doc, \"r\") as file:   \n",
    "        lines = file.readlines()  \n",
    "        return len(lines)             \n",
    "\n",
    "\n",
    "print(\"Number of words in file:\", countWords(doc))\n"
   ]
  },
  {
   "cell_type": "markdown",
   "id": "6722fb75",
   "metadata": {
    "id": "6722fb75"
   },
   "source": [
    "#### 12. Create a function that takes two txt filenames and returns a file after merging the cintents of two given files. (Print the merged content and then return the filename, content of original files should be unchanged)."
   ]
  },
  {
   "cell_type": "code",
   "execution_count": 47,
   "id": "6ce42ae4",
   "metadata": {},
   "outputs": [
    {
     "name": "stdout",
     "output_type": "stream",
     "text": [
      "Profile\n",
      "\n",
      "72 hrs visibility after update profile. \n",
      "Update profile before 10 AM\n",
      "Keywords in profile eg. data Analyst in Profile\n",
      "In demand Skills sets related to job profile\n",
      "\n",
      "Golden Hours - before 10 AM\n",
      "Most job searches - Monday to Wednesday from 10-12 - Morning\n",
      "wedn - fri  2 to 4 afternoon\n",
      "\n",
      "\n",
      "Weekend Advantage\n",
      "\n",
      "48 hr application role\n",
      "Apply filter last 48 hrs\n",
      "\n",
      "Profile Optimization\n",
      "\n",
      "headline hack - \n",
      "Experience + Role + Key skills + achievements + Goals\n",
      "\n",
      "Summary psychology\n",
      "\n",
      "Situation + task + Action + result\n",
      "\n",
      "\n",
      "Skills section\n",
      "Add all relevant skills\n",
      "top skills\n",
      "trending Skills\n",
      "\n",
      "\n",
      "Exp about previous job\n",
      "format\n",
      "\n",
      "First line = ur responsibity\n",
      "Second Point - Achievements with numbers\n",
      "Third - Technology/tools used\n",
      "Fourth- Impact on business/team\n",
      "\n",
      "\n",
      "\n",
      "qwqsasd\n",
      "Merged file created: MergedFiles.txt\n"
     ]
    }
   ],
   "source": [
    "file1 = input(\"Enter first filename (with .txt): \")\n",
    "file2 = input(\"Enter second filename (with .txt): \")\n",
    "\n",
    "def mergeFiles(file1, file2, merged_files = \"MergedFiles.txt\"):\n",
    "    with open(file1, \"r\") as f1:\n",
    "        data1 = f1.read()\n",
    "\n",
    "    with open(file2, \"r\") as f2:\n",
    "        data2 = f2.read()\n",
    "\n",
    "    merged = data1 + \"\\n\" + data2\n",
    "\n",
    "    with open(merged_files, \"w\") as f:\n",
    "        f.write(merged)\n",
    "    \n",
    "    print(merged)\n",
    "\n",
    "    return merged_files\n",
    "\n",
    "\n",
    "merged_filename = mergeFiles(file1, file2)\n",
    "print(\"Merged file created:\", merged_filename)"
   ]
  },
  {
   "cell_type": "markdown",
   "id": "faf26668",
   "metadata": {
    "id": "faf26668"
   },
   "source": [
    "#### 13. Write a program that takes a string as input and returns a list of all words having even length in that string (Using Map/Filter and Lambda expression)."
   ]
  },
  {
   "cell_type": "code",
   "execution_count": 49,
   "id": "955cd692",
   "metadata": {
    "id": "955cd692"
   },
   "outputs": [
    {
     "name": "stdout",
     "output_type": "stream",
     "text": [
      "Words with even length: ['name', \"'strin1'\", 'is']\n"
     ]
    }
   ],
   "source": [
    "string1 = input(\"Enter a string: \").split()\n",
    "\n",
    "\n",
    "even_words = list(filter(lambda w: len(w) % 2 == 0, string1))\n",
    "\n",
    "print(\"Words with even length:\", even_words)\n"
   ]
  }
 ],
 "metadata": {
  "colab": {
   "provenance": []
  },
  "kernelspec": {
   "display_name": "Python 3",
   "language": "python",
   "name": "python3"
  },
  "language_info": {
   "codemirror_mode": {
    "name": "ipython",
    "version": 3
   },
   "file_extension": ".py",
   "mimetype": "text/x-python",
   "name": "python",
   "nbconvert_exporter": "python",
   "pygments_lexer": "ipython3",
   "version": "3.13.7"
  }
 },
 "nbformat": 4,
 "nbformat_minor": 5
}
