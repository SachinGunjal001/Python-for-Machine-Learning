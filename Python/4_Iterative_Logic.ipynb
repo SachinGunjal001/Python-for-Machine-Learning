{
  "cells": [
    {
      "cell_type": "markdown",
      "id": "1dd6b730",
      "metadata": {
        "id": "1dd6b730"
      },
      "source": [
        "### 1.\n",
        "\n",
        "Write a function ``clap_tap`` that prints the integers from 1 to 100. But for multiples of three print \"Clap\" instead of the number, and for the multiples of five print \"Tap\". For numbers which are multiples of both three and five print \"ClapTap\"."
      ]
    },
    {
      "cell_type": "code",
      "execution_count": 11,
      "id": "04ae6248",
      "metadata": {
        "id": "04ae6248"
      },
      "outputs": [
        {
          "name": "stdout",
          "output_type": "stream",
          "text": [
            "1\n",
            "2\n",
            "Clap\n",
            "4\n",
            "Tap\n",
            "Clap\n",
            "7\n",
            "8\n",
            "Clap\n",
            "Tap\n",
            "11\n",
            "Clap\n",
            "13\n",
            "14\n",
            "ClapTap\n",
            "16\n",
            "17\n",
            "Clap\n",
            "19\n",
            "Tap\n",
            "Clap\n",
            "22\n",
            "23\n",
            "Clap\n",
            "Tap\n",
            "26\n",
            "Clap\n",
            "28\n",
            "29\n",
            "ClapTap\n",
            "31\n",
            "32\n",
            "Clap\n",
            "34\n",
            "Tap\n",
            "Clap\n",
            "37\n",
            "38\n",
            "Clap\n",
            "Tap\n",
            "41\n",
            "Clap\n",
            "43\n",
            "44\n",
            "ClapTap\n",
            "46\n",
            "47\n",
            "Clap\n",
            "49\n",
            "Tap\n",
            "Clap\n",
            "52\n",
            "53\n",
            "Clap\n",
            "Tap\n",
            "56\n",
            "Clap\n",
            "58\n",
            "59\n",
            "ClapTap\n",
            "61\n",
            "62\n",
            "Clap\n",
            "64\n",
            "Tap\n",
            "Clap\n",
            "67\n",
            "68\n",
            "Clap\n",
            "Tap\n",
            "71\n",
            "Clap\n",
            "73\n",
            "74\n",
            "ClapTap\n",
            "76\n",
            "77\n",
            "Clap\n",
            "79\n",
            "Tap\n",
            "Clap\n",
            "82\n",
            "83\n",
            "Clap\n",
            "Tap\n",
            "86\n",
            "Clap\n",
            "88\n",
            "89\n",
            "ClapTap\n",
            "91\n",
            "92\n",
            "Clap\n",
            "94\n",
            "Tap\n",
            "Clap\n",
            "97\n",
            "98\n",
            "Clap\n",
            "Tap\n",
            "None\n"
          ]
        }
      ],
      "source": [
        "\n",
        "start = 1\n",
        "end = 100\n",
        "\n",
        "def clap_tap():\n",
        "    for i in range(start, end+1):\n",
        "        if i % 3 == 0 and i % 5 == 0:\n",
        "            print(\"ClapTap\")\n",
        "        elif i % 3 == 0:\n",
        "            print(\"Clap\")\n",
        "        elif i % 5 == 0:\n",
        "            print(\"Tap\")\n",
        "        else:\n",
        "            print(i)\n",
        "\n",
        "print(clap_tap())"
      ]
    },
    {
      "cell_type": "markdown",
      "id": "ffc26930",
      "metadata": {
        "id": "ffc26930"
      },
      "source": [
        "### 2.\n",
        "\n",
        "ANIMAL CRACKERS: Write a function takes a two-word string and returns True if both words begin with same letter and returns False if both words begin with different letter\n",
        "- animal_crackers('Levelheaded Lion') --> True\n",
        "- animal_crackers('Cute Kangaroo') --> False"
      ]
    },
    {
      "cell_type": "code",
      "execution_count": 13,
      "id": "dbaf2f2a",
      "metadata": {
        "id": "dbaf2f2a"
      },
      "outputs": [
        {
          "name": "stdout",
          "output_type": "stream",
          "text": [
            "Sachin Gunjal\n",
            "False\n"
          ]
        }
      ],
      "source": [
        "def animal_crackers(text):\n",
        "    input1 = text.split()           \n",
        "    return input1[0][0].lower() == input1[1][0].lower()  \n",
        "\n",
        "string1 = input(\"Enter text: \")\n",
        "\n",
        "print(string1)   \n",
        "\n",
        "print(animal_crackers(string1))   \n"
      ]
    },
    {
      "cell_type": "markdown",
      "id": "eec7fc6c",
      "metadata": {
        "id": "eec7fc6c"
      },
      "source": [
        "### 3.\n",
        "\n",
        "Create a function ``shout_out`` Given a string, return a string where:\n",
        "for every character in the original there are three characters\n",
        "\n",
        "    - shout_out('character') --> 'ccchhhaaarrraaacccttteeerrr'\n",
        "    - shout_out('original') --> 'ooorrriiigggiiinnnaaalll'"
      ]
    },
    {
      "cell_type": "code",
      "execution_count": 2,
      "id": "4de40729",
      "metadata": {
        "id": "4de40729"
      },
      "outputs": [
        {
          "name": "stdout",
          "output_type": "stream",
          "text": [
            "SSSaaaccchhhiiinnn\n"
          ]
        }
      ],
      "source": [
        "def shout_out(text):\n",
        "    result = \"\"\n",
        "    for ch in text:\n",
        "        result += ch * 3\n",
        "    return result\n",
        "\n",
        "string1 = input(\"Enter text: \")\n",
        "\n",
        "print(shout_out(string1))  \n"
      ]
    },
    {
      "cell_type": "markdown",
      "id": "6739aeef",
      "metadata": {
        "id": "6739aeef"
      },
      "source": [
        "### 4.\n",
        "\n",
        "Create a function ``ignore_6_to_9`` that returns the sum of the numbers in the array, except ignore sections of numbers starting with a 6 and extending to the next 9 (every 6 will be followed by at least one 9). Return 0 for no numbers.\n",
        "\n",
        "- ignore_6_to_9([1, 3, 5]) --> 9\n",
        "- ignore_6_to_9([4, 5, 6, 7, 8, 9]) --> 9\n",
        "- ignore_6_to_9([2, 1, 6, 9, 11]) --> 14"
      ]
    },
    {
      "cell_type": "code",
      "execution_count": 9,
      "id": "1ec4e63e",
      "metadata": {
        "id": "1ec4e63e"
      },
      "outputs": [
        {
          "name": "stdout",
          "output_type": "stream",
          "text": [
            "7\n"
          ]
        }
      ],
      "source": [
        "list1 = list(map(int,input(\"Enter values in list: \").split()))\n",
        "\n",
        "def ignore_6_to_9(nums):\n",
        "    total = 0\n",
        "    ignore = False  \n",
        "    \n",
        "    for num in nums:\n",
        "        if num == 6:\n",
        "            ignore = True\n",
        "        if not ignore:\n",
        "            total += num\n",
        "        if num == 9 and ignore:\n",
        "            ignore = False \n",
        "    \n",
        "    return total\n",
        "\n",
        "\n",
        "print(ignore_6_to_9(list1))          \n"
      ]
    },
    {
      "cell_type": "markdown",
      "id": "af46e819",
      "metadata": {
        "id": "af46e819"
      },
      "source": [
        "### 5.\n",
        "\n",
        "Write a program to iterate the first 10 numbers and in each iteration, print the sum of the current and previous number.\n",
        "\n",
        "- Current Number 0 Previous Number  0  Sum:  0\n",
        "- Current Number 1 Previous Number  0  Sum:  1 and so on"
      ]
    },
    {
      "cell_type": "code",
      "execution_count": 29,
      "id": "830a0664",
      "metadata": {
        "id": "830a0664"
      },
      "outputs": [
        {
          "name": "stdout",
          "output_type": "stream",
          "text": [
            "Current Number: 0, Previous Number: 0, Sum: 0\n",
            "Current Number: 1, Previous Number: 0, Sum: 1\n",
            "Current Number: 2, Previous Number: 1, Sum: 3\n",
            "Current Number: 3, Previous Number: 2, Sum: 5\n",
            "Current Number: 4, Previous Number: 3, Sum: 7\n",
            "Current Number: 5, Previous Number: 4, Sum: 9\n",
            "Current Number: 6, Previous Number: 5, Sum: 11\n",
            "Current Number: 7, Previous Number: 6, Sum: 13\n",
            "Current Number: 8, Previous Number: 7, Sum: 15\n",
            "Current Number: 9, Previous Number: 8, Sum: 17\n"
          ]
        }
      ],
      "source": [
        "prev_num = 0  \n",
        "\n",
        "for i in range(10):  \n",
        "    sum_num = i + prev_num\n",
        "    print(f\"Current Number: {i}, Previous Number: {prev_num}, Sum: {sum_num}\")\n",
        "    prev_num = i \n"
      ]
    },
    {
      "cell_type": "code",
      "execution_count": null,
      "id": "113f4382",
      "metadata": {},
      "outputs": [],
      "source": []
    }
  ],
  "metadata": {
    "colab": {
      "provenance": []
    },
    "kernelspec": {
      "display_name": "Python 3",
      "language": "python",
      "name": "python3"
    },
    "language_info": {
      "codemirror_mode": {
        "name": "ipython",
        "version": 3
      },
      "file_extension": ".py",
      "mimetype": "text/x-python",
      "name": "python",
      "nbconvert_exporter": "python",
      "pygments_lexer": "ipython3",
      "version": "3.13.7"
    }
  },
  "nbformat": 4,
  "nbformat_minor": 5
}
