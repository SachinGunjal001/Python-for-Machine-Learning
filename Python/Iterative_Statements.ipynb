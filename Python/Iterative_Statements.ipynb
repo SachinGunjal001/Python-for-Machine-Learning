{
  "cells": [
    {
      "cell_type": "markdown",
      "id": "b462dadb",
      "metadata": {
        "id": "b462dadb"
      },
      "source": [
        "# Iterative Statements\n",
        "- Write solution of each question in the cell given below the corresponsing question."
      ]
    },
    {
      "cell_type": "markdown",
      "id": "f5aefe41",
      "metadata": {
        "id": "f5aefe41"
      },
      "source": [
        "#### 1. Tom and Bob are playing a game of dice. Each time a multiple of two comes up Tom gets a point and if a multiple of 3 comes up bob gets a point. If a multiple of both comes up then a point is deducted from both. Write a program to take a list as input consisting of 10 outcomes of the dice throw. Print the scores of both Tom and bob and the winner."
      ]
    },
    {
      "cell_type": "code",
      "execution_count": 13,
      "id": "WzFaY9Pk53Pl",
      "metadata": {
        "id": "WzFaY9Pk53Pl"
      },
      "outputs": [
        {
          "name": "stdout",
          "output_type": "stream",
          "text": [
            "Tom points:  2  \n",
            " Bob points:  0\n",
            "Tom Won\n"
          ]
        }
      ],
      "source": [
        "outcomes = list(map(int, input(\"Enter 10 outcomes: \").split()))\n",
        "#[2, 3, 2, 6, 4, 4, 6, 3, 3, 4]\n",
        "\n",
        "tom = 0\n",
        "bob = 0\n",
        "\n",
        "for i in range(len(outcomes)):\n",
        "    if (outcomes[i] % 3 == 0) and (outcomes[i] % 2 == 0):\n",
        "        tom = tom - 1\n",
        "        bob = bob - 1\n",
        "    \n",
        "    elif (outcomes[i] % 3 == 0):\n",
        "        bob = bob + 1\n",
        "\n",
        "    elif (outcomes[i] % 2 == 0):\n",
        "        tom = tom + 1\n",
        "\n",
        "\n",
        "print(\"Tom points: \",tom, \" \\n\",\"Bob points: \", bob)\n",
        "\n",
        "if tom > bob:\n",
        "    print(\"Tom Won\")\n",
        "else:\n",
        "    print(\"Bob won\")"
      ]
    },
    {
      "cell_type": "markdown",
      "id": "57ec6a53",
      "metadata": {
        "id": "57ec6a53"
      },
      "source": [
        "##### 2. Write a program to take a list of 10 numbers as input in single line and find out the largest element."
      ]
    },
    {
      "cell_type": "code",
      "execution_count": 14,
      "id": "scLsG4fkSyUu",
      "metadata": {
        "id": "scLsG4fkSyUu"
      },
      "outputs": [
        {
          "name": "stdout",
          "output_type": "stream",
          "text": [
            "7673\n"
          ]
        }
      ],
      "source": [
        "outcomes = list(map(int, input(\"Enter 10 outcomes: \").split()))\n",
        "\n",
        "print(max(outcomes))    "
      ]
    },
    {
      "cell_type": "markdown",
      "id": "ee2cce37",
      "metadata": {
        "id": "ee2cce37"
      },
      "source": [
        "#### 3. Write a program to take a number as input and find out whether it is prime or not."
      ]
    },
    {
      "cell_type": "code",
      "execution_count": 17,
      "id": "td2eirqTZCiE",
      "metadata": {
        "id": "td2eirqTZCiE"
      },
      "outputs": [
        {
          "name": "stdout",
          "output_type": "stream",
          "text": [
            "Number is Prime\n"
          ]
        }
      ],
      "source": [
        "num = int(input(\"Enter the number: \"))\n",
        "\n",
        "def Prime_number(num):\n",
        "    if num <= 1:\n",
        "        return False\n",
        "\n",
        "    for i in range(2, num):\n",
        "        if num % i == 0:\n",
        "            return \"Number is not Prime\"\n",
        "    return \"Number is Prime\"\n",
        "    \n",
        "print(Prime_number(num))\n",
        "         "
      ]
    },
    {
      "cell_type": "markdown",
      "id": "07d5a484",
      "metadata": {
        "id": "07d5a484"
      },
      "source": [
        "#### 4. Take a list and a number as input, print all consecutive pairs of two numbers from the list having sum equal to the given number."
      ]
    },
    {
      "cell_type": "code",
      "execution_count": 19,
      "id": "e3acd75f",
      "metadata": {
        "id": "e3acd75f"
      },
      "outputs": [
        {
          "name": "stdout",
          "output_type": "stream",
          "text": [
            "Number: 20\n",
            "sum of list:  20\n",
            "Sum is equal to number\n"
          ]
        }
      ],
      "source": [
        "num = int(input(\"Enter the number: \"))\n",
        "list_of_numbrs = list(map(int, input(\"Enter 10 outcomes: \").split()))\n",
        "\n",
        "sumOfList = sum(list_of_numbrs)\n",
        "\n",
        "print(\"Number:\",num)\n",
        "print(\"sum of list: \",sumOfList)\n",
        "\n",
        "if( num == sumOfList):\n",
        "    print(\"Sum is equal to number\")\n",
        "else:\n",
        "    print(\"Sum is not equal to number\")\n",
        "\n"
      ]
    },
    {
      "cell_type": "markdown",
      "id": "d2bc68d1",
      "metadata": {
        "id": "d2bc68d1"
      },
      "source": [
        "#### 5. Take a string as input and find out the number of words with even length and number of words with odd length."
      ]
    },
    {
      "cell_type": "code",
      "execution_count": 21,
      "id": "P1HffxgLZk6C",
      "metadata": {
        "id": "P1HffxgLZk6C"
      },
      "outputs": [
        {
          "name": "stdout",
          "output_type": "stream",
          "text": [
            "Number of odd words:  2\n",
            "Number of even words:  3\n"
          ]
        }
      ],
      "source": [
        "string = input(\"Enter the number: \")\n",
        "\n",
        "words = string.split()\n",
        "countEven = 0\n",
        "countOdd = 0\n",
        "for word in words:\n",
        "    if len(word) % 2 == 0:\n",
        "        countEven = countEven + 1\n",
        "    else:\n",
        "        countOdd = countOdd + 1\n",
        "\n",
        "        \n",
        "print(\"Number of odd words: \", countOdd)\n",
        "print(\"Number of even words: \", countEven)\n",
        "\n"
      ]
    },
    {
      "cell_type": "markdown",
      "id": "41da36a0",
      "metadata": {
        "id": "41da36a0"
      },
      "source": []
    },
    {
      "cell_type": "markdown",
      "id": "9bc04f36",
      "metadata": {
        "id": "9bc04f36"
      },
      "source": [
        "#### 6. Write a program to sort a given list using selection sort algorithm. (study selection sort and implement)"
      ]
    },
    {
      "cell_type": "code",
      "execution_count": null,
      "id": "3abb8c1e",
      "metadata": {
        "id": "3abb8c1e"
      },
      "outputs": [],
      "source": []
    },
    {
      "cell_type": "markdown",
      "id": "d2cf1bab",
      "metadata": {
        "id": "d2cf1bab"
      },
      "source": [
        "#### 7. Write a program to sort a given list using bubble sort algorithm. (Study bubble sort and implement)"
      ]
    },
    {
      "cell_type": "code",
      "execution_count": null,
      "id": "OJAUtZLmyvMk",
      "metadata": {
        "id": "OJAUtZLmyvMk"
      },
      "outputs": [],
      "source": []
    },
    {
      "cell_type": "markdown",
      "id": "1910df79",
      "metadata": {
        "id": "1910df79"
      },
      "source": [
        "#### 8. Take a string and a word and input. Find the frequenecy of occurrence of the word in the given string. (Without using any inbuilt function)"
      ]
    },
    {
      "cell_type": "code",
      "execution_count": null,
      "id": "c50d4a3c",
      "metadata": {
        "id": "c50d4a3c"
      },
      "outputs": [],
      "source": [
        "\n",
        "\n"
      ]
    },
    {
      "cell_type": "markdown",
      "id": "b05f15de",
      "metadata": {
        "id": "b05f15de"
      },
      "source": [
        "#### 9. Write a program to print the following pattern:"
      ]
    },
    {
      "cell_type": "code",
      "execution_count": null,
      "id": "5113af76",
      "metadata": {
        "colab": {
          "base_uri": "https://localhost:8080/"
        },
        "id": "5113af76",
        "outputId": "c86dd0d3-1a32-4fef-818e-852f636f919a"
      },
      "outputs": [
        {
          "name": "stdout",
          "output_type": "stream",
          "text": [
            "\n"
          ]
        }
      ],
      "source": [
        "'''\n",
        "5 4 3 2 1\n",
        "  4 3 2 1\n",
        "    3 2 1\n",
        "      2 1\n",
        "        1\n",
        "'''\n",
        "print()"
      ]
    },
    {
      "cell_type": "code",
      "execution_count": null,
      "id": "j7lsHqTI1-ZY",
      "metadata": {
        "id": "j7lsHqTI1-ZY"
      },
      "outputs": [],
      "source": []
    },
    {
      "cell_type": "markdown",
      "id": "279b94c8",
      "metadata": {
        "id": "279b94c8"
      },
      "source": [
        "#### 10. Write a program to print the following pattern:"
      ]
    },
    {
      "cell_type": "code",
      "execution_count": null,
      "id": "af2c05e5",
      "metadata": {
        "colab": {
          "base_uri": "https://localhost:8080/"
        },
        "id": "af2c05e5",
        "outputId": "a05270a6-9f54-461e-a195-d46c556e048d"
      },
      "outputs": [
        {
          "name": "stdout",
          "output_type": "stream",
          "text": [
            "\n"
          ]
        }
      ],
      "source": [
        "'''\n",
        "5 4 3 2 1\n",
        "4 3 2 1\n",
        "3 2 1\n",
        "2 1\n",
        "1\n",
        "'''\n",
        "print()"
      ]
    },
    {
      "cell_type": "code",
      "execution_count": null,
      "id": "a6502c4f",
      "metadata": {
        "id": "a6502c4f"
      },
      "outputs": [],
      "source": []
    }
  ],
  "metadata": {
    "colab": {
      "provenance": []
    },
    "kernelspec": {
      "display_name": "Python 3",
      "language": "python",
      "name": "python3"
    },
    "language_info": {
      "codemirror_mode": {
        "name": "ipython",
        "version": 3
      },
      "file_extension": ".py",
      "mimetype": "text/x-python",
      "name": "python",
      "nbconvert_exporter": "python",
      "pygments_lexer": "ipython3",
      "version": "3.13.7"
    }
  },
  "nbformat": 4,
  "nbformat_minor": 5
}
