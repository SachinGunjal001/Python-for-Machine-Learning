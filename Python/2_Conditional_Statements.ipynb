{
 "cells": [
  {
   "cell_type": "markdown",
   "id": "3a10df7a",
   "metadata": {
    "id": "3a10df7a"
   },
   "source": [
    "# Conditional Statements\n",
    "- Write solution of each question in the cell given below the corresponsing question."
   ]
  },
  {
   "cell_type": "markdown",
   "id": "60c2d89a",
   "metadata": {
    "id": "60c2d89a"
   },
   "source": [
    "#### 1. Take a list of numbers as input. Print whether the average is even or odd."
   ]
  },
  {
   "cell_type": "code",
   "execution_count": 46,
   "id": "Fh5bSu8vCRWU",
   "metadata": {
    "id": "Fh5bSu8vCRWU"
   },
   "outputs": [
    {
     "name": "stdout",
     "output_type": "stream",
     "text": [
      "Average is odd\n"
     ]
    }
   ],
   "source": [
    "nums = input(\"Enter numbers: \").split()\n",
    "for i in range(len(nums)):\n",
    "    nums[i] = int(nums[i])\n",
    "\n",
    "\n",
    "if (sum(nums) / len(nums)) % 2 == 0:\n",
    "    print(\"Average is even\")\n",
    "else:\n",
    "    print(\"Average is odd\")\n"
   ]
  },
  {
   "cell_type": "markdown",
   "id": "4846bb19",
   "metadata": {
    "id": "4846bb19"
   },
   "source": [
    "#### 2. Take three strings as input. Calculate the number of words in each string and find out the list having highest number of words."
   ]
  },
  {
   "cell_type": "code",
   "execution_count": null,
   "id": "pfGpZ9okCTfV",
   "metadata": {
    "id": "pfGpZ9okCTfV"
   },
   "outputs": [
    {
     "name": "stdout",
     "output_type": "stream",
     "text": [
      "String with the 2nd highest number of words: sachin e\n"
     ]
    }
   ],
   "source": [
    "\n",
    "str1 = input(\"Enter string1:\")\n",
    "str2 = input(\"Enter string2:\")\n",
    "str3 = input(\"Enter string3:\")\n",
    "\n",
    "l1 = [str1, str2, str3]\n",
    "max_l1 = l1[0]\n",
    "\n",
    "for i in l1:\n",
    "    if(len(i) > len(max_l1)):\n",
    "        max_l1 = i\n",
    "\n",
    "print(\"List of highest number of words: \", max_l1)\n"
   ]
  },
  {
   "cell_type": "markdown",
   "id": "0e0d8196",
   "metadata": {
    "id": "0e0d8196"
   },
   "source": [
    "#### 3. Take four numbers as input in a single line. Find out the largest number."
   ]
  },
  {
   "cell_type": "code",
   "execution_count": 27,
   "id": "Fc_7ETl1CVMu",
   "metadata": {
    "id": "Fc_7ETl1CVMu"
   },
   "outputs": [
    {
     "name": "stdout",
     "output_type": "stream",
     "text": [
      "Largest number is: 65\n"
     ]
    }
   ],
   "source": [
    "nums = input(\"Enter four numbers (space separated): \").split()\n",
    "for i in range(len(nums)):\n",
    "    nums[i] = int(nums[i])\n",
    "print(\"Largest number is:\", max(nums))"
   ]
  },
  {
   "cell_type": "markdown",
   "id": "16c0440a",
   "metadata": {
    "id": "16c0440a"
   },
   "source": [
    "#### 4. Take four numbers as input and find the second largest numer."
   ]
  },
  {
   "cell_type": "code",
   "execution_count": null,
   "id": "RuBQfFAHWAlL",
   "metadata": {
    "id": "RuBQfFAHWAlL"
   },
   "outputs": [
    {
     "name": "stdout",
     "output_type": "stream",
     "text": [
      "list:  7\n",
      "Second largest number is: 5\n"
     ]
    }
   ],
   "source": [
    "nums = input(\"Enter four numbers (space separated): \").split()\n",
    "\n",
    "for i in range(len(nums)):\n",
    "    nums[i] = int(nums[i])\n",
    "nums.sort()\n",
    "\n",
    "print(\"Second largest number is:\", nums[-2])"
   ]
  },
  {
   "cell_type": "markdown",
   "id": "2f6641a4",
   "metadata": {
    "id": "2f6641a4"
   },
   "source": [
    "#### 5. Create a dictionary having three items. Key of each item is the name of a student, value associated with each key is a list of marks in five subjects. Given this dictionary print the top and lowest scorers."
   ]
  },
  {
   "cell_type": "code",
   "execution_count": 33,
   "id": "R5C1C61OYuls",
   "metadata": {
    "id": "R5C1C61OYuls"
   },
   "outputs": [
    {
     "name": "stdout",
     "output_type": "stream",
     "text": [
      "Top scorer Bob :  388\n",
      "Low scorer Bob :  329\n"
     ]
    }
   ],
   "source": [
    "students={'Tom':[89,98,45,67,89], 'Jon':[92,41,43,66,87], 'Bob':[67,53,89,89,34]}\n",
    "\n",
    "top_scorer = 0\n",
    "low_scorer = 0\n",
    "top_score = float('-inf')\n",
    "low_score = float('inf')\n",
    "\n",
    "for name, marks in students.items():\n",
    "    total = sum(marks)\n",
    "    if(total > top_score):\n",
    "        top_score = total\n",
    "        top_scorer = name\n",
    "\n",
    "    if total < low_score:\n",
    "        low_score = total\n",
    "        low_scorer = name\n",
    "    \n",
    "\n",
    "print(\"Top scorer\", name, \": \", top_score)\n",
    "print(\"Low scorer\", name, \": \", low_score)"
   ]
  },
  {
   "cell_type": "markdown",
   "id": "64db0791",
   "metadata": {
    "id": "64db0791"
   },
   "source": [
    "#### 6. Create a dictionary (called data) of having at least 5 items : Usernames as keys and Passwords as values. Write a program that takes a username and a password as input. If the credentials match any iteam in the given dictionary data then print acces granted otherwise print whether username, password or both are wrong."
   ]
  },
  {
   "cell_type": "code",
   "execution_count": 37,
   "id": "WtqLAvhiazaM",
   "metadata": {
    "id": "WtqLAvhiazaM"
   },
   "outputs": [
    {
     "name": "stdout",
     "output_type": "stream",
     "text": [
      "Access Granted\n"
     ]
    }
   ],
   "source": [
    "data = {\n",
    "    \"sachin\": \"sac123\",\n",
    "    \"sanket\": \"san123\",\n",
    "    \"sid\": \"sid123\",\n",
    "    \"sharad\": \"shar123\",\n",
    "    \"vivek\": \"viv123\"\n",
    "}\n",
    "\n",
    "username = input(\"Enter username: \")\n",
    "password = input(\"Entere your password: \")\n",
    "\n",
    "if username in data:\n",
    "    if data[username] == password:\n",
    "        print(\"Access Granted\")\n",
    "    else:\n",
    "        print(\"password is wrong\")\n",
    "else:\n",
    "    print(\"Username is wrong\")\n"
   ]
  },
  {
   "cell_type": "markdown",
   "id": "27c56bb8",
   "metadata": {
    "id": "27c56bb8"
   },
   "source": [
    "#### 7. Take a list as input in a single line containing 15 numbers as marks out of 100. The first five numbers in the list are marks of Tom, the middle 5 numbers are marks of Bob and the last 5 are the marks of Jon. Find out the top and lowest scorer."
   ]
  },
  {
   "cell_type": "code",
   "execution_count": 45,
   "id": "ah156U4T9iat",
   "metadata": {
    "id": "ah156U4T9iat"
   },
   "outputs": [
    {
     "name": "stdout",
     "output_type": "stream",
     "text": [
      "Top scorer: Jon with 65\n",
      "Low scorer: Tom with 15\n"
     ]
    }
   ],
   "source": [
    "marks = input(\"Enter marks of three students (Tom, Bob, Jon) (15 numbers space separated): \").split()\n",
    "for i in range(len(marks)):\n",
    "    marks[i] = int(marks[i])\n",
    "\n",
    "Tom = marks[0:5]\n",
    "Bob = marks[5:10]\n",
    "Jon = marks[10:15]\n",
    "\n",
    "students = {'Tom': Tom, 'Bob': Bob, 'Jon': Jon}\n",
    "\n",
    "top_scorer = \"\"\n",
    "low_scorer = \"\"\n",
    "top_score = float('-inf')\n",
    "low_score = float('inf')\n",
    "\n",
    "for name, marks in students.items():\n",
    "    total = sum(marks)\n",
    "    if total > top_score:\n",
    "        top_score = total\n",
    "        top_scorer = name\n",
    "    if total < low_score:\n",
    "        low_score = total\n",
    "        low_scorer = name\n",
    "\n",
    "print(\"Top scorer:\", top_scorer, \"with\", top_score)\n",
    "print(\"Low scorer:\", low_scorer, \"with\", low_score)"
   ]
  },
  {
   "cell_type": "markdown",
   "id": "20f59542",
   "metadata": {
    "id": "20f59542"
   },
   "source": [
    "#### 8. Take a number as input and print whether the number is a multiple of 3,5 or both."
   ]
  },
  {
   "cell_type": "code",
   "execution_count": 48,
   "id": "otWg3MXaYing",
   "metadata": {
    "id": "otWg3MXaYing"
   },
   "outputs": [
    {
     "name": "stdout",
     "output_type": "stream",
     "text": [
      "Number is a multiple of 3\n"
     ]
    }
   ],
   "source": [
    "num = int(input(\"Enter any number: \"))\n",
    "\n",
    "if num % 3 == 0 and num % 5 == 0:\n",
    "    print(\"Number is a multiple of both 3 and 5\")\n",
    "elif num % 3 == 0:\n",
    "    print(\"Number is a multiple of 3\")\n",
    "elif num % 5 == 0:\n",
    "    print(\"Number is a multiple of 5\")\n",
    "else:\n",
    "    print(\"Number is not a multiple of 3 or 5\")"
   ]
  },
  {
   "cell_type": "markdown",
   "id": "b770e791",
   "metadata": {
    "id": "b770e791"
   },
   "source": [
    "#### 9. Write a program to take three strings as input and print the string having second largest number of words."
   ]
  },
  {
   "cell_type": "code",
   "execution_count": null,
   "id": "BIaLOJ6eEvGO",
   "metadata": {
    "id": "BIaLOJ6eEvGO"
   },
   "outputs": [
    {
     "name": "stdout",
     "output_type": "stream",
     "text": [
      "String with the 2nd highest number of words: wdwa wdasd\n"
     ]
    }
   ],
   "source": [
    "\n",
    "str1 = input(\"Enter string1:\")\n",
    "str2 = input(\"Enter string2:\")\n",
    "str3 = input(\"Enter string3:\")\n",
    "\n",
    "l1 = [str1, str2, str3]\n",
    "\n",
    "second_highest = sorted(l1, key=lambda s: len(s.split()), reverse=True)[1]\n",
    "\n",
    "print(\"String with the 2nd highest number of words:\", second_highest)\n"
   ]
  },
  {
   "cell_type": "markdown",
   "id": "5a485c8c",
   "metadata": {
    "id": "5a485c8c"
   },
   "source": [
    "#### 10. Write a program to take four strings as input and print the string having third highest number of words."
   ]
  },
  {
   "cell_type": "code",
   "execution_count": 52,
   "id": "19Wx8OZqk3UQ",
   "metadata": {
    "id": "19Wx8OZqk3UQ"
   },
   "outputs": [
    {
     "name": "stdout",
     "output_type": "stream",
     "text": [
      "String with the 2nd highest number of words: sach\n"
     ]
    }
   ],
   "source": [
    "\n",
    "str1 = input(\"Enter string1:\")\n",
    "str2 = input(\"Enter string2:\")\n",
    "str3 = input(\"Enter string3:\")\n",
    "\n",
    "l1 = [str1, str2, str3]\n",
    "\n",
    "second_highest = sorted(l1, key=lambda s: len(s.split()), reverse=True)[2]\n",
    "\n",
    "print(\"String with the 2nd highest number of words:\", second_highest)\n"
   ]
  },
  {
   "cell_type": "code",
   "execution_count": null,
   "id": "859d21bb",
   "metadata": {},
   "outputs": [],
   "source": []
  }
 ],
 "metadata": {
  "colab": {
   "provenance": []
  },
  "kernelspec": {
   "display_name": "Python 3",
   "language": "python",
   "name": "python3"
  },
  "language_info": {
   "codemirror_mode": {
    "name": "ipython",
    "version": 3
   },
   "file_extension": ".py",
   "mimetype": "text/x-python",
   "name": "python",
   "nbconvert_exporter": "python",
   "pygments_lexer": "ipython3",
   "version": "3.13.7"
  }
 },
 "nbformat": 4,
 "nbformat_minor": 5
}
