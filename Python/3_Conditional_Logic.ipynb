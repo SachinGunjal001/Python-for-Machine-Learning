{
  "cells": [
    {
      "cell_type": "markdown",
      "id": "c6ec5c42",
      "metadata": {
        "id": "c6ec5c42"
      },
      "source": [
        "Practice"
      ]
    },
    {
      "cell_type": "markdown",
      "id": "8698053e",
      "metadata": {
        "id": "8698053e"
      },
      "source": [
        "### 1.\n",
        "\n",
        "Go through the string below and if the length of a word is even print \"even!\"\n",
        "\n",
        "string = 'I know how to print every word in this sentence that has an even number of letters'"
      ]
    },
    {
      "cell_type": "code",
      "execution_count": 12,
      "id": "4dec28a9",
      "metadata": {
        "id": "4dec28a9"
      },
      "outputs": [
        {
          "name": "stdout",
          "output_type": "stream",
          "text": [
            "string after formatting:  ['I', 'know!', 'how', 'to!', 'print', 'every', 'word!', 'in!', 'this!', 'sentence!', 'that!', 'has', 'an!', 'even!', 'number!', 'of!', 'letters']\n"
          ]
        }
      ],
      "source": [
        "string = 'I know how to print every word in this sentence that has an even number of letters'\n",
        "words = string.split()\n",
        "string1 = []\n",
        "\n",
        "for word in words:\n",
        "    if len(word) % 2 == 0:\n",
        "        string1.append(f\"{word}!\")   \n",
        "    else:\n",
        "        string1.append(word)         \n",
        "\n",
        "print(\"string after formatting: \", string1)\n"
      ]
    },
    {
      "cell_type": "markdown",
      "id": "8569bc4e",
      "metadata": {
        "id": "8569bc4e"
      },
      "source": [
        "### 2.\n",
        "\n",
        "Create a function ``lets_find_88`` Given a list of ints, return True if the array contains a 8 next to a 8 somewhere.\n",
        "- lets_find_88([1, 8, 8]) → True\n",
        "- lets_find_88([1, 8, 1, 8]) → False\n",
        "- lets_find_88([8, 1, 8]) → False"
      ]
    },
    {
      "cell_type": "code",
      "execution_count": 5,
      "id": "9ccfca15",
      "metadata": {
        "id": "9ccfca15"
      },
      "outputs": [
        {
          "name": "stdout",
          "output_type": "stream",
          "text": [
            "False\n",
            "True\n"
          ]
        }
      ],
      "source": [
        "def lets_find_88(nums):\n",
        "    for i  in range(len(nums)-1):\n",
        "        if(nums[i] == 8 and  nums[i+1] == 8):\n",
        "            return True\n",
        "    return False\n",
        "    \n",
        "nums = input(\"Enter numbers in list: \")\n",
        "print(lets_find_88(nums))\n",
        "print(lets_find_88([1,8,8]))"
      ]
    },
    {
      "cell_type": "markdown",
      "id": "40759409",
      "metadata": {
        "id": "40759409"
      },
      "source": [
        "### 3. Calculate and display the sum of all the numbers divisible by 7 between 18 and 534.\n",
        "\n"
      ]
    },
    {
      "cell_type": "code",
      "execution_count": 22,
      "id": "f7409469",
      "metadata": {
        "id": "f7409469"
      },
      "outputs": [
        {
          "name": "stdout",
          "output_type": "stream",
          "text": [
            "Total sum of numbers divisible by 7 between 18 to 534 is  20461\n"
          ]
        }
      ],
      "source": [
        "l1 = list(range(18, 534))\n",
        "TotalSum = 0\n",
        "for i in range(len(l1)):\n",
        "    if(l1[i] % 7 == 0):\n",
        "        TotalSum += l1[i]\n",
        "    \n",
        "\n",
        "print(\"Total sum of numbers divisible by 7 between 18 to 534 is \", TotalSum)\n"
      ]
    },
    {
      "cell_type": "markdown",
      "id": "0dd3847a",
      "metadata": {
        "id": "0dd3847a"
      },
      "source": [
        "### 4.\n",
        "\n",
        "Create a list containing the following 3 elements:\n",
        "\n",
        "- Subject person had taken\n",
        "- Marks Achieved\n",
        "- a boolean value showing previous programming experience\n",
        "\n",
        "and Complete the following 'print' and 'if' statements by accessing the appropriate elements from my_list."
      ]
    },
    {
      "cell_type": "code",
      "execution_count": 28,
      "id": "5c87efcb",
      "metadata": {
        "id": "5c87efcb"
      },
      "outputs": [
        {
          "name": "stdout",
          "output_type": "stream",
          "text": [
            "Subject:  sac\n",
            "marks Achieved:  45\n",
            "Yes, Person has programming experience\n"
          ]
        }
      ],
      "source": [
        "Sub = input(\"Enter the subject: \")\n",
        "marks = int(input(\"Enter hte marks: \"))\n",
        "exp = input(\"programming experience? (Yes/No): \")\n",
        "\n",
        "# need to convert to boolean\n",
        "\n",
        "if exp== \"Yes\":\n",
        "    exp = True\n",
        "else:\n",
        "    exp = False\n",
        "\n",
        "Std_info = [Sub, marks, exp]\n",
        "\n",
        "print(\"Subject: \", Std_info[0])\n",
        "print(\"marks Achieved: \", Std_info[1])\n",
        "\n",
        "if Std_info[2]:\n",
        "    print(\"Yes, Person has programming experience\")\n",
        "else:\n",
        "    print(\"No, Person dont have programming experience\")"
      ]
    },
    {
      "cell_type": "markdown",
      "id": "a54510f0",
      "metadata": {
        "id": "a54510f0"
      },
      "source": [
        "### 5.\n",
        "\n",
        "Write a function to return True if the first and last number of a given list is same. If numbers are different then return False.\n",
        "\n",
        "- [11, 13, 17, 19, 11] --> True\n",
        "- [24, 36, 12, 31, 42] --> False"
      ]
    },
    {
      "cell_type": "code",
      "execution_count": 34,
      "id": "5d53ba1f",
      "metadata": {
        "id": "5d53ba1f"
      },
      "outputs": [
        {
          "data": {
            "text/plain": [
              "True"
            ]
          },
          "execution_count": 34,
          "metadata": {},
          "output_type": "execute_result"
        }
      ],
      "source": [
        "nums = input(\"Enter four numbers (space separated): \").split()\n",
        "for i in range(len(nums)):\n",
        "    nums[i] = int(nums[i])\n",
        "\n",
        "def check_first_last(nums):\n",
        "    if(nums[0] == nums[-1]):\n",
        "        return True\n",
        "    return False\n",
        "\n",
        "check_first_last(nums)\n"
      ]
    }
  ],
  "metadata": {
    "colab": {
      "provenance": []
    },
    "kernelspec": {
      "display_name": "Python 3",
      "language": "python",
      "name": "python3"
    },
    "language_info": {
      "codemirror_mode": {
        "name": "ipython",
        "version": 3
      },
      "file_extension": ".py",
      "mimetype": "text/x-python",
      "name": "python",
      "nbconvert_exporter": "python",
      "pygments_lexer": "ipython3",
      "version": "3.13.7"
    }
  },
  "nbformat": 4,
  "nbformat_minor": 5
}
