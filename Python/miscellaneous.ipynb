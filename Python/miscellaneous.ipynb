{
 "cells": [
  {
   "cell_type": "markdown",
   "id": "27d08ee4",
   "metadata": {},
   "source": [
    "Write a Python function that prints out the first n rows of Pascal's triangle"
   ]
  },
  {
   "cell_type": "code",
   "execution_count": null,
   "id": "f3b645bb",
   "metadata": {},
   "outputs": [],
   "source": [
    "          1\n",
    "         1 1\n",
    "        1 2 1\n",
    "       1 3 3 1\n",
    "      1 4 6 4 1"
   ]
  },
  {
   "cell_type": "code",
   "execution_count": null,
   "id": "d810d78e",
   "metadata": {},
   "outputs": [],
   "source": []
  },
  {
   "cell_type": "code",
   "execution_count": null,
   "id": "0c3d6fe2",
   "metadata": {},
   "outputs": [],
   "source": [
    "Write a function to print following pattern\n",
    "\n",
    "    1\n",
    "    2  4\n",
    "    3  6  9\n",
    "    4  8  12  16\n",
    "    5  10  15  20  25\n",
    "    6  12  18  24  30  36\n",
    "    7  14  21  28  35  42  49\n",
    "    8  16  24  32  40  48  56  64"
   ]
  },
  {
   "cell_type": "code",
   "execution_count": null,
   "id": "66405ea1",
   "metadata": {},
   "outputs": [],
   "source": []
  },
  {
   "cell_type": "markdown",
   "id": "d8f77f92",
   "metadata": {},
   "source": [
    "Write a function ``how_many_primes`` that returns the number of prime numbers that exist up to and including a given number\n",
    "\n",
    "- how_many_primes(100) --> 25"
   ]
  },
  {
   "cell_type": "code",
   "execution_count": 2,
   "id": "69504844",
   "metadata": {},
   "outputs": [
    {
     "name": "stdout",
     "output_type": "stream",
     "text": [
      "Prime numbers till 200 : 46\n"
     ]
    }
   ],
   "source": [
    "num = int(input(\"Enter the number: \"))\n",
    "\n",
    "def Prime_count(num):\n",
    "    count = 0\n",
    "    for n in range(2, num + 1):        \n",
    "        for i in range(2, n):\n",
    "            if n % i == 0:\n",
    "                break\n",
    "        else:   \n",
    "            count += 1\n",
    "    return count\n",
    "\n",
    "print(\"Prime numbers till\", num, \":\", Prime_count(num))\n"
   ]
  },
  {
   "cell_type": "markdown",
   "id": "dd150c27",
   "metadata": {},
   "source": [
    "b = open(\"assignment.txt\")\n",
    "\n",
    "Consider the code given above and write the answers to the following :\n",
    "\n",
    "- Identify the name of the file : assignment.txt\n",
    "- Identify the name of the function used above : open()\n",
    "- What is 'b' in above code : file object (also called file handler) that refers to the opened file\n",
    "- The above statement will  OPEN file in READ mode BY DEFAULT."
   ]
  },
  {
   "cell_type": "markdown",
   "id": "5e306009",
   "metadata": {},
   "source": [
    "Accept five hobbies from the user and write in a file 'hobby.txt'. Then Read the file to list out all the 5 hobbies from the user.\n"
   ]
  },
  {
   "cell_type": "code",
   "execution_count": null,
   "id": "ea9545fa",
   "metadata": {},
   "outputs": [
    {
     "name": "stdout",
     "output_type": "stream",
     "text": [
      "Read\n",
      "Write\n",
      "Sing\n",
      "Play\n",
      "Swim\n",
      "\n",
      "Merged file created: hobby.txt\n"
     ]
    }
   ],
   "source": [
    "hobby = input(\"Enter 5 hobbies: \").split()\n",
    "\n",
    "def Write_Read_Hobby(hobby, hobbyFiles=\"hobby.txt\"):\n",
    "\n",
    "    with open(hobbyFiles, \"w\") as hw:\n",
    "        for h in hobby:\n",
    "            hw.write(h + \"\\n\")\n",
    "\n",
    "    with open(hobbyFiles, \"r\") as hr:\n",
    "        read_file = hr.read()\n",
    "\n",
    "    print(read_file)\n",
    "    return hobbyFiles\n",
    "\n",
    "\n",
    "Readable_file = Write_Read_Hobby(hobby)\n",
    "print(\"Merged file created:\", Readable_file)\n"
   ]
  },
  {
   "cell_type": "code",
   "execution_count": null,
   "id": "cc8c1e42",
   "metadata": {},
   "outputs": [],
   "source": []
  }
 ],
 "metadata": {
  "kernelspec": {
   "display_name": "Python 3",
   "language": "python",
   "name": "python3"
  },
  "language_info": {
   "codemirror_mode": {
    "name": "ipython",
    "version": 3
   },
   "file_extension": ".py",
   "mimetype": "text/x-python",
   "name": "python",
   "nbconvert_exporter": "python",
   "pygments_lexer": "ipython3",
   "version": "3.13.7"
  }
 },
 "nbformat": 4,
 "nbformat_minor": 5
}
