{
 "cells": [
  {
   "cell_type": "markdown",
   "id": "9cacd9e4",
   "metadata": {
    "id": "9cacd9e4"
   },
   "source": [
    "# Data Types & Basic Programs\n",
    "- Write solution of each question in the cell given below the corresponsing question."
   ]
  },
  {
   "cell_type": "markdown",
   "id": "a36a3683",
   "metadata": {
    "id": "a36a3683"
   },
   "source": [
    "#### 1. Write a program to take principal amount, rate and interest as input and calculate simple interest."
   ]
  },
  {
   "cell_type": "code",
   "execution_count": 10,
   "id": "iyGa2yN7bkZL",
   "metadata": {
    "colab": {
     "base_uri": "https://localhost:8080/",
     "height": 130
    },
    "id": "iyGa2yN7bkZL",
    "outputId": "43c86045-073b-48a6-b7fb-8895e19b4b9c"
   },
   "outputs": [
    {
     "name": "stdout",
     "output_type": "stream",
     "text": [
      "Total Simple interest is: 5000.0\n",
      "Total Payable amount after interest is: 10000.0\n"
     ]
    }
   ],
   "source": [
    "P_amount = float(input(\"Enter total amount: \"))\n",
    "Rate = float(input(\"Enter rate in %: \"))\n",
    "N = float(input(\"Enter years: \"))\n",
    "\n",
    "def SimpleInterest(P_amount, Rate, N):\n",
    "    I = (P_amount * Rate * N) / 100\n",
    "    print(\"Total Simple interest is:\", I)\n",
    "    return I\n",
    "\n",
    "SI = SimpleInterest(P_amount, Rate, N)\n",
    "print(\"Total Payable amount after interest is:\", (SI + P_amount))"
   ]
  },
  {
   "cell_type": "markdown",
   "id": "3a9994e0",
   "metadata": {
    "id": "3a9994e0"
   },
   "source": [
    "#### 2. Write a program that takes a string as input and prints the number of words in the string."
   ]
  },
  {
   "cell_type": "code",
   "execution_count": 14,
   "id": "9VbTZFFQfHCm",
   "metadata": {
    "id": "9VbTZFFQfHCm"
   },
   "outputs": [
    {
     "name": "stdout",
     "output_type": "stream",
     "text": [
      "Total number of words in string is:  13\n"
     ]
    }
   ],
   "source": [
    "String = str(input(\"Enter any word: \"))\n",
    "\n",
    "No_of_Words = len(String)\n",
    "print(\"Total number of words in string is: \", No_of_Words)\n"
   ]
  },
  {
   "cell_type": "markdown",
   "id": "8a8d5e27",
   "metadata": {
    "id": "8a8d5e27"
   },
   "source": [
    "#### 3. Write a program to take a list of numbers as input (in a single line) and print the sum, avg, max and min elements."
   ]
  },
  {
   "cell_type": "code",
   "execution_count": 4,
   "id": "OUlGO6fiVlU7",
   "metadata": {
    "id": "OUlGO6fiVlU7"
   },
   "outputs": [
    {
     "name": "stdout",
     "output_type": "stream",
     "text": [
      "Your list is:  [23, 45, 67]\n",
      "Sum:  135\n",
      "Average:  45.0\n",
      "Max:  67\n",
      "Min:  23\n"
     ]
    }
   ],
   "source": [
    "n = int(input(\"Enter number of element: \"))\n",
    "l1 = []\n",
    "\n",
    "for i in range(n):\n",
    "    ele = int(input(f\"Enter element {i+1}: \"))\n",
    "    l1.append(ele)\n",
    "\n",
    "\n",
    "print(\"Your list is: \", l1)\n",
    "print(\"Sum: \", sum(l1))\n",
    "print(\"Average: \", sum(l1)/n)\n",
    "print(\"Max: \", max(l1))\n",
    "print(\"Min: \", min(l1))\n",
    "\n"
   ]
  },
  {
   "cell_type": "markdown",
   "id": "17dbd6e8",
   "metadata": {
    "id": "17dbd6e8"
   },
   "source": [
    "#### 4. Write a program to take the marks of 3 students in five subjects each as a list (one list for each input) as input and print the average score of each student.."
   ]
  },
  {
   "cell_type": "code",
   "execution_count": 13,
   "id": "BTd2sM7i9sui",
   "metadata": {
    "id": "BTd2sM7i9sui"
   },
   "outputs": [
    {
     "name": "stdout",
     "output_type": "stream",
     "text": [
      "Enter marks for Student 1:\n",
      "Average marks for std1: 50.0\n",
      "Enter marks for Student 2:\n",
      "Average marks for std2: 50.0\n",
      "Enter marks for Student 3:\n",
      "Average marks for std3: 50.0\n"
     ]
    }
   ],
   "source": [
    "sub = int(input(\"Enter number of subjects: \"))\n",
    "std1 = []\n",
    "std2 = []\n",
    "std3 = []\n",
    "\n",
    "print(\"Enter marks for Student 1:\")\n",
    "for i in range(sub):\n",
    "    ele = int(input(f\"  Subject {i+1}: \"))\n",
    "    std1.append(ele)\n",
    "print(\"Average marks for std1:\", sum(std1)/sub)\n",
    "\n",
    "print(\"Enter marks for Student 2:\")\n",
    "for i in range(sub):\n",
    "    ele = int(input(f\"  Subject {i+1}: \"))\n",
    "    std2.append(ele)\n",
    "print(\"Average marks for std2:\", sum(std2)/sub)\n",
    "\n",
    "print(\"Enter marks for Student 3:\")\n",
    "for i in range(sub):\n",
    "    ele = int(input(f\"  Subject {i+1}: \"))\n",
    "    std3.append(ele)\n",
    "print(\"Average marks for std3:\", sum(std3)/sub)"
   ]
  },
  {
   "cell_type": "markdown",
   "id": "39fb8526",
   "metadata": {
    "id": "39fb8526"
   },
   "source": [
    "#### 5. Write a program to take a list as input containing results of 10 coin tosses as 'H' or 'T'. Jon gets a point for each 'T' and Tom gets a point for each 'H'. print the points recieved by both."
   ]
  },
  {
   "cell_type": "code",
   "execution_count": 18,
   "id": "Ijvfc63fHr8B",
   "metadata": {
    "id": "Ijvfc63fHr8B"
   },
   "outputs": [
    {
     "name": "stdout",
     "output_type": "stream",
     "text": [
      "Jon's points: 7\n",
      "Tom's points: 3\n"
     ]
    }
   ],
   "source": [
    "tosses = input(\"Enter results of 10 coin tosses (H or T, space separated): \")\n",
    "\n",
    "jon = 0\n",
    "tom = 0\n",
    "\n",
    "for i in tosses:\n",
    "    if i == 'T':\n",
    "        jon += 1\n",
    "    elif i == 'H':\n",
    "        tom += 1\n",
    "\n",
    "print(\"Jon's points:\", jon)\n",
    "print(\"Tom's points:\", tom)"
   ]
  },
  {
   "cell_type": "markdown",
   "id": "4a6dc391",
   "metadata": {
    "id": "4a6dc391"
   },
   "source": [
    "#### 6. Take two numbers as input and print the result after swapping them. (Without using multiple assignment and any extra variable)."
   ]
  },
  {
   "cell_type": "code",
   "execution_count": 19,
   "id": "oiSoXznqZbC_",
   "metadata": {
    "id": "oiSoXznqZbC_"
   },
   "outputs": [
    {
     "name": "stdout",
     "output_type": "stream",
     "text": [
      "After swapping: \n",
      "n:  8\n",
      "m:  4\n"
     ]
    }
   ],
   "source": [
    "\n",
    "n = int(input(\"Enter number: \"))\n",
    "m = int(input(\"Enter Another number: \"))\n",
    "\n",
    "n = n+m\n",
    "m = n-m\n",
    "n = n-m\n",
    "\n",
    "print(\"After swapping: \")\n",
    "print(\"n: \", n)\n",
    "print(\"m: \", m)"
   ]
  },
  {
   "cell_type": "markdown",
   "id": "b0059e36",
   "metadata": {
    "id": "b0059e36"
   },
   "source": [
    "#### 7. Take a list as input in a single line containing 10 numbers as marks out of 100. The even positions in the list are marks of Tom and the odd positions are the marks of Jon. Calculate the average marks of both."
   ]
  },
  {
   "cell_type": "code",
   "execution_count": 29,
   "id": "dzK-bSIM6rh6",
   "metadata": {
    "id": "dzK-bSIM6rh6"
   },
   "outputs": [
    {
     "name": "stdout",
     "output_type": "stream",
     "text": [
      "Jon's Avg: 3.0\n",
      "Tom's avg: 2.0\n"
     ]
    }
   ],
   "source": [
    "tosses = list(map(int, input(\"Enter 10 numbers between 1 to 100 (space separated): \").split()))\n",
    "\n",
    "jon = []\n",
    "tom = []\n",
    "\n",
    "for i in tosses:\n",
    "    if i%2 == 0:\n",
    "        tom.append(i)\n",
    "    elif i%2 == 1:\n",
    "        jon.append(i)\n",
    "    else:\n",
    "        print(\"Invalid number\")\n",
    "    \n",
    "print(\"Jon's Avg:\", sum(jon)/len(jon))\n",
    "print(\"Tom's avg:\", sum(tom)/len(tom))"
   ]
  },
  {
   "cell_type": "markdown",
   "id": "f07dab7c",
   "metadata": {
    "id": "f07dab7c"
   },
   "source": [
    "#### 8. Take a string and a character as input. Print the result having the character between each word of the given string."
   ]
  },
  {
   "cell_type": "code",
   "execution_count": 30,
   "id": "Bak8JEWdAAFv",
   "metadata": {
    "id": "Bak8JEWdAAFv"
   },
   "outputs": [
    {
     "data": {
      "text/plain": [
       "'worldPisPgood'"
      ]
     },
     "execution_count": 30,
     "metadata": {},
     "output_type": "execute_result"
    }
   ],
   "source": [
    "String = input(\"Enter string: \")\n",
    "Ch = input(\"Enter Character: \")\n",
    "\n",
    "Char_btn_word = String.replace(\" \", Ch)\n",
    "\n",
    "Char_btn_word"
   ]
  },
  {
   "cell_type": "markdown",
   "id": "a45320b7",
   "metadata": {
    "id": "a45320b7"
   },
   "source": [
    "#### 9. Create a dictionary having three items. Key of each item is the name of a student, value associated with each key is a list of marks in five subjects. Given this dictionary print the average score of each student."
   ]
  },
  {
   "cell_type": "code",
   "execution_count": 37,
   "id": "_WpSWzXdLyri",
   "metadata": {
    "id": "_WpSWzXdLyri"
   },
   "outputs": [
    {
     "name": "stdout",
     "output_type": "stream",
     "text": [
      "Sachin : 88.4\n",
      "Rahul : 83.4\n",
      "Ram : 90.2\n"
     ]
    }
   ],
   "source": [
    "dict = {\n",
    "    \"Sachin\": [89,98,78,87,90],\n",
    "    \"Rahul\": [78,98,76,78,87],\n",
    "    \"Ram\": [98,87,89,90,87]\n",
    "}\n",
    "\n",
    "for name, marks in dict.items():\n",
    "    average = sum(marks)/len(marks)\n",
    "    print(name,\":\", average)"
   ]
  },
  {
   "cell_type": "markdown",
   "id": "aba63bd1",
   "metadata": {
    "id": "aba63bd1"
   },
   "source": [
    "#### 10. Take a string as input(may contain repetitive words), print a list consisting of unique words from the given string."
   ]
  },
  {
   "cell_type": "code",
   "execution_count": 41,
   "id": "Wrc5hOBIF-ww",
   "metadata": {
    "id": "Wrc5hOBIF-ww"
   },
   "outputs": [
    {
     "name": "stdout",
     "output_type": "stream",
     "text": [
      "Unique words:  ['Ram', 'is', 'not']\n"
     ]
    }
   ],
   "source": [
    "string = input(\"Enter string: \").split()\n",
    "uniq = []\n",
    "\n",
    "for i in string:\n",
    "    if i not in uniq:\n",
    "        uniq.append(i)\n",
    "\n",
    "print(\"Unique words: \", uniq)\n",
    "    "
   ]
  },
  {
   "cell_type": "code",
   "execution_count": null,
   "id": "14b661f6",
   "metadata": {},
   "outputs": [],
   "source": []
  }
 ],
 "metadata": {
  "colab": {
   "provenance": []
  },
  "kernelspec": {
   "display_name": "Python 3",
   "language": "python",
   "name": "python3"
  },
  "language_info": {
   "codemirror_mode": {
    "name": "ipython",
    "version": 3
   },
   "file_extension": ".py",
   "mimetype": "text/x-python",
   "name": "python",
   "nbconvert_exporter": "python",
   "pygments_lexer": "ipython3",
   "version": "3.13.7"
  }
 },
 "nbformat": 4,
 "nbformat_minor": 5
}
